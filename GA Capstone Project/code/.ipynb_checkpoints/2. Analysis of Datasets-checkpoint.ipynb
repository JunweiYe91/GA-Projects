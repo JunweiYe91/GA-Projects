{
 "cells": [
  {
   "cell_type": "markdown",
   "id": "c3004df5",
   "metadata": {},
   "source": [
    "<img src=\"http://imgur.com/1ZcRyrc.png\" style=\"float: left; margin: 20px; height: 55px\">\n",
    "\n",
    "# Capstone: Credit Card Recommender"
   ]
  },
  {
   "cell_type": "markdown",
   "id": "792ef605",
   "metadata": {},
   "source": [
    "---\n",
    "## Problem Statement\n",
    "You've want to sign up for a credit card that best fits you, but you've realised that you will need to comb through all card descriptions, conditions and reviews in order to decide which card is the best. You find that it is very inconvenient and as a data scientist, you decide to take it upon yourself to build a credit card recommender.\n",
    "\n",
    "Use different techniques to analyse the reviews, credit card conditions to derive a credit card recommender that could help to save a lot of time when choosing a credit card."
   ]
  },
  {
   "cell_type": "markdown",
   "id": "3373e4d6",
   "metadata": {},
   "source": [
    "### Contents:\n",
    "- [Background](#Background)\n",
    "- [Datasets Used](#Datasets-Used)\n",
    "- [Extraction of Data](#Extraction-of-Data)\n",
    "- [Data Import & Cleaning](#Data-Import-and-Cleaning)\n",
    "- [Data Dictionary](#Data-Dictionary)\n",
    "- [Pre-processing text data](#Pre-processing-text-data)\n",
    "- [Exploratory Data Analysis](#Exploratory-Data-Analysis)\n",
    "- [Sentiment Analysis Using BERT](#Sentiment-Analysis-Using-BERT)"
   ]
  },
  {
   "cell_type": "markdown",
   "id": "b0c3c91d",
   "metadata": {},
   "source": [
    "## Background"
   ]
  },
  {
   "cell_type": "markdown",
   "id": "dd4a8007",
   "metadata": {},
   "source": [
    "All credit cards in Singapore offer some sort of reward for using them for your purchases, which include incentives like cashback, reward points (which can be traded for air miles, discount vouchers or actual products), or airline miles. However, the most common reward, and perhaps the most enticing, would perhaps be cashback.\n",
    "\n",
    "For the uninitiated, cashback refers to receiving back a percentage of what you spend in the form of money. It is akin to getting a perpetual discount whenever you spend. Sounds too good to be true? It really is not. Credit card companies are constantly competing to provide the most competitive rewards for their customers - some cards offer lucrative sign-up promotions, while others offer higher cashbacks for niche spending categories like travel or sustainability.\n",
    "\n",
    "With so many cards available on the market to choose from, it is no wonder that Singaporeans have a hard time deciding which is the best credit card in Singapore. In particular, it is hard to compare the different cashback rewards across multiple categories for various credit cards. [(source)](https://sg.news.yahoo.com/three-reasons-why-own-credit-104237659.html)"
   ]
  },
  {
   "cell_type": "markdown",
   "id": "f2c3bd23",
   "metadata": {},
   "source": [
    "## Datasets Used"
   ]
  },
  {
   "cell_type": "markdown",
   "id": "be3c4d1d",
   "metadata": {},
   "source": [
    "Data in this used in the analysis consists of credit card details and reviews scrapped from various websites. Please rerefer to the data dictionary for more information on the columns extracted."
   ]
  },
  {
   "cell_type": "markdown",
   "id": "5048ad7b",
   "metadata": {},
   "source": [
    "## Extraction of Data"
   ]
  },
  {
   "cell_type": "markdown",
   "id": "bc9578f5",
   "metadata": {},
   "source": [
    "Please refer to \"**1. Extraction of Data**\" for the steps done for data extraction."
   ]
  },
  {
   "cell_type": "markdown",
   "id": "2b89f6d8",
   "metadata": {},
   "source": [
    "## Data Import and Cleaning"
   ]
  },
  {
   "cell_type": "markdown",
   "id": "08b69948",
   "metadata": {},
   "source": [
    "**1. Importing of libraries**"
   ]
  },
  {
   "cell_type": "code",
   "execution_count": 1,
   "id": "a83a1cef",
   "metadata": {},
   "outputs": [],
   "source": [
    "# Import libraries\n",
    "import pandas as pd\n",
    "import string\n",
    "import re\n",
    "import nltk\n",
    "import numpy as np\n",
    "import pandas as pd\n",
    "import sklearn\n",
    "\n",
    "# Chart plotting libraries\n",
    "import matplotlib.pyplot as plt\n",
    "import seaborn as sns\n",
    "from wordcloud import WordCloud\n",
    "from PIL import Image\n",
    "\n",
    "# Modelling libraries\n",
    "from sklearn.feature_extraction.text import CountVectorizer, TfidfVectorizer\n",
    "from transformers import AutoTokenizer, AutoModelForSequenceClassification\n",
    "import torch\n",
    "\n",
    "# Ignore warnings\n",
    "import warnings\n",
    "warnings.filterwarnings(\"ignore\")"
   ]
  },
  {
   "cell_type": "markdown",
   "id": "26c3ac28",
   "metadata": {},
   "source": [
    "**2. Importing of datasets being used**"
   ]
  },
  {
   "cell_type": "markdown",
   "id": "19948d6e",
   "metadata": {},
   "source": [
    "We have imported the scraped_reviews dataset which we have extracted in \"**1. Extraction of Data**\"."
   ]
  },
  {
   "cell_type": "code",
   "execution_count": 2,
   "id": "b87a3237",
   "metadata": {},
   "outputs": [],
   "source": [
    "# Import dataset:\n",
    "scraped_reviews_df = pd.read_csv(\"../dataset/1. scraped_reviews_transposed.csv\")\n",
    "credit_card_type_df = pd.read_csv(\"../dataset/1. credit _card_type.csv\")"
   ]
  },
  {
   "cell_type": "markdown",
   "id": "76c015fd",
   "metadata": {},
   "source": [
    "**3. Display datasets**"
   ]
  },
  {
   "cell_type": "code",
   "execution_count": 3,
   "id": "2e82c59c",
   "metadata": {},
   "outputs": [
    {
     "name": "stdout",
     "output_type": "stream",
     "text": [
      "Scraped reviews dataset:\n"
     ]
    },
    {
     "data": {
      "text/html": [
       "<div>\n",
       "<style scoped>\n",
       "    .dataframe tbody tr th:only-of-type {\n",
       "        vertical-align: middle;\n",
       "    }\n",
       "\n",
       "    .dataframe tbody tr th {\n",
       "        vertical-align: top;\n",
       "    }\n",
       "\n",
       "    .dataframe thead th {\n",
       "        text-align: right;\n",
       "    }\n",
       "</style>\n",
       "<table border=\"1\" class=\"dataframe\">\n",
       "  <thead>\n",
       "    <tr style=\"text-align: right;\">\n",
       "      <th></th>\n",
       "      <th>Unnamed: 0</th>\n",
       "      <th>reviews</th>\n",
       "    </tr>\n",
       "  </thead>\n",
       "  <tbody>\n",
       "    <tr>\n",
       "      <th>0</th>\n",
       "      <td>standard-chartered-unlimited-cashback-credit-card</td>\n",
       "      <td>['My first credit card. One of the best cards ...</td>\n",
       "    </tr>\n",
       "    <tr>\n",
       "      <th>1</th>\n",
       "      <td>dbs-altitude-visa-signature-card</td>\n",
       "      <td>['Used to be my go-to general miles card but n...</td>\n",
       "    </tr>\n",
       "    <tr>\n",
       "      <th>2</th>\n",
       "      <td>uob-one-card</td>\n",
       "      <td>['Cashback was still ok, used to be better but...</td>\n",
       "    </tr>\n",
       "    <tr>\n",
       "      <th>3</th>\n",
       "      <td>posb-everyday-cashback</td>\n",
       "      <td>['POSB Everyday Card is a great option for fam...</td>\n",
       "    </tr>\n",
       "    <tr>\n",
       "      <th>4</th>\n",
       "      <td>dbs-womans-world-card</td>\n",
       "      <td>['An excellent card. One you should definitely...</td>\n",
       "    </tr>\n",
       "  </tbody>\n",
       "</table>\n",
       "</div>"
      ],
      "text/plain": [
       "                                          Unnamed: 0  \\\n",
       "0  standard-chartered-unlimited-cashback-credit-card   \n",
       "1                   dbs-altitude-visa-signature-card   \n",
       "2                                       uob-one-card   \n",
       "3                             posb-everyday-cashback   \n",
       "4                              dbs-womans-world-card   \n",
       "\n",
       "                                             reviews  \n",
       "0  ['My first credit card. One of the best cards ...  \n",
       "1  ['Used to be my go-to general miles card but n...  \n",
       "2  ['Cashback was still ok, used to be better but...  \n",
       "3  ['POSB Everyday Card is a great option for fam...  \n",
       "4  ['An excellent card. One you should definitely...  "
      ]
     },
     "metadata": {},
     "output_type": "display_data"
    },
    {
     "name": "stdout",
     "output_type": "stream",
     "text": [
      "Credit Card Type dataset:\n"
     ]
    },
    {
     "data": {
      "text/html": [
       "<div>\n",
       "<style scoped>\n",
       "    .dataframe tbody tr th:only-of-type {\n",
       "        vertical-align: middle;\n",
       "    }\n",
       "\n",
       "    .dataframe tbody tr th {\n",
       "        vertical-align: top;\n",
       "    }\n",
       "\n",
       "    .dataframe thead th {\n",
       "        text-align: right;\n",
       "    }\n",
       "</style>\n",
       "<table border=\"1\" class=\"dataframe\">\n",
       "  <thead>\n",
       "    <tr style=\"text-align: right;\">\n",
       "      <th></th>\n",
       "      <th>credit_card_name</th>\n",
       "      <th>card_type</th>\n",
       "    </tr>\n",
       "  </thead>\n",
       "  <tbody>\n",
       "    <tr>\n",
       "      <th>0</th>\n",
       "      <td>standard-chartered-unlimited-cashback-credit-card</td>\n",
       "      <td>Cashback</td>\n",
       "    </tr>\n",
       "    <tr>\n",
       "      <th>1</th>\n",
       "      <td>dbs-altitude-visa-signature-card</td>\n",
       "      <td>Air Miles</td>\n",
       "    </tr>\n",
       "    <tr>\n",
       "      <th>2</th>\n",
       "      <td>uob-one-card</td>\n",
       "      <td>Cashback</td>\n",
       "    </tr>\n",
       "    <tr>\n",
       "      <th>3</th>\n",
       "      <td>posb-everyday-cashback</td>\n",
       "      <td>Cashback</td>\n",
       "    </tr>\n",
       "    <tr>\n",
       "      <th>4</th>\n",
       "      <td>dbs-womans-world-card</td>\n",
       "      <td>Air Miles</td>\n",
       "    </tr>\n",
       "  </tbody>\n",
       "</table>\n",
       "</div>"
      ],
      "text/plain": [
       "                                    credit_card_name  card_type\n",
       "0  standard-chartered-unlimited-cashback-credit-card   Cashback\n",
       "1                   dbs-altitude-visa-signature-card  Air Miles\n",
       "2                                       uob-one-card   Cashback\n",
       "3                             posb-everyday-cashback   Cashback\n",
       "4                              dbs-womans-world-card  Air Miles"
      ]
     },
     "metadata": {},
     "output_type": "display_data"
    }
   ],
   "source": [
    "# Display dataset\n",
    "print(f'Scraped reviews dataset:')\n",
    "display(scraped_reviews_df.head())\n",
    "\n",
    "print(f'Credit Card Type dataset:')\n",
    "display(credit_card_type_df.head())"
   ]
  },
  {
   "cell_type": "markdown",
   "id": "3a6514d2",
   "metadata": {},
   "source": [
    "**4. Combine both datasets**"
   ]
  },
  {
   "cell_type": "markdown",
   "id": "d90efd6f",
   "metadata": {},
   "source": [
    "Combine both the card types dataset and reviews dataset into one single dataset."
   ]
  },
  {
   "cell_type": "code",
   "execution_count": 4,
   "id": "b80db731",
   "metadata": {},
   "outputs": [
    {
     "data": {
      "text/html": [
       "<div>\n",
       "<style scoped>\n",
       "    .dataframe tbody tr th:only-of-type {\n",
       "        vertical-align: middle;\n",
       "    }\n",
       "\n",
       "    .dataframe tbody tr th {\n",
       "        vertical-align: top;\n",
       "    }\n",
       "\n",
       "    .dataframe thead th {\n",
       "        text-align: right;\n",
       "    }\n",
       "</style>\n",
       "<table border=\"1\" class=\"dataframe\">\n",
       "  <thead>\n",
       "    <tr style=\"text-align: right;\">\n",
       "      <th></th>\n",
       "      <th>credit_card_name</th>\n",
       "      <th>reviews</th>\n",
       "      <th>card_type</th>\n",
       "    </tr>\n",
       "  </thead>\n",
       "  <tbody>\n",
       "    <tr>\n",
       "      <th>0</th>\n",
       "      <td>standard-chartered-unlimited-cashback-credit-card</td>\n",
       "      <td>['My first credit card. One of the best cards ...</td>\n",
       "      <td>Cashback</td>\n",
       "    </tr>\n",
       "    <tr>\n",
       "      <th>1</th>\n",
       "      <td>dbs-altitude-visa-signature-card</td>\n",
       "      <td>['Used to be my go-to general miles card but n...</td>\n",
       "      <td>Air Miles</td>\n",
       "    </tr>\n",
       "    <tr>\n",
       "      <th>2</th>\n",
       "      <td>uob-one-card</td>\n",
       "      <td>['Cashback was still ok, used to be better but...</td>\n",
       "      <td>Cashback</td>\n",
       "    </tr>\n",
       "    <tr>\n",
       "      <th>3</th>\n",
       "      <td>posb-everyday-cashback</td>\n",
       "      <td>['POSB Everyday Card is a great option for fam...</td>\n",
       "      <td>Cashback</td>\n",
       "    </tr>\n",
       "    <tr>\n",
       "      <th>4</th>\n",
       "      <td>dbs-womans-world-card</td>\n",
       "      <td>['An excellent card. One you should definitely...</td>\n",
       "      <td>Air Miles</td>\n",
       "    </tr>\n",
       "  </tbody>\n",
       "</table>\n",
       "</div>"
      ],
      "text/plain": [
       "                                    credit_card_name  \\\n",
       "0  standard-chartered-unlimited-cashback-credit-card   \n",
       "1                   dbs-altitude-visa-signature-card   \n",
       "2                                       uob-one-card   \n",
       "3                             posb-everyday-cashback   \n",
       "4                              dbs-womans-world-card   \n",
       "\n",
       "                                             reviews  card_type  \n",
       "0  ['My first credit card. One of the best cards ...   Cashback  \n",
       "1  ['Used to be my go-to general miles card but n...  Air Miles  \n",
       "2  ['Cashback was still ok, used to be better but...   Cashback  \n",
       "3  ['POSB Everyday Card is a great option for fam...   Cashback  \n",
       "4  ['An excellent card. One you should definitely...  Air Miles  "
      ]
     },
     "metadata": {},
     "output_type": "display_data"
    },
    {
     "name": "stdout",
     "output_type": "stream",
     "text": [
      "Rows, Columns: (117, 3)\n"
     ]
    }
   ],
   "source": [
    "# Rename Unnamed column to \"credit_card_name\"\n",
    "scraped_reviews_df.rename(columns = {'Unnamed: 0': 'credit_card_name'}, inplace = True)\n",
    "\n",
    "# Merge both datasets\n",
    "combined_df = pd.merge(scraped_reviews_df, credit_card_type_df, how = 'inner')\n",
    "\n",
    "# Display the merged dataset\n",
    "display(combined_df.head())\n",
    "\n",
    "# Show the total number of rows in the dataset\n",
    "print(f'Rows, Columns: {combined_df.shape}')"
   ]
  },
  {
   "cell_type": "code",
   "execution_count": 5,
   "id": "192289ac",
   "metadata": {},
   "outputs": [
    {
     "data": {
      "text/html": [
       "<div>\n",
       "<style scoped>\n",
       "    .dataframe tbody tr th:only-of-type {\n",
       "        vertical-align: middle;\n",
       "    }\n",
       "\n",
       "    .dataframe tbody tr th {\n",
       "        vertical-align: top;\n",
       "    }\n",
       "\n",
       "    .dataframe thead th {\n",
       "        text-align: right;\n",
       "    }\n",
       "</style>\n",
       "<table border=\"1\" class=\"dataframe\">\n",
       "  <thead>\n",
       "    <tr style=\"text-align: right;\">\n",
       "      <th></th>\n",
       "      <th>credit_card_name</th>\n",
       "      <th>card_type</th>\n",
       "      <th>reviews</th>\n",
       "    </tr>\n",
       "  </thead>\n",
       "  <tbody>\n",
       "    <tr>\n",
       "      <th>0</th>\n",
       "      <td>standard-chartered-unlimited-cashback-credit-card</td>\n",
       "      <td>Cashback</td>\n",
       "      <td>['My first credit card. One of the best cards ...</td>\n",
       "    </tr>\n",
       "    <tr>\n",
       "      <th>1</th>\n",
       "      <td>standard-chartered-unlimited-cashback-credit-card</td>\n",
       "      <td>Cashback</td>\n",
       "      <td>'A 1.5% no frill cashback cards. What i like ...</td>\n",
       "    </tr>\n",
       "    <tr>\n",
       "      <th>2</th>\n",
       "      <td>standard-chartered-unlimited-cashback-credit-card</td>\n",
       "      <td>Cashback</td>\n",
       "      <td>'[Fee Waivers]\\n0 customer service. they will...</td>\n",
       "    </tr>\n",
       "    <tr>\n",
       "      <th>3</th>\n",
       "      <td>standard-chartered-unlimited-cashback-credit-card</td>\n",
       "      <td>Cashback</td>\n",
       "      <td>\"Fast application and ease of usage. Look out...</td>\n",
       "    </tr>\n",
       "    <tr>\n",
       "      <th>4</th>\n",
       "      <td>standard-chartered-unlimited-cashback-credit-card</td>\n",
       "      <td>Cashback</td>\n",
       "      <td>'Super useful cashback card for basically any...</td>\n",
       "    </tr>\n",
       "  </tbody>\n",
       "</table>\n",
       "</div>"
      ],
      "text/plain": [
       "                                    credit_card_name card_type  \\\n",
       "0  standard-chartered-unlimited-cashback-credit-card  Cashback   \n",
       "1  standard-chartered-unlimited-cashback-credit-card  Cashback   \n",
       "2  standard-chartered-unlimited-cashback-credit-card  Cashback   \n",
       "3  standard-chartered-unlimited-cashback-credit-card  Cashback   \n",
       "4  standard-chartered-unlimited-cashback-credit-card  Cashback   \n",
       "\n",
       "                                             reviews  \n",
       "0  ['My first credit card. One of the best cards ...  \n",
       "1   'A 1.5% no frill cashback cards. What i like ...  \n",
       "2   '[Fee Waivers]\\n0 customer service. they will...  \n",
       "3   \"Fast application and ease of usage. Look out...  \n",
       "4   'Super useful cashback card for basically any...  "
      ]
     },
     "metadata": {},
     "output_type": "display_data"
    },
    {
     "name": "stdout",
     "output_type": "stream",
     "text": [
      "Rows, Columns: (1093, 3)\n"
     ]
    }
   ],
   "source": [
    "# Expand all the reviews and save them in a separate dataset\n",
    "combined_expand_df = (combined_df.set_index(['credit_card_name', 'card_type']).\n",
    "                      apply(lambda x: x.str.split('\\',',).explode()).reset_index())     \n",
    "\n",
    "# Display the expanded dataset\n",
    "display(combined_expand_df.head())\n",
    "\n",
    "# Show the total number of rows in the dataset\n",
    "print(f'Rows, Columns: {combined_expand_df.shape}')"
   ]
  },
  {
   "cell_type": "markdown",
   "id": "54c96fe4",
   "metadata": {},
   "source": [
    "**5. Remove '\\n' from the reviews column**"
   ]
  },
  {
   "cell_type": "markdown",
   "id": "a23b983b",
   "metadata": {},
   "source": [
    "'\\n' is being used in html to denote new paragraphs. Thus, we will have to remove them from the `reviews` column before we proceed with preprocessing."
   ]
  },
  {
   "cell_type": "code",
   "execution_count": 6,
   "id": "45f754d3",
   "metadata": {},
   "outputs": [
    {
     "data": {
      "text/html": [
       "<div>\n",
       "<style scoped>\n",
       "    .dataframe tbody tr th:only-of-type {\n",
       "        vertical-align: middle;\n",
       "    }\n",
       "\n",
       "    .dataframe tbody tr th {\n",
       "        vertical-align: top;\n",
       "    }\n",
       "\n",
       "    .dataframe thead th {\n",
       "        text-align: right;\n",
       "    }\n",
       "</style>\n",
       "<table border=\"1\" class=\"dataframe\">\n",
       "  <thead>\n",
       "    <tr style=\"text-align: right;\">\n",
       "      <th></th>\n",
       "      <th>credit_card_name</th>\n",
       "      <th>card_type</th>\n",
       "      <th>reviews</th>\n",
       "    </tr>\n",
       "  </thead>\n",
       "  <tbody>\n",
       "    <tr>\n",
       "      <th>0</th>\n",
       "      <td>standard-chartered-unlimited-cashback-credit-card</td>\n",
       "      <td>Cashback</td>\n",
       "      <td>['My first credit card. One of the best cards ...</td>\n",
       "    </tr>\n",
       "    <tr>\n",
       "      <th>1</th>\n",
       "      <td>standard-chartered-unlimited-cashback-credit-card</td>\n",
       "      <td>Cashback</td>\n",
       "      <td>'A 1.5% no frill cashback cards. What i like ...</td>\n",
       "    </tr>\n",
       "    <tr>\n",
       "      <th>2</th>\n",
       "      <td>standard-chartered-unlimited-cashback-credit-card</td>\n",
       "      <td>Cashback</td>\n",
       "      <td>'[Fee Waivers] 0 customer service. they will ...</td>\n",
       "    </tr>\n",
       "    <tr>\n",
       "      <th>3</th>\n",
       "      <td>standard-chartered-unlimited-cashback-credit-card</td>\n",
       "      <td>Cashback</td>\n",
       "      <td>\"Fast application and ease of usage. Look out...</td>\n",
       "    </tr>\n",
       "    <tr>\n",
       "      <th>4</th>\n",
       "      <td>standard-chartered-unlimited-cashback-credit-card</td>\n",
       "      <td>Cashback</td>\n",
       "      <td>'Super useful cashback card for basically any...</td>\n",
       "    </tr>\n",
       "  </tbody>\n",
       "</table>\n",
       "</div>"
      ],
      "text/plain": [
       "                                    credit_card_name card_type  \\\n",
       "0  standard-chartered-unlimited-cashback-credit-card  Cashback   \n",
       "1  standard-chartered-unlimited-cashback-credit-card  Cashback   \n",
       "2  standard-chartered-unlimited-cashback-credit-card  Cashback   \n",
       "3  standard-chartered-unlimited-cashback-credit-card  Cashback   \n",
       "4  standard-chartered-unlimited-cashback-credit-card  Cashback   \n",
       "\n",
       "                                             reviews  \n",
       "0  ['My first credit card. One of the best cards ...  \n",
       "1   'A 1.5% no frill cashback cards. What i like ...  \n",
       "2   '[Fee Waivers] 0 customer service. they will ...  \n",
       "3   \"Fast application and ease of usage. Look out...  \n",
       "4   'Super useful cashback card for basically any...  "
      ]
     },
     "metadata": {},
     "output_type": "display_data"
    }
   ],
   "source": [
    "# Define function to remove Newline\n",
    "def remove_newline(text):\n",
    "    tokens = re.split(r'\\\\n', text)\n",
    "    for word in tokens:\n",
    "        my_string = ' '.join(tokens)\n",
    "    return my_string\n",
    "\n",
    "combined_expand_df['reviews'] = combined_expand_df['reviews'].apply(lambda x: remove_newline(x))\n",
    "\n",
    "# Display the expanded dataset after changes\n",
    "display(combined_expand_df.head())"
   ]
  },
  {
   "cell_type": "markdown",
   "id": "2ba8582f",
   "metadata": {},
   "source": [
    "**6. Split the dataset into cashback and miles card type**"
   ]
  },
  {
   "cell_type": "markdown",
   "id": "5dea9832",
   "metadata": {},
   "source": [
    "We will split the dataset into cashback and air miles so that we can perfom the analysis on the two different types of cards."
   ]
  },
  {
   "cell_type": "code",
   "execution_count": 7,
   "id": "8d9a4dc7",
   "metadata": {},
   "outputs": [
    {
     "name": "stdout",
     "output_type": "stream",
     "text": [
      "Cashback cards:\n"
     ]
    },
    {
     "data": {
      "text/html": [
       "<div>\n",
       "<style scoped>\n",
       "    .dataframe tbody tr th:only-of-type {\n",
       "        vertical-align: middle;\n",
       "    }\n",
       "\n",
       "    .dataframe tbody tr th {\n",
       "        vertical-align: top;\n",
       "    }\n",
       "\n",
       "    .dataframe thead th {\n",
       "        text-align: right;\n",
       "    }\n",
       "</style>\n",
       "<table border=\"1\" class=\"dataframe\">\n",
       "  <thead>\n",
       "    <tr style=\"text-align: right;\">\n",
       "      <th></th>\n",
       "      <th>credit_card_name</th>\n",
       "      <th>card_type</th>\n",
       "      <th>reviews</th>\n",
       "    </tr>\n",
       "  </thead>\n",
       "  <tbody>\n",
       "    <tr>\n",
       "      <th>0</th>\n",
       "      <td>standard-chartered-unlimited-cashback-credit-card</td>\n",
       "      <td>Cashback</td>\n",
       "      <td>['My first credit card. One of the best cards ...</td>\n",
       "    </tr>\n",
       "    <tr>\n",
       "      <th>1</th>\n",
       "      <td>standard-chartered-unlimited-cashback-credit-card</td>\n",
       "      <td>Cashback</td>\n",
       "      <td>'A 1.5% no frill cashback cards. What i like ...</td>\n",
       "    </tr>\n",
       "    <tr>\n",
       "      <th>2</th>\n",
       "      <td>standard-chartered-unlimited-cashback-credit-card</td>\n",
       "      <td>Cashback</td>\n",
       "      <td>'[Fee Waivers] 0 customer service. they will ...</td>\n",
       "    </tr>\n",
       "    <tr>\n",
       "      <th>3</th>\n",
       "      <td>standard-chartered-unlimited-cashback-credit-card</td>\n",
       "      <td>Cashback</td>\n",
       "      <td>\"Fast application and ease of usage. Look out...</td>\n",
       "    </tr>\n",
       "    <tr>\n",
       "      <th>4</th>\n",
       "      <td>standard-chartered-unlimited-cashback-credit-card</td>\n",
       "      <td>Cashback</td>\n",
       "      <td>'Super useful cashback card for basically any...</td>\n",
       "    </tr>\n",
       "  </tbody>\n",
       "</table>\n",
       "</div>"
      ],
      "text/plain": [
       "                                    credit_card_name card_type  \\\n",
       "0  standard-chartered-unlimited-cashback-credit-card  Cashback   \n",
       "1  standard-chartered-unlimited-cashback-credit-card  Cashback   \n",
       "2  standard-chartered-unlimited-cashback-credit-card  Cashback   \n",
       "3  standard-chartered-unlimited-cashback-credit-card  Cashback   \n",
       "4  standard-chartered-unlimited-cashback-credit-card  Cashback   \n",
       "\n",
       "                                             reviews  \n",
       "0  ['My first credit card. One of the best cards ...  \n",
       "1   'A 1.5% no frill cashback cards. What i like ...  \n",
       "2   '[Fee Waivers] 0 customer service. they will ...  \n",
       "3   \"Fast application and ease of usage. Look out...  \n",
       "4   'Super useful cashback card for basically any...  "
      ]
     },
     "metadata": {},
     "output_type": "display_data"
    },
    {
     "name": "stdout",
     "output_type": "stream",
     "text": [
      "Rows, Columns: (841, 3)\n",
      "\n",
      "\n",
      "Air Miles cards:\n"
     ]
    },
    {
     "data": {
      "text/html": [
       "<div>\n",
       "<style scoped>\n",
       "    .dataframe tbody tr th:only-of-type {\n",
       "        vertical-align: middle;\n",
       "    }\n",
       "\n",
       "    .dataframe tbody tr th {\n",
       "        vertical-align: top;\n",
       "    }\n",
       "\n",
       "    .dataframe thead th {\n",
       "        text-align: right;\n",
       "    }\n",
       "</style>\n",
       "<table border=\"1\" class=\"dataframe\">\n",
       "  <thead>\n",
       "    <tr style=\"text-align: right;\">\n",
       "      <th></th>\n",
       "      <th>credit_card_name</th>\n",
       "      <th>card_type</th>\n",
       "      <th>reviews</th>\n",
       "    </tr>\n",
       "  </thead>\n",
       "  <tbody>\n",
       "    <tr>\n",
       "      <th>121</th>\n",
       "      <td>dbs-altitude-visa-signature-card</td>\n",
       "      <td>Air Miles</td>\n",
       "      <td>['Used to be my go-to general miles card but n...</td>\n",
       "    </tr>\n",
       "    <tr>\n",
       "      <th>122</th>\n",
       "      <td>dbs-altitude-visa-signature-card</td>\n",
       "      <td>Air Miles</td>\n",
       "      <td>'Great \"catch all\" miles card - use other 4MP...</td>\n",
       "    </tr>\n",
       "    <tr>\n",
       "      <th>123</th>\n",
       "      <td>dbs-altitude-visa-signature-card</td>\n",
       "      <td>Air Miles</td>\n",
       "      <td>'Love this card with no expiry date of the DB...</td>\n",
       "    </tr>\n",
       "    <tr>\n",
       "      <th>124</th>\n",
       "      <td>dbs-altitude-visa-signature-card</td>\n",
       "      <td>Air Miles</td>\n",
       "      <td>'[Others] This card is one of the best entry-...</td>\n",
       "    </tr>\n",
       "    <tr>\n",
       "      <th>125</th>\n",
       "      <td>dbs-altitude-visa-signature-card</td>\n",
       "      <td>Air Miles</td>\n",
       "      <td>'I am an advocate of DBS. Their customer serv...</td>\n",
       "    </tr>\n",
       "  </tbody>\n",
       "</table>\n",
       "</div>"
      ],
      "text/plain": [
       "                     credit_card_name  card_type  \\\n",
       "121  dbs-altitude-visa-signature-card  Air Miles   \n",
       "122  dbs-altitude-visa-signature-card  Air Miles   \n",
       "123  dbs-altitude-visa-signature-card  Air Miles   \n",
       "124  dbs-altitude-visa-signature-card  Air Miles   \n",
       "125  dbs-altitude-visa-signature-card  Air Miles   \n",
       "\n",
       "                                               reviews  \n",
       "121  ['Used to be my go-to general miles card but n...  \n",
       "122   'Great \"catch all\" miles card - use other 4MP...  \n",
       "123   'Love this card with no expiry date of the DB...  \n",
       "124   '[Others] This card is one of the best entry-...  \n",
       "125   'I am an advocate of DBS. Their customer serv...  "
      ]
     },
     "metadata": {},
     "output_type": "display_data"
    },
    {
     "name": "stdout",
     "output_type": "stream",
     "text": [
      "Rows, Columns: (252, 3)\n"
     ]
    }
   ],
   "source": [
    "# Filter for cashback and save them in a cashback_expand dataset\n",
    "cashback_expand_df = combined_expand_df[combined_expand_df['card_type'] == 'Cashback']\n",
    "print(f'Cashback cards:')\n",
    "display(cashback_expand_df.head())\n",
    "\n",
    "# Show the total number of rows in the dataset\n",
    "print(f'Rows, Columns: {cashback_expand_df.shape}')\n",
    "print(\"\\n\")\n",
    "\n",
    "\n",
    "# Filter for cashback and save them in a cashback_expand dataset\n",
    "miles_expand_df = combined_expand_df[combined_expand_df['card_type'] == 'Air Miles']\n",
    "print(f'Air Miles cards:')\n",
    "display(miles_expand_df.head())\n",
    "\n",
    "# Show the total number of rows in the dataset\n",
    "print(f'Rows, Columns: {miles_expand_df.shape}')"
   ]
  },
  {
   "cell_type": "markdown",
   "id": "6bc3e8ed",
   "metadata": {},
   "source": [
    "Now that the cleaning portion is done, we will perform some pre-processing to prepare the data for analysis."
   ]
  },
  {
   "cell_type": "markdown",
   "id": "289f8e49",
   "metadata": {},
   "source": [
    "## Data Dictionary"
   ]
  },
  {
   "cell_type": "markdown",
   "id": "66840818",
   "metadata": {},
   "source": [
    "<br>**Dataset name: `cashback_expand_df`**\n",
    "<br>This dataset contains all the reviews on cashback credit cards.\n",
    "\n",
    "| Feature | Type | Dataset | Description |\n",
    "|:--|:-:|:-:|:--|\n",
    "|credit_card_name|string|perfumes_df|Name of the credit card.|\n",
    "|card_type|string|perfumes_df|Type of credit card. Cashback of Air Miles.|\n",
    "|reviews|string|perfumes_df|Reviews on the credit cards.|\n",
    "\n",
    "\n",
    "<br>**Dataset name: `miles_expand_df`**\n",
    "<br>This dataset contains all the reviews on air miles credit cards.\n",
    "\n",
    "| Feature | Type | Dataset | Description |\n",
    "|:--|:-:|:-:|:--|\n",
    "|credit_card_name|string|perfumes_df|Name of the credit card.|\n",
    "|card_type|string|perfumes_df|Type of credit card. Cashback of Air Miles.|\n",
    "|reviews|string|perfumes_df|Reviews on the credit cards.|\n",
    "\n",
    "<br>**Dataset name: `combined_expand_df`**\n",
    "<br>This dataset contains all the reviews on all credit cards.\n",
    "\n",
    "| Feature | Type | Dataset | Description |\n",
    "|:--|:-:|:-:|:--|\n",
    "|credit_card_name|string|perfumes_df|Name of the credit card.|\n",
    "|card_type|string|perfumes_df|Type of credit card. Cashback of Air Miles.|\n",
    "|reviews|string|perfumes_df|Reviews on the credit cards.|"
   ]
  },
  {
   "cell_type": "markdown",
   "id": "0622a621",
   "metadata": {},
   "source": [
    "## Pre-processing text data"
   ]
  },
  {
   "cell_type": "markdown",
   "id": "38fd1394",
   "metadata": {},
   "source": [
    "Now we will clean the text data so that we can perform analysis on the datasets."
   ]
  },
  {
   "cell_type": "markdown",
   "id": "9711f4a0",
   "metadata": {},
   "source": [
    "**1. Remove punctuations**"
   ]
  },
  {
   "cell_type": "markdown",
   "id": "b7548a2e",
   "metadata": {},
   "source": [
    "Remove the punctuations as these are not required in text analysis."
   ]
  },
  {
   "cell_type": "code",
   "execution_count": 8,
   "id": "9edb44ee",
   "metadata": {},
   "outputs": [
    {
     "data": {
      "text/html": [
       "<div>\n",
       "<style scoped>\n",
       "    .dataframe tbody tr th:only-of-type {\n",
       "        vertical-align: middle;\n",
       "    }\n",
       "\n",
       "    .dataframe tbody tr th {\n",
       "        vertical-align: top;\n",
       "    }\n",
       "\n",
       "    .dataframe thead th {\n",
       "        text-align: right;\n",
       "    }\n",
       "</style>\n",
       "<table border=\"1\" class=\"dataframe\">\n",
       "  <thead>\n",
       "    <tr style=\"text-align: right;\">\n",
       "      <th></th>\n",
       "      <th>credit_card_name</th>\n",
       "      <th>card_type</th>\n",
       "      <th>reviews</th>\n",
       "      <th>reviews_clean</th>\n",
       "    </tr>\n",
       "  </thead>\n",
       "  <tbody>\n",
       "    <tr>\n",
       "      <th>0</th>\n",
       "      <td>standard-chartered-unlimited-cashback-credit-card</td>\n",
       "      <td>Cashback</td>\n",
       "      <td>['My first credit card. One of the best cards ...</td>\n",
       "      <td>My first credit card One of the best cards for...</td>\n",
       "    </tr>\n",
       "    <tr>\n",
       "      <th>1</th>\n",
       "      <td>standard-chartered-unlimited-cashback-credit-card</td>\n",
       "      <td>Cashback</td>\n",
       "      <td>'A 1.5% no frill cashback cards. What i like ...</td>\n",
       "      <td>A 15 no frill cashback cards What i like abou...</td>\n",
       "    </tr>\n",
       "    <tr>\n",
       "      <th>2</th>\n",
       "      <td>standard-chartered-unlimited-cashback-credit-card</td>\n",
       "      <td>Cashback</td>\n",
       "      <td>'[Fee Waivers] 0 customer service. they will ...</td>\n",
       "      <td>Fee Waivers 0 customer service they will not ...</td>\n",
       "    </tr>\n",
       "    <tr>\n",
       "      <th>3</th>\n",
       "      <td>standard-chartered-unlimited-cashback-credit-card</td>\n",
       "      <td>Cashback</td>\n",
       "      <td>\"Fast application and ease of usage. Look out...</td>\n",
       "      <td>Fast application and ease of usage Look out f...</td>\n",
       "    </tr>\n",
       "    <tr>\n",
       "      <th>4</th>\n",
       "      <td>standard-chartered-unlimited-cashback-credit-card</td>\n",
       "      <td>Cashback</td>\n",
       "      <td>'Super useful cashback card for basically any...</td>\n",
       "      <td>Super useful cashback card for basically anyt...</td>\n",
       "    </tr>\n",
       "  </tbody>\n",
       "</table>\n",
       "</div>"
      ],
      "text/plain": [
       "                                    credit_card_name card_type  \\\n",
       "0  standard-chartered-unlimited-cashback-credit-card  Cashback   \n",
       "1  standard-chartered-unlimited-cashback-credit-card  Cashback   \n",
       "2  standard-chartered-unlimited-cashback-credit-card  Cashback   \n",
       "3  standard-chartered-unlimited-cashback-credit-card  Cashback   \n",
       "4  standard-chartered-unlimited-cashback-credit-card  Cashback   \n",
       "\n",
       "                                             reviews  \\\n",
       "0  ['My first credit card. One of the best cards ...   \n",
       "1   'A 1.5% no frill cashback cards. What i like ...   \n",
       "2   '[Fee Waivers] 0 customer service. they will ...   \n",
       "3   \"Fast application and ease of usage. Look out...   \n",
       "4   'Super useful cashback card for basically any...   \n",
       "\n",
       "                                       reviews_clean  \n",
       "0  My first credit card One of the best cards for...  \n",
       "1   A 15 no frill cashback cards What i like abou...  \n",
       "2   Fee Waivers 0 customer service they will not ...  \n",
       "3   Fast application and ease of usage Look out f...  \n",
       "4   Super useful cashback card for basically anyt...  "
      ]
     },
     "metadata": {},
     "output_type": "display_data"
    }
   ],
   "source": [
    "# Create a copy of the combined_expand_df\n",
    "combined_analyse_df = combined_expand_df.copy()\n",
    "\n",
    "# Define function to remove punctuation\n",
    "def remove_punct(text):\n",
    "    # store character only if it is not a punctuation\n",
    "    text_nopunct = \"\".join([char for char in text if char not in string.punctuation])\n",
    "    return text_nopunct\n",
    "\n",
    "# Remove punctuation from the 'title and selftext' column\n",
    "combined_analyse_df['reviews_clean'] = combined_analyse_df['reviews'].apply(lambda x: remove_punct(x))\n",
    "\n",
    "# Display the dataset after the changes\n",
    "display(combined_analyse_df.head())"
   ]
  },
  {
   "cell_type": "markdown",
   "id": "3020cc37",
   "metadata": {},
   "source": [
    "**2. Tokenization**"
   ]
  },
  {
   "cell_type": "markdown",
   "id": "68317a2e",
   "metadata": {},
   "source": [
    "Split the text into smaller pieces, ie. single words."
   ]
  },
  {
   "cell_type": "code",
   "execution_count": 9,
   "id": "5cfa8f8c",
   "metadata": {},
   "outputs": [
    {
     "data": {
      "text/html": [
       "<div>\n",
       "<style scoped>\n",
       "    .dataframe tbody tr th:only-of-type {\n",
       "        vertical-align: middle;\n",
       "    }\n",
       "\n",
       "    .dataframe tbody tr th {\n",
       "        vertical-align: top;\n",
       "    }\n",
       "\n",
       "    .dataframe thead th {\n",
       "        text-align: right;\n",
       "    }\n",
       "</style>\n",
       "<table border=\"1\" class=\"dataframe\">\n",
       "  <thead>\n",
       "    <tr style=\"text-align: right;\">\n",
       "      <th></th>\n",
       "      <th>credit_card_name</th>\n",
       "      <th>card_type</th>\n",
       "      <th>reviews</th>\n",
       "      <th>reviews_clean</th>\n",
       "      <th>reviews_tokenized</th>\n",
       "    </tr>\n",
       "  </thead>\n",
       "  <tbody>\n",
       "    <tr>\n",
       "      <th>0</th>\n",
       "      <td>standard-chartered-unlimited-cashback-credit-card</td>\n",
       "      <td>Cashback</td>\n",
       "      <td>['My first credit card. One of the best cards ...</td>\n",
       "      <td>My first credit card One of the best cards for...</td>\n",
       "      <td>[my, first, credit, card, one, of, the, best, ...</td>\n",
       "    </tr>\n",
       "    <tr>\n",
       "      <th>1</th>\n",
       "      <td>standard-chartered-unlimited-cashback-credit-card</td>\n",
       "      <td>Cashback</td>\n",
       "      <td>'A 1.5% no frill cashback cards. What i like ...</td>\n",
       "      <td>A 15 no frill cashback cards What i like abou...</td>\n",
       "      <td>[, a, 15, no, frill, cashback, cards, what, i,...</td>\n",
       "    </tr>\n",
       "    <tr>\n",
       "      <th>2</th>\n",
       "      <td>standard-chartered-unlimited-cashback-credit-card</td>\n",
       "      <td>Cashback</td>\n",
       "      <td>'[Fee Waivers] 0 customer service. they will ...</td>\n",
       "      <td>Fee Waivers 0 customer service they will not ...</td>\n",
       "      <td>[, fee, waivers, 0, customer, service, they, w...</td>\n",
       "    </tr>\n",
       "    <tr>\n",
       "      <th>3</th>\n",
       "      <td>standard-chartered-unlimited-cashback-credit-card</td>\n",
       "      <td>Cashback</td>\n",
       "      <td>\"Fast application and ease of usage. Look out...</td>\n",
       "      <td>Fast application and ease of usage Look out f...</td>\n",
       "      <td>[, fast, application, and, ease, of, usage, lo...</td>\n",
       "    </tr>\n",
       "    <tr>\n",
       "      <th>4</th>\n",
       "      <td>standard-chartered-unlimited-cashback-credit-card</td>\n",
       "      <td>Cashback</td>\n",
       "      <td>'Super useful cashback card for basically any...</td>\n",
       "      <td>Super useful cashback card for basically anyt...</td>\n",
       "      <td>[, super, useful, cashback, card, for, basical...</td>\n",
       "    </tr>\n",
       "  </tbody>\n",
       "</table>\n",
       "</div>"
      ],
      "text/plain": [
       "                                    credit_card_name card_type  \\\n",
       "0  standard-chartered-unlimited-cashback-credit-card  Cashback   \n",
       "1  standard-chartered-unlimited-cashback-credit-card  Cashback   \n",
       "2  standard-chartered-unlimited-cashback-credit-card  Cashback   \n",
       "3  standard-chartered-unlimited-cashback-credit-card  Cashback   \n",
       "4  standard-chartered-unlimited-cashback-credit-card  Cashback   \n",
       "\n",
       "                                             reviews  \\\n",
       "0  ['My first credit card. One of the best cards ...   \n",
       "1   'A 1.5% no frill cashback cards. What i like ...   \n",
       "2   '[Fee Waivers] 0 customer service. they will ...   \n",
       "3   \"Fast application and ease of usage. Look out...   \n",
       "4   'Super useful cashback card for basically any...   \n",
       "\n",
       "                                       reviews_clean  \\\n",
       "0  My first credit card One of the best cards for...   \n",
       "1   A 15 no frill cashback cards What i like abou...   \n",
       "2   Fee Waivers 0 customer service they will not ...   \n",
       "3   Fast application and ease of usage Look out f...   \n",
       "4   Super useful cashback card for basically anyt...   \n",
       "\n",
       "                                   reviews_tokenized  \n",
       "0  [my, first, credit, card, one, of, the, best, ...  \n",
       "1  [, a, 15, no, frill, cashback, cards, what, i,...  \n",
       "2  [, fee, waivers, 0, customer, service, they, w...  \n",
       "3  [, fast, application, and, ease, of, usage, lo...  \n",
       "4  [, super, useful, cashback, card, for, basical...  "
      ]
     },
     "metadata": {},
     "output_type": "display_data"
    }
   ],
   "source": [
    "# Define function to tokenize the column\n",
    "def tokenize(text):\n",
    "    tokens = re.split('\\W+', text)\n",
    "    return tokens\n",
    "\n",
    "# Tokenize the 'title and selftext' column\n",
    "combined_analyse_df['reviews_tokenized'] = combined_analyse_df['reviews_clean'].apply(\n",
    "    lambda x: tokenize(x.lower()))\n",
    "\n",
    "# Display the dataset after the changes\n",
    "display(combined_analyse_df.head())"
   ]
  },
  {
   "cell_type": "markdown",
   "id": "9c63b320",
   "metadata": {},
   "source": [
    "**3. Remove stopwords**"
   ]
  },
  {
   "cell_type": "markdown",
   "id": "428137f0",
   "metadata": {},
   "source": [
    "Remove the words that have very little meaning as these words are not going to be helpful in our analysis."
   ]
  },
  {
   "cell_type": "code",
   "execution_count": 10,
   "id": "26985e6a",
   "metadata": {},
   "outputs": [
    {
     "data": {
      "text/html": [
       "<div>\n",
       "<style scoped>\n",
       "    .dataframe tbody tr th:only-of-type {\n",
       "        vertical-align: middle;\n",
       "    }\n",
       "\n",
       "    .dataframe tbody tr th {\n",
       "        vertical-align: top;\n",
       "    }\n",
       "\n",
       "    .dataframe thead th {\n",
       "        text-align: right;\n",
       "    }\n",
       "</style>\n",
       "<table border=\"1\" class=\"dataframe\">\n",
       "  <thead>\n",
       "    <tr style=\"text-align: right;\">\n",
       "      <th></th>\n",
       "      <th>credit_card_name</th>\n",
       "      <th>card_type</th>\n",
       "      <th>reviews</th>\n",
       "      <th>reviews_clean</th>\n",
       "      <th>reviews_tokenized</th>\n",
       "      <th>reviews_no_stop</th>\n",
       "    </tr>\n",
       "  </thead>\n",
       "  <tbody>\n",
       "    <tr>\n",
       "      <th>0</th>\n",
       "      <td>standard-chartered-unlimited-cashback-credit-card</td>\n",
       "      <td>Cashback</td>\n",
       "      <td>['My first credit card. One of the best cards ...</td>\n",
       "      <td>My first credit card One of the best cards for...</td>\n",
       "      <td>[my, first, credit, card, one, of, the, best, ...</td>\n",
       "      <td>[first, credit, card, one, best, cards, cash, ...</td>\n",
       "    </tr>\n",
       "    <tr>\n",
       "      <th>1</th>\n",
       "      <td>standard-chartered-unlimited-cashback-credit-card</td>\n",
       "      <td>Cashback</td>\n",
       "      <td>'A 1.5% no frill cashback cards. What i like ...</td>\n",
       "      <td>A 15 no frill cashback cards What i like abou...</td>\n",
       "      <td>[, a, 15, no, frill, cashback, cards, what, i,...</td>\n",
       "      <td>[, 15, frill, cashback, cards, like, seems, le...</td>\n",
       "    </tr>\n",
       "    <tr>\n",
       "      <th>2</th>\n",
       "      <td>standard-chartered-unlimited-cashback-credit-card</td>\n",
       "      <td>Cashback</td>\n",
       "      <td>'[Fee Waivers] 0 customer service. they will ...</td>\n",
       "      <td>Fee Waivers 0 customer service they will not ...</td>\n",
       "      <td>[, fee, waivers, 0, customer, service, they, w...</td>\n",
       "      <td>[, fee, waivers, 0, customer, service, waive, ...</td>\n",
       "    </tr>\n",
       "    <tr>\n",
       "      <th>3</th>\n",
       "      <td>standard-chartered-unlimited-cashback-credit-card</td>\n",
       "      <td>Cashback</td>\n",
       "      <td>\"Fast application and ease of usage. Look out...</td>\n",
       "      <td>Fast application and ease of usage Look out f...</td>\n",
       "      <td>[, fast, application, and, ease, of, usage, lo...</td>\n",
       "      <td>[, fast, application, ease, usage, look, promo...</td>\n",
       "    </tr>\n",
       "    <tr>\n",
       "      <th>4</th>\n",
       "      <td>standard-chartered-unlimited-cashback-credit-card</td>\n",
       "      <td>Cashback</td>\n",
       "      <td>'Super useful cashback card for basically any...</td>\n",
       "      <td>Super useful cashback card for basically anyt...</td>\n",
       "      <td>[, super, useful, cashback, card, for, basical...</td>\n",
       "      <td>[, super, useful, cashback, card, basically, a...</td>\n",
       "    </tr>\n",
       "  </tbody>\n",
       "</table>\n",
       "</div>"
      ],
      "text/plain": [
       "                                    credit_card_name card_type  \\\n",
       "0  standard-chartered-unlimited-cashback-credit-card  Cashback   \n",
       "1  standard-chartered-unlimited-cashback-credit-card  Cashback   \n",
       "2  standard-chartered-unlimited-cashback-credit-card  Cashback   \n",
       "3  standard-chartered-unlimited-cashback-credit-card  Cashback   \n",
       "4  standard-chartered-unlimited-cashback-credit-card  Cashback   \n",
       "\n",
       "                                             reviews  \\\n",
       "0  ['My first credit card. One of the best cards ...   \n",
       "1   'A 1.5% no frill cashback cards. What i like ...   \n",
       "2   '[Fee Waivers] 0 customer service. they will ...   \n",
       "3   \"Fast application and ease of usage. Look out...   \n",
       "4   'Super useful cashback card for basically any...   \n",
       "\n",
       "                                       reviews_clean  \\\n",
       "0  My first credit card One of the best cards for...   \n",
       "1   A 15 no frill cashback cards What i like abou...   \n",
       "2   Fee Waivers 0 customer service they will not ...   \n",
       "3   Fast application and ease of usage Look out f...   \n",
       "4   Super useful cashback card for basically anyt...   \n",
       "\n",
       "                                   reviews_tokenized  \\\n",
       "0  [my, first, credit, card, one, of, the, best, ...   \n",
       "1  [, a, 15, no, frill, cashback, cards, what, i,...   \n",
       "2  [, fee, waivers, 0, customer, service, they, w...   \n",
       "3  [, fast, application, and, ease, of, usage, lo...   \n",
       "4  [, super, useful, cashback, card, for, basical...   \n",
       "\n",
       "                                     reviews_no_stop  \n",
       "0  [first, credit, card, one, best, cards, cash, ...  \n",
       "1  [, 15, frill, cashback, cards, like, seems, le...  \n",
       "2  [, fee, waivers, 0, customer, service, waive, ...  \n",
       "3  [, fast, application, ease, usage, look, promo...  \n",
       "4  [, super, useful, cashback, card, basically, a...  "
      ]
     },
     "metadata": {},
     "output_type": "display_data"
    }
   ],
   "source": [
    "# Obtain stopwords from the NLTK(Natural Language Toolkit) in Python\n",
    "stopword = nltk.corpus.stopwords.words('english')\n",
    "\n",
    "# Define function to remove stop words\n",
    "def remove_stopwords(tokenized_list):\n",
    "    # Store in text only if word is not found in stopword i.e. it is not a stopword\n",
    "    text = [word for word in tokenized_list if word not in stopword]\n",
    "    return text\n",
    "\n",
    "# Remove stopwords from the 'title and selftext' column\n",
    "combined_analyse_df['reviews_no_stop'] = combined_analyse_df['reviews_tokenized'].apply(lambda x: remove_stopwords(x))\n",
    "\n",
    "# Display the dataset after the changes\n",
    "display(combined_analyse_df.head())"
   ]
  },
  {
   "cell_type": "markdown",
   "id": "4573606f",
   "metadata": {},
   "source": [
    "**4. Lemmatization**"
   ]
  },
  {
   "cell_type": "markdown",
   "id": "02134acb",
   "metadata": {},
   "source": [
    "Convert the words into their most basic forms for analysis."
   ]
  },
  {
   "cell_type": "code",
   "execution_count": 11,
   "id": "e66bdf83",
   "metadata": {},
   "outputs": [
    {
     "data": {
      "text/html": [
       "<div>\n",
       "<style scoped>\n",
       "    .dataframe tbody tr th:only-of-type {\n",
       "        vertical-align: middle;\n",
       "    }\n",
       "\n",
       "    .dataframe tbody tr th {\n",
       "        vertical-align: top;\n",
       "    }\n",
       "\n",
       "    .dataframe thead th {\n",
       "        text-align: right;\n",
       "    }\n",
       "</style>\n",
       "<table border=\"1\" class=\"dataframe\">\n",
       "  <thead>\n",
       "    <tr style=\"text-align: right;\">\n",
       "      <th></th>\n",
       "      <th>credit_card_name</th>\n",
       "      <th>card_type</th>\n",
       "      <th>reviews</th>\n",
       "      <th>reviews_clean</th>\n",
       "      <th>reviews_tokenized</th>\n",
       "      <th>reviews_no_stop</th>\n",
       "      <th>reviews_lemmatized</th>\n",
       "    </tr>\n",
       "  </thead>\n",
       "  <tbody>\n",
       "    <tr>\n",
       "      <th>0</th>\n",
       "      <td>standard-chartered-unlimited-cashback-credit-card</td>\n",
       "      <td>Cashback</td>\n",
       "      <td>['My first credit card. One of the best cards ...</td>\n",
       "      <td>My first credit card One of the best cards for...</td>\n",
       "      <td>[my, first, credit, card, one, of, the, best, ...</td>\n",
       "      <td>[first, credit, card, one, best, cards, cash, ...</td>\n",
       "      <td>[first, credit, card, one, best, card, cash, b...</td>\n",
       "    </tr>\n",
       "    <tr>\n",
       "      <th>1</th>\n",
       "      <td>standard-chartered-unlimited-cashback-credit-card</td>\n",
       "      <td>Cashback</td>\n",
       "      <td>'A 1.5% no frill cashback cards. What i like ...</td>\n",
       "      <td>A 15 no frill cashback cards What i like abou...</td>\n",
       "      <td>[, a, 15, no, frill, cashback, cards, what, i,...</td>\n",
       "      <td>[, 15, frill, cashback, cards, like, seems, le...</td>\n",
       "      <td>[, 15, frill, cashback, card, like, seems, le,...</td>\n",
       "    </tr>\n",
       "    <tr>\n",
       "      <th>2</th>\n",
       "      <td>standard-chartered-unlimited-cashback-credit-card</td>\n",
       "      <td>Cashback</td>\n",
       "      <td>'[Fee Waivers] 0 customer service. they will ...</td>\n",
       "      <td>Fee Waivers 0 customer service they will not ...</td>\n",
       "      <td>[, fee, waivers, 0, customer, service, they, w...</td>\n",
       "      <td>[, fee, waivers, 0, customer, service, waive, ...</td>\n",
       "      <td>[, fee, waiver, 0, customer, service, waive, l...</td>\n",
       "    </tr>\n",
       "    <tr>\n",
       "      <th>3</th>\n",
       "      <td>standard-chartered-unlimited-cashback-credit-card</td>\n",
       "      <td>Cashback</td>\n",
       "      <td>\"Fast application and ease of usage. Look out...</td>\n",
       "      <td>Fast application and ease of usage Look out f...</td>\n",
       "      <td>[, fast, application, and, ease, of, usage, lo...</td>\n",
       "      <td>[, fast, application, ease, usage, look, promo...</td>\n",
       "      <td>[, fast, application, ease, usage, look, promo...</td>\n",
       "    </tr>\n",
       "    <tr>\n",
       "      <th>4</th>\n",
       "      <td>standard-chartered-unlimited-cashback-credit-card</td>\n",
       "      <td>Cashback</td>\n",
       "      <td>'Super useful cashback card for basically any...</td>\n",
       "      <td>Super useful cashback card for basically anyt...</td>\n",
       "      <td>[, super, useful, cashback, card, for, basical...</td>\n",
       "      <td>[, super, useful, cashback, card, basically, a...</td>\n",
       "      <td>[, super, useful, cashback, card, basically, a...</td>\n",
       "    </tr>\n",
       "  </tbody>\n",
       "</table>\n",
       "</div>"
      ],
      "text/plain": [
       "                                    credit_card_name card_type  \\\n",
       "0  standard-chartered-unlimited-cashback-credit-card  Cashback   \n",
       "1  standard-chartered-unlimited-cashback-credit-card  Cashback   \n",
       "2  standard-chartered-unlimited-cashback-credit-card  Cashback   \n",
       "3  standard-chartered-unlimited-cashback-credit-card  Cashback   \n",
       "4  standard-chartered-unlimited-cashback-credit-card  Cashback   \n",
       "\n",
       "                                             reviews  \\\n",
       "0  ['My first credit card. One of the best cards ...   \n",
       "1   'A 1.5% no frill cashback cards. What i like ...   \n",
       "2   '[Fee Waivers] 0 customer service. they will ...   \n",
       "3   \"Fast application and ease of usage. Look out...   \n",
       "4   'Super useful cashback card for basically any...   \n",
       "\n",
       "                                       reviews_clean  \\\n",
       "0  My first credit card One of the best cards for...   \n",
       "1   A 15 no frill cashback cards What i like abou...   \n",
       "2   Fee Waivers 0 customer service they will not ...   \n",
       "3   Fast application and ease of usage Look out f...   \n",
       "4   Super useful cashback card for basically anyt...   \n",
       "\n",
       "                                   reviews_tokenized  \\\n",
       "0  [my, first, credit, card, one, of, the, best, ...   \n",
       "1  [, a, 15, no, frill, cashback, cards, what, i,...   \n",
       "2  [, fee, waivers, 0, customer, service, they, w...   \n",
       "3  [, fast, application, and, ease, of, usage, lo...   \n",
       "4  [, super, useful, cashback, card, for, basical...   \n",
       "\n",
       "                                     reviews_no_stop  \\\n",
       "0  [first, credit, card, one, best, cards, cash, ...   \n",
       "1  [, 15, frill, cashback, cards, like, seems, le...   \n",
       "2  [, fee, waivers, 0, customer, service, waive, ...   \n",
       "3  [, fast, application, ease, usage, look, promo...   \n",
       "4  [, super, useful, cashback, card, basically, a...   \n",
       "\n",
       "                                  reviews_lemmatized  \n",
       "0  [first, credit, card, one, best, card, cash, b...  \n",
       "1  [, 15, frill, cashback, card, like, seems, le,...  \n",
       "2  [, fee, waiver, 0, customer, service, waive, l...  \n",
       "3  [, fast, application, ease, usage, look, promo...  \n",
       "4  [, super, useful, cashback, card, basically, a...  "
      ]
     },
     "metadata": {},
     "output_type": "display_data"
    }
   ],
   "source": [
    "## Instantiate the function\n",
    "wn = nltk.WordNetLemmatizer()\n",
    "\n",
    "# Define function for lemmatization\n",
    "def lemmatizing(tokenized_text):\n",
    "    text = []\n",
    "    # return list of all lemmatized words for their corresponding words in tokenized_text\n",
    "    for word in tokenized_text:\n",
    "        # Treat 'spending' as a verb instead of a noun\n",
    "        if word.startswith('spend'):\n",
    "            text.append(wn.lemmatize(word,nltk.corpus.wordnet.VERB))\n",
    "        # Do not lemmatize the word dbs\n",
    "        elif word.startswith('dbs'):\n",
    "            text.append(word)\n",
    "        else:\n",
    "            text.append(wn.lemmatize(word))\n",
    "    return text\n",
    "\n",
    "# Lemmatize the 'title and selftext' column\n",
    "combined_analyse_df['reviews_lemmatized'] = combined_analyse_df['reviews_no_stop'].apply(\n",
    "    lambda x: lemmatizing(x))\n",
    "\n",
    "# Display the first few rows in the datset\n",
    "display(combined_analyse_df.head())"
   ]
  },
  {
   "cell_type": "markdown",
   "id": "7199f260",
   "metadata": {},
   "source": [
    "**5. Count Vectorizer**"
   ]
  },
  {
   "cell_type": "markdown",
   "id": "b000b0e9",
   "metadata": {},
   "source": [
    "Convert text data into a structured, numeric X dataframe by using CountVectorizer."
   ]
  },
  {
   "cell_type": "code",
   "execution_count": 12,
   "id": "cd42eb54",
   "metadata": {},
   "outputs": [
    {
     "name": "stdout",
     "output_type": "stream",
     "text": [
      "R(Rows, Columns): (1093, 3628)\n",
      "['', '0', '01', '019', '03', '034', '05', '07', '083', '1', '10', '100', '1000', '10000', '10000miles', '1000month', '1001000', '105', '10k', '10points', '10x', '10x4mpd', '11', '117', '11am', '12', '120', '1200', '12243', '125mth', '12am', '12k', '12mdp', '12miles', '12month', '12mpd', '12mpd2mpd', '13', '130000', '138', '13k', '14', '14mpd', '15', '150', '1500', '15k', '15mins', '15th', '16', '16k', '17', '18', '180', '1800', '185', '18k', '19', '192', '1for1', '1k', '1k2k', '1st', '1x', '1x04mpd', '1year', '2', '20', '200', '2000', '2000month', '2000mth', '2009', '201', '20100', '2011', '2013', '2017', '2018', '2019', '2020', '2021', '2024', '2030', '20mins', '20x', '20x8mpd', '21', '210', '218', '2230', '23', '23days', '24', '247', '25', '250', '2500', '27', '27k', '28', '29', '2k', '2miles', '2mpd', '2nd', '2th', '2x', '3', '30', '300', '3000', '30000', '3002000', '300quarter', '30800', '30each', '30k', '30th', '31', '31st', '325', '33', '330', '333', '3335', '33miles', '34', '35', '350', '36', '360', '3600', '360caccount', '365', '365360', '38', '38000', '385', '388', '3k', '3miles', '3mpd', '3rd', '3x', '3years', '4', '40', '400', '40000', '400500', '4023', '4050', '4080', '40k', '4200', '42000', '45', '45yrs', '47', '48', '499', '4miles', '4milesdollar', '4mpd', '4th', '4x', '5', '50', '500', '5000', '50000', '50010002000', '5001k2k', '500month', '50k', '55', '5k', '5years', '6', '60', '600', '6000', '6080', '6080almost', '60k', '60relatively', '6during', '6k', '6months', '6mth', '7', '700', '70k', '711', '7500', '75k', '76', '7eleven', '7k', '8', '80', '800', '80000', '800in', '800mth', '80k', '80sgd', '830840', '888', '8mpd', '8th', '9', '900', '900mth', '90n', '95', '960', '99', 'ability', 'abit', 'able', 'absolute', 'absolutely', 'abt', 'abundance', 'ac', 'acc', 'accept', 'acceptable', 'acceptance', 'accepted', 'accepting', 'accepts', 'access', 'accessible', 'accessory', 'accident', 'accidentally', 'accommodation', 'accompanied', 'according', 'accordingly', 'account', 'accountbased', 'accountsquot', 'accrue', 'accrued', 'acct', 'accumulate', 'accumulated', 'accumulating', 'accumulation', 'accurate', 'acend', 'achievable', 'achieve', 'achieved', 'across', 'act', 'action', 'activate', 'activating', 'activation', 'active', 'activity', 'actual', 'actually', 'ad', 'add', 'added', 'adder', 'addi', 'adding', 'addition', 'additional', 'address', 'adequate', 'adhoc', 'adjusted', 'admin', 'administrative', 'admitted', 'adult', 'adulting', 'adv', 'advance', 'advanced', 'advantage', 'advertised', 'advertisement', 'advice', 'advisable', 'advise', 'advised', 'advocate', 'affect', 'affected', 'affiliate', 'affiliated', 'affiliation', 'afford', 'age', 'agency', 'agent', 'aggressive', 'ago', 'agoda', 'agree', 'agreed', 'agreement', 'ahead', 'aim', 'aimed', 'aiming', 'air', 'airbnb', 'airfare', 'airline', 'airmiles', 'airmileshack', 'airplane', 'airpod', 'airpods', 'airport', 'aka', 'albeit', 'alert', 'alibaba', 'aliexpress', 'align', 'aligns', 'alittle', 'allergy', 'allinone', 'allocating', 'allow', 'allowed', 'allowing', 'allows', 'allrounder', 'alls', 'almost', 'alone', 'along', 'alongside', 'alot', 'alr', 'already', 'alright', 'also', 'alternate', 'alternative', 'although', 'altitude', 'alway', 'always', 'amazing', 'amazon', 'amended', 'american', 'amex', 'amo', 'among', 'amos', 'amount', 'amt', 'ancestor', 'anniversary', 'announced', 'annoying', 'annual', 'annually', 'annum', 'another', 'answer', 'answering', 'ant', 'anually', 'anymore', 'anyone', 'anything', 'anytime', 'anyway', 'anywhere', 'ap', 'apart', 'app', 'apparently', 'appeal', 'appealing', 'appealthat', 'appear', 'appears', 'apple', 'appliance', 'applicable', 'applicant', 'application', 'applied', 'applies', 'appliged', 'apply', 'applying', 'applypay', 'appointment', 'appreciate', 'approach', 'approachable', 'approval', 'approve', 'approved', 'approves', 'approx', 'apps', 'apr', 'april', 'ar', 'archaic', 'area', 'aready', 'arena', 'arent', 'arguably', 'arises', 'around', 'arrange', 'arrival', 'arrived', 'artwork', 'ascend', 'asia', 'aside', 'ask', 'asked', 'asking', 'aspect', 'assign', 'assigned', 'assistance', 'associated', 'assuming', 'assured', 'atleast', 'atm', 'attached', 'attain', 'attainable', 'attempt', 'attend', 'attentive', 'attitude', 'attract', 'attracted', 'attracting', 'attractive', 'attractiveness', 'attracts', 'aug', 'august', 'auntie', 'auto', 'automated', 'automatic', 'automatically', 'automating', 'automation', 'autouse', 'available', 'average', 'avg', 'avid', 'avoid', 'award', 'awarded', 'awarding', 'aware', 'away', 'awesome', 'awful', 'awhile', 'awsm', 'ax', 'b', 'baby', 'back', 'background', 'backtracktrackwhatever', 'backup', 'bad', 'badly', 'bag', 'balance', 'bang', 'bank', 'bankbazaar', 'banked', 'banking', 'bankingcredit', 'banquet', 'bar', 'barcelona', 'barely', 'bargain', 'barrier', 'base', 'based', 'baseline', 'basic', 'basically', 'basis', 'battered', 'bean', 'beat', 'beautiful', 'beautifully', 'beauty', 'became', 'become', 'becomes', 'becoming', 'bee', 'beer', 'begin', 'beginner', 'beginnerfriendly', 'beginning', 'behind', 'believe', 'believed', 'benchmark', 'beneficial', 'benefit', 'benefitted', 'beside', 'besides', 'best', 'bested', 'better', 'beverage', 'beware', 'beyond', 'biased', 'big', 'bigger', 'biggest', 'bigticket', 'bill', 'billing', 'billstarhub', 'bit', 'black', 'blend', 'block', 'blood', 'blue', 'blueascend', 'bluesg', 'blur', 'boc', 'bocposb', 'boiled', 'boiling', 'bonus', 'book', 'booked', 'booking', 'bookstore', 'boost', 'boring', 'bot', 'bother', 'bothered', 'bought', 'bounded', 'box', 'branch', 'brand', 'bread', 'breadtalk', 'breakdown', 'breaker', 'breakfast', 'breeze', 'breezy', 'brilliant', 'bring', 'british', 'broad', 'broken', 'brotherinlaw', 'brought', 'browse', 'bto', 'btw', 'buck', 'bud', 'budget', 'build', 'building', 'bulk', 'bully', 'bummer', 'bumped', 'bunch', 'bundle', 'bundled', 'burnt', 'bus', 'business', 'busmrt', 'busy', 'butchery', 'butter', 'button', 'buy', 'buying', 'bypass', 'bypassing', 'c', 'ca', 'caashback', 'cab', 'cafe', 'cahsbacks', 'cake', 'cal', 'calculate', 'calculating', 'calculation', 'calendar', 'calender', 'call', 'called', 'callerfrie', 'callin', 'calling', 'caltex', 'came', 'campaign', 'campus', 'cancel', 'cancellation', 'cancelled', 'cancelling', 'cannibalize', 'cannot', 'cant', 'cap', 'capability', 'capitaland', 'capitalland', 'capitamall', 'capitavoucher', 'capland', 'capped', 'capping', 'captured', 'caput', 'car', 'card', 'card15', 'cardback', 'cardbackend', 'cardholder', 'cardmember', 'cardmembers', 'cardswaiver', 'cardup', 'cardwallet', 'care', 'careful', 'carefully', 'caretaker', 'carpark', 'carry', 'carrying', 'case', 'cash', 'cashb', 'cashback', 'cashbackgetting', 'cashbackmiles', 'cashbackrebate', 'cashbackrebates', 'cashbacks', 'cashbank', 'cashbate', 'cashflo', 'cashless', 'cashvouchers', 'cat', 'catalog', 'catalogue', 'catch', 'catchi', 'catching', 'categorised', 'categorization', 'categorize', 'category', 'cathay', 'cause', 'caveat', 'cb', 'cc', 'ceased', 'center', 'centre', 'certain', 'certainly', 'ch', 'chain', 'chalk', 'chalked', 'challenge', 'chance', 'change', 'changed', 'changing', 'charge', 'charged', 'charger', 'charging', 'chart', 'charter', 'chartered', 'chartereds', 'chase', 'chaser', 'chasing', 'chat', 'chatbot', 'cheap', 'cheaper', 'check', 'checked', 'checking', 'checkins', 'cheekily', 'cheer', 'child', 'childrens', 'china', 'choice', 'choose', 'chop', 'chope', 'chore', 'chose', 'chosen', 'chrome', 'cimb', 'cinema', 'circa', 'circle', 'circuit', 'citi', 'citibank', 'citibanks', 'citis', 'claim', 'claiming', 'clarify', 'class', 'classic', 'classified', 'clean', 'clear', 'clearly', 'clever', 'click', 'clicked', 'clicking', 'client', 'clinic', 'clock', 'clocking', 'close', 'closed', 'clothes', 'clothing', 'club', 'clubbers', 'clubbing', 'co', 'cobrand', 'cobranded', 'code', 'coffee', 'coin', 'cold', 'coldcalling', 'collate', 'colleague', 'collect', 'collecting', 'collection', 'collector', 'colorful', 'coloured', 'combination', 'combine', 'combined', 'combining', 'combo', 'come', 'comet', 'comfortable', 'comfortdelgo', 'coming', 'comment', 'commented', 'commerce', 'commercial', 'commission', 'commitment', 'committed', 'common', 'commute', 'commuting', 'companion', 'company', 'compare', 'compared', 'comparing', 'comparison', 'competing', 'competition', 'competitive', 'competitor', 'competiveness', 'complain', 'complaining', 'complains', 'complaint', 'complement', 'complentary', 'complete', 'completed', 'completely', 'complex', 'complexity', 'complicated', 'compliment', 'complimentary', 'component', 'comprehensive', 'compromised', 'con', 'concern', 'concert', 'concierge', 'conctactless', 'condescending', 'condition', 'conditioner', 'confirmation', 'confirmed', 'confusing', 'conjunction', 'connect', 'connected', 'consecutive', 'conservative', 'consider', 'considerably', 'consideration', 'considered', 'considering', 'consistent', 'consistently', 'consisting', 'consolidate', 'consolidating', 'constant', 'constantly', 'constitutes', 'constraint', 'consumer', 'contact', 'contacted', 'contacting', 'contactless', 'contactlessonline', 'contender', 'contest', 'continue', 'continues', 'continuing', 'contribute', 'convenience', 'convenient', 'conveniently', 'conversancy', 'conversation', 'conversion', 'convert', 'converted', 'converting', 'cooking', 'cooky', 'cool', 'copy', 'correct', 'correctly', 'correlate', 'cosmetic', 'cost', 'could', 'couldnt', 'council', 'count', 'counted', 'counter', 'counterpart', 'countless', 'country', 'couple', 'coupled', 'courier', 'course', 'cover', 'coverage', 'covered', 'covering', 'covid', 'covid19', 'cr', 'crack', 'crappy', 'crazy', 'create', 'created', 'credit', 'credited', 'crediting', 'crisis', 'criterion', 'cross', 'crosscheck', 'cruise', 'cso', 'csos', 'csr', 'culinary', 'cup', 'currency', 'currenly', 'current', 'currently', 'cust', 'customer', 'customisable', 'customize', 'cut', 'cutback', 'cutoff', 'cuz', 'cvv', 'cycle', 'daigou', 'daily', 'dailymonthly', 'damage', 'damn', 'dark', 'date', 'dated', 'dating', 'day', 'daytoday', 'dbs', 'dbsposb', 'dbss', 'deal', 'dealing', 'dear', 'debit', 'dec', 'decade', 'decent', 'decide', 'decided', 'decipher', 'decision', 'decisionmaking', 'decoy', 'deduct', 'deducted', 'deduction', 'deem', 'default', 'defeat', 'defect', 'defines', 'definitely', 'defintely', 'delay', 'delighted', 'delivered', 'delivers', 'delivery', 'demise', 'demographic', 'denied', 'denomination', 'dental', 'deor', 'department', 'departmental', 'depending', 'depends', 'deposit', 'depositspure', 'dept', 'derived', 'deserves', 'design', 'desired', 'despite', 'destination', 'detail', 'deter', 'di', 'didnt', 'die', 'differ', 'difference', 'different', 'differentiation', 'difficult', 'difficulty', 'digibank', 'digital', 'digitalized', 'diligent', 'dine', 'diner', 'dingdong', 'dining', 'diningtravelretail', 'dinner', 'dinning', 'dip', 'direct', 'directly', 'disappointed', 'disappointing', 'disappointment', 'disburse', 'discipline', 'disclaimer', 'discontinue', 'discount', 'discounted', 'discouraged', 'discover', 'discovered', 'discrepancy', 'discussing', 'discussion', 'dishonest', 'dislike', 'dispute', 'diversified', 'diversify', 'dividend', 'diy', 'dlr', 'doable', 'document', 'documentsthink', 'doesnt', 'dollar', 'domain', 'done', 'dont', 'door', 'dosent', 'double', 'downer', 'downgraded', 'downhill', 'download', 'downloaded', 'downside', 'downtown', 'draw', 'drawback', 'drawer', 'dream', 'drink', 'drinksfood', 'drive', 'driver', 'drop', 'dropped', 'dropping', 'due', 'dunt', 'duper', 'dust', 'duty', 'e', 'ear', 'earlier', 'earliest', 'early', 'earn', 'earned', 'earner', 'earning', 'earnings', 'earns', 'ease', 'easier', 'easiest', 'easiler', 'easily', 'easliy', 'east', 'eastern', 'easy', 'easytoattain', 'eat', 'eatery', 'eating', 'ecard', 'ecospend', 'ecosystem', 'edge', 'edit', 'education', 'effect', 'effective', 'effectively', 'efficiency', 'efficient', 'effort', 'effortlessly', 'eg', 'egg', 'egregious', 'either', 'electricity', 'electronic', 'electronics', 'elephant', 'eleven', 'eligibility', 'eligible', 'elite', 'else', 'elsewhere', 'email', 'emailed', 'embarrassing', 'emergency', 'empathy', 'emphasis', 'employment', 'enable', 'enabled', 'enables', 'encounter', 'encountered', 'encourage', 'encouraging', 'end', 'ended', 'endless', 'endowment', 'endtoend', 'energy', 'enforced', 'enforcement', 'enhanc', 'enhanced', 'enhancement', 'enjo', 'enjoy', 'enjoyable', 'enjoyed', 'enjoying', 'enough', 'enquire', 'enquires', 'enquiry', 'enroll', 'enrolled', 'enrolment', 'ensure', 'enter', 'entertained', 'entertainer', 'entertainment', 'entertainmentmovies', 'enthusiastic', 'enticed', 'enticing', 'entire', 'entirely', 'entitle', 'entitled', 'entrance', 'entry', 'entrylevel', 'equal', 'equates', 'equivalent', 'era', 'ereceipts', 'error', 'esignature', 'esp', 'especially', 'espeically', 'essential', 'essentially', 'esso', 'estatement', 'estatements', 'estbalishements', 'etc', 'europe', 'eve', 'even', 'event', 'eventually', 'ever', 'every', 'everyday', 'everyone', 'everything', 'everytime', 'everywhere', 'evolved', 'ex', 'exact', 'exactly', 'example', 'excatly', 'exceed', 'exceeded', 'exceeding', 'exceeds', 'excellent', 'except', 'exception', 'exceptionally', 'excess', 'exchange', 'exchangetransaction', 'exciting', 'exclude', 'excluded', 'excludes', 'excluding', 'exclusion', 'exclusive', 'excuse', 'existed', 'existence', 'existing', 'expand', 'expect', 'expectation', 'expected', 'expecting', 'expedia', 'expenditur', 'expenditure', 'expense', 'experience', 'experienced', 'experimented', 'expiration', 'expire', 'expired', 'expires', 'expiring', 'expiry', 'explained', 'explanation', 'express', 'extended', 'extent', 'exterior', 'external', 'extr', 'extra', 'extracted', 'extremely', 'eye', 'eyeing', 'ez', 'ezbuy', 'ezl', 'ezlink', 'ezreload', 'eztop', 'ezylink', 'face', 'facebook', 'faced', 'facilitiesevent', 'facility', 'fact', 'fail', 'failed', 'fails', 'fair', 'fairly', 'fairprice', 'fairpricei', 'fall', 'fame', 'family', 'famous', 'fan', 'fancy', 'fantastic', 'far', 'fare', 'farirpice', 'fast', 'faster', 'fastest', 'fastfood', 'fault', 'fav', 'fave', 'favor', 'favorite', 'favour', 'favourite', 'fb', 'fc', 'fcy', 'fd', 'feasible', 'feature', 'feb', 'february', 'fee', 'feedback', 'feel', 'feeling', 'feewaiver', 'fell', 'felt', 'female', 'fewer', 'field', 'figure', 'fill', 'filling', 'filmgarde', 'final', 'finally', 'financial', 'find', 'finding', 'fine', 'finest', 'fir', 'first', 'firstly', 'firsttime', 'fit', 'five', 'fixated', 'fixed', 'flash', 'flat', 'flexible', 'flight', 'flightshotels', 'flip', 'flow', 'flush', 'fly', 'flyer', 'focus', 'folk', 'follow', 'followed', 'following', 'font', 'food', 'foodie', 'foodmovies', 'foodpanda', 'foodtransport', 'fooled', 'force', 'forced', 'forcing', 'foreign', 'forever', 'forget', 'forgets', 'forgetting', 'forgot', 'form', 'formiles', 'fortunately', 'forum', 'forward', 'found', 'fra', 'frame', 'framework', 'framing', 'frank', 'frankly', 'fraud', 'fraudulent', 'freaking', 'free', 'freebie', 'freeze', 'frequency', 'frequent', 'frequently', 'fresh', 'freshuob', 'fri', 'friday', 'friend', 'friendly', 'friendsthe', 'frill', 'frugal', 'fruitful', 'frustrated', 'frustrating', 'fuel', 'fulfil', 'fulfill', 'fulfilled', 'fulfilling', 'fulfilment', 'full', 'fully', 'fun', 'function', 'functionality', 'fund', 'furious', 'furthermore', 'fuss', 'fussfree', 'fussy', 'future', 'futz', 'fyi', 'gadget', 'gain', 'gainful', 'gaining', 'game', 'garner', 'gas', 'gasoline', 'gather', 'gauge', 'gave', 'ge', 'gem', 'geneco', 'general', 'generally', 'generation', 'generic', 'generous', 'genreal', 'gerneal', 'get', 'getting', 'giant', 'giantsheng', 'gift', 'gig', 'girlfriend', 'giro', 'girocredit', 'girono', 'give', 'given', 'giving', 'glad', 'gladly', 'glance', 'glitch', 'global', 'glorified', 'glow', 'go', 'goer', 'going', 'gojek', 'gold', 'golden', 'gone', 'gongcha', 'gonna', 'good', 'goodie', 'goodtohave', 'goody', 'google', 'got', 'goto', 'gotocard', 'gotten', 'government', 'govt', 'gpmc', 'grab', 'grabfood', 'grabpay', 'grace', 'grad', 'grade', 'graduate', 'graduated', 'graduating', 'grammy', 'grant', 'granted', 'gray', 'great', 'greater', 'greatest', 'greatly', 'green', 'grey', 'gripe', 'groceriessupermarket', 'grocery', 'group', 'grow', 'grudgingly', 'guarantee', 'guardian', 'guess', 'guessing', 'guidance', 'guide', 'guideline', 'guiding', 'gutter', 'guy', 'gv', 'gym', 'habit', 'hack', 'hacking', 'haha', 'hahahaha', 'hai', 'hair', 'hairdresser', 'half', 'hand', 'handful', 'handicapped', 'handle', 'handling', 'handphone', 'handsome', 'handsomely', 'handy', 'hao', 'happen', 'happening', 'happens', 'happily', 'happy', 'hard', 'hardcopy', 'harder', 'hardly', 'harm', 'hassel', 'hassle', 'hasslefree', 'hav', 'have', 'havent', 'hawker', 'hazard', 'head', 'headache', 'heading', 'headline', 'health', 'hear', 'heard', 'heavily', 'heavy', 'hefty', 'held', 'help', 'helped', 'helpful', 'helpfully', 'helpfulness', 'hence', 'here', 'herring', 'hey', 'hiccup', 'hidden', 'hide', 'high', 'highamount', 'higher', 'highest', 'highhanded', 'highlighted', 'highly', 'hire', 'hisher', 'historically', 'history', 'hit', 'hitting', 'hmmm', 'ho', 'hoc', 'hold', 'holder', 'holding', 'hole', 'holiday', 'holidaying', 'home', 'homehub', 'homework', 'honest', 'honestly', 'hoop', 'hope', 'hopefully', 'hoping', 'hopper', 'hopping', 'horrible', 'hospital', 'hot', 'hotel', 'hotelflights', 'hotline', 'hotlines', 'hour', 'house', 'household', 'housewife', 'housing', 'however', 'hsbc', 'huge', 'hum', 'human', 'hundred', 'hurdle', 'husband', 'hussle', 'hustle', 'hv', 'hybrid', 'ib', 'ibanking', 'ic', 'iceland', 'icing', 'id', 'idea', 'ideal', 'ideally', 'identical', 'identifying', 'identity', 'ie', 'ignore', 'ii', 'iirc', 'ill', 'im', 'imaginable', 'immediate', 'immediately', 'imo', 'impacted', 'implement', 'important', 'importantly', 'imposed', 'imposes', 'impossible', 'impressed', 'impression', 'impressive', 'improve', 'improved', 'improves', 'improving', 'inaccessible', 'inaccurate', 'inapp', 'inbox', 'incentive', 'incentivepromotion', 'incl', 'include', 'included', 'includes', 'including', 'inclusion', 'income', 'inconsistent', 'inconvenience', 'incorporate', 'increase', 'increased', 'increasing', 'incurred', 'indeed', 'indicate', 'indirectly', 'individual', 'indulge', 'industry', 'inflexible', 'inflicted', 'info', 'inform', 'information', 'informed', 'inftont', 'initial', 'initially', 'initiative', 'inline', 'input', 'insane', 'insanely', 'inside', 'insist', 'installment', 'instalment', 'instance', 'instant', 'instantly', 'instead', 'institution', 'instore', 'insufficient', 'insurance', 'int', 'integrated', 'integration', 'intend', 'intended', 'intending', 'intention', 'intentional', 'interbank', 'interest', 'interested', 'interesting', 'interface', 'internet', 'intervention', 'introduced', 'introduces', 'introductory', 'intuitive', 'invalid', 'invest', 'investing', 'investment', 'investor', 'involve', 'ion', 'ipaymy', 'iphone', 'ir', 'irregular', 'isnt', 'issuance', 'issue', 'issued', 'iswitch', 'item', 'itll', 'itunes', 'ive', 'jan', 'janmar', 'january', 'japan', 'jcb', 'job', 'join', 'joining', 'journey', 'ju', 'jul', 'july', 'jump', 'jumping', 'jun', 'june', 'junkie', 'jurong', 'justify', 'k0034077p', 'kaligo', 'kalingo', 'kaya', 'keen', 'keep', 'keeping', 'keppel', 'kept', 'key', 'kf', 'kfc', 'kick', 'kid', 'kind', 'kinda', 'kiosk', 'knew', 'know', 'knowing', 'knowledgeable', 'known', 'korna', 'koufu', 'kr', 'kris', 'krisflyer', 'krona', 'kudos', 'kylie', 'l', 'la', 'lack', 'lacked', 'lacking', 'lacklustre', 'lady', 'lah', 'lao', 'laptop', 'large', 'largely', 'larger', 'largest', 'lasik', 'last', 'lasting', 'lastly', 'late', 'lately', 'later', 'latest', 'latte', 'latter', 'launch', 'launched', 'lavish', 'layout', 'lazada', 'lazy', 'le', 'lea', 'leading', 'leadtime', 'learn', 'learning', 'learnt', 'least', 'left', 'legit', 'leisure', 'lengthy', 'lesser', 'lessor', 'lest', 'let', 'letter', 'level', 'leverage', 'lian', 'liberally', 'lieu', 'life', 'lifestyle', 'lifetime', 'light', 'like', 'likely', 'likewise', 'limit', 'limitation', 'limited', 'limiting', 'line', 'link', 'linked', 'linkpoints', 'list', 'listed', 'listen', 'listening', 'lite', 'literally', 'little', 'live', 'livefresh', 'living', 'load', 'loan', 'local', 'locally', 'localoverseasonline', 'locate', 'located', 'location', 'lock', 'log', 'logged', 'logic', 'login', 'logo', 'lol', 'long', 'longer', 'longest', 'look', 'looking', 'lookout', 'loop', 'loophole', 'lose', 'loses', 'losing', 'loss', 'lost', 'lot', 'lounge', 'lousy', 'love', 'loved', 'lovely', 'loving', 'low', 'loweffort', 'lower', 'lowered', 'lowincome', 'lowspenders', 'loyalty', 'luckily', 'lucky', 'luggage', 'lump', 'lumped', 'lumpy', 'lunch', 'lunchdinner', 'lying', 'm1', 'ma', 'mac', 'macdonald', 'machine', 'made', 'mail', 'mailbox', 'mailed', 'main', 'mainly', 'mainstream', 'maintain', 'maintained', 'maintaining', 'maintance', 'maintenance', 'major', 'majority', 'make', 'making', 'malaysia', 'male', 'mall', 'man', 'manage', 'manageable', 'managed', 'manhattan', 'manhatten', 'manila', 'manner', 'manpower', 'manual', 'manually', 'many', 'mar', 'march', 'marginally', 'market', 'marketed', 'marketing', 'marketplace', 'married', 'mart', 'marvelous', 'mass', 'massage', 'master', 'mastercard', 'mastercards', 'masterscard', 'match', 'math', 'matter', 'max', 'maxed', 'maximisation', 'maximise', 'maximize', 'maximum', 'maxium', 'may', 'maybank', 'maybe', 'mcc', 'mccs', 'mcdonalds', 'mdr', 'meal', 'mean', 'meant', 'meanwhile', 'mechanic', 'medical', 'mediocre', 'meet', 'meeting', 'meh', 'member', 'membership', 'men', 'mention', 'mentioned', 'mentioning', 'menu', 'merchandise', 'merchant', 'merchantsretailer', 'mercs', 'mere', 'message', 'messagesrequest', 'messaging', 'met', 'method', 'meticulous', 'mgmt', 'mi', 'middleage', 'midway', 'might', 'mile', 'mileage', 'mileageredemption', 'milesearning', 'milesmin', 'milesperdollar', 'milesvoucherscashback', 'millennial', 'min', 'mind', 'mindful', 'mine', 'minimal', 'minimalist', 'minimise', 'minimu', 'minimum', 'minor', 'minus', 'minute', 'miriad', 'misc', 'miscalculation', 'misconception', 'misleading', 'misplaced', 'miss', 'missed', 'missing', 'mistake', 'mistakenly', 'misunderstood', 'mixed', 'mobile', 'mode', 'moderate', 'moderately', 'modernize', 'mom', 'moment', 'mon', 'monday', 'money', 'moneysmart', 'moneysmartsingsaver', 'monitor', 'monitoring', 'month', 'monthly', 'monthlythe', 'monthtomonth', 'moreov', 'moreover', 'mortal', 'mostly', 'motivation', 'move', 'moved', 'movie', 'moving', 'mpd', 'mpddo', 'mrt', 'mst', 'mth', 'mths', 'much', 'multicard', 'multiple', 'multipler', 'multiplier', 'must', 'mustafa', 'musthave', 'mutiplier', 'myinfo', 'mysterious', 'n', 'nagging', 'name', 'narrow', 'nasty', 'natas', 'navigate', 'navigation', 'near', 'nearby', 'nearest', 'nearly', 'necessarily', 'necessary', 'necessity', 'need', 'needed', 'needing', 'negates', 'negotiation', 'nerfed', 'nerfing', 'netting', 'never', 'nevermind', 'nevertheless', 'new', 'newtobank', 'newtocard', 'next', 'nice', 'night', 'nightmare', 'no', 'no1', 'nobody', 'nobrainer', 'nofrills', 'nomination', 'non', 'noncontactless', 'none', 'nonetheless', 'nonexpiry', 'nonna', 'nononlinepaywave', 'nononsense', 'nonpromo', 'nonscb', 'nonstudent', 'norm', 'normal', 'notch', 'note', 'noted', 'nothing', 'notice', 'noticed', 'notification', 'notified', 'notthebest', 'notwithstanding', 'november', 'novena', 'nowadays', 'nric', 'nsf', 'ntuc', 'ntucocbc', 'nu', 'nubbad', 'nullify', 'number', 'numerous', 'nvr', 'oao', 'oasis', 'obstacle', 'obtain', 'obtained', 'obtaining', 'obviously', 'ocassions', 'ocbc', 'ocbc360', 'ocbc365', 'ocbd', 'occasional', 'occasionally', 'oct', 'october', 'odd', 'oddball', 'oem', 'offer', 'offered', 'offering', 'office', 'officer', 'official', 'offline', 'offset', 'often', 'oh', 'ohm', 'ok', 'okay', 'ol', 'old', 'one', 'onebill', 'oneoff', 'ongoing', 'onlin', 'online', 'online200', 'onlines', 'onlu', 'onto', 'onward', 'onwards', 'open', 'opening', 'operation', 'operator', 'opinion', 'opposed', 'opt', 'optimise', 'optimising', 'optimize', 'option', 'order', 'ordering', 'orientated', 'original', 'orphan', 'ota', 'othe', 'others', 'otherwise', 'otp', 'ou', 'outgoing', 'outlet', 'outright', 'outshone', 'outside', 'outsource', 'outsourced', 'outstanding', 'overall', 'overcharging', 'overcome', 'overlooked', 'overrated', 'oversea', 'overseas', 'overspend', 'overused', 'overwhelming', 'ovwr', 'owes', 'owned', 'ownership', 'owning', 'owns', 'p', 'pa', 'pace', 'pack', 'package', 'page', 'paid', 'pain', 'painful', 'painless', 'pair', 'paired', 'pairing', 'pale', 'pandemic', 'paper', 'paperless', 'par', 'park', 'parking', 'part', 'participate', 'participating', 'particular', 'particularly', 'partner', 'partnership', 'party', 'partying', 'pas', 'pass', 'password', 'past', 'pathetic', 'patient', 'patronage', 'pattern', 'pay', 'payfave', 'paygoogle', 'paying', 'paylah', 'paym', 'payment', 'paymenteg', 'paynow', 'payout', 'paypal', 'paypass', 'paywave', 'paywaveapple', 'paywavecontactless', 'pc', 'peace', 'peak', 'pecking', 'peer', 'penalised', 'penalty', 'pending', 'people', 'per', 'percent', 'percentage', 'perfect', 'perfectly', 'performer', 'perhaps', 'period', 'periodic', 'perk', 'perksplain', 'permanent', 'perpetual', 'person', 'personal', 'personally', 'personnel', 'pet', 'petro', 'petrol', 'ph', 'pharmacy', 'philip', 'phone', 'phuture', 'physical', 'physically', 'pick', 'picked', 'picture', 'piece', 'pioneer', 'pissed', 'pity', 'place', 'placed', 'plague', 'plain', 'plan', 'plane', 'planning', 'platform', 'platinum', 'play', 'playing', 'plaza', 'please', 'pleased', 'pleasure', 'plentiful', 'plently', 'plenty', 'pls', 'plus', 'pm', 'pocket', 'point', 'pointed', 'pointsmiles', 'pointsrebate', 'policy', 'polite', 'pool', 'pooled', 'poor', 'poorest', 'popping', 'popular', 'populate', 'portal', 'portion', 'posb', 'posbdbs', 'posbs', 'positive', 'possibility', 'possible', 'possibly', 'post', 'posted', 'posting', 'potential', 'potentially', 'pound', 'power', 'powerful', 'powerfull', 'ppl', 'practical', 'practise', 'pre', 'precious', 'prefer', 'preference', 'preferred', 'premier', 'premiermiles', 'premium', 'prep', 'prepaid', 'prepared', 'preparing', 'press', 'pressing', 'pressure', 'pressured', 'pretty', 'prev', 'prevent', 'previous', 'previously', 'price', 'pricing', 'primarily', 'primary', 'principal', 'print', 'printed', 'prior', 'priority', 'private', 'privi', 'privilege', 'prize', 'pro', 'proactive', 'prob', 'probably', 'problem', 'procedure', 'proceed', 'process', 'processed', 'processing', 'produce', 'product', 'profe', 'profile', 'proggresively', 'program', 'programme', 'promise', 'promised', 'promo', 'promos', 'promotion', 'promotional', 'prompt', 'promptly', 'proof', 'proper', 'properly', 'proposition', 'prove', 'proven', 'provide', 'provided', 'provider', 'provides', 'providing', 'prudential', 'prvi', 'pt', 'pu', 'pub', 'public', 'pump', 'pumping', 'punish', 'purchase', 'purchased', 'purchasesmin', 'purchasing', 'pure', 'purely', 'purpose', 'put', 'putchases', 'q32018', 'qoo10', 'qualification', 'qualified', 'qualifies', 'qualify', 'qualifying', 'quality', 'quantum', 'quarter', 'quarterly', 'query', 'question', 'queue', 'quick', 'quickly', 'quite', 'quota', 'quotany', 'rack', 'raise', 'raised', 'ran', 'random', 'randomly', 'range', 'rare', 'rate', 'rather', 'rating', 'ratio', 'raved', 'razor', 'reach', 'reachable', 'reached', 'reactive', 'read', 'readily', 'ready', 'real', 'realised', 'realistic', 'reality', 'realize', 'realized', 'really', 'realm', 'reap', 'reason', 'reasonable', 'reasoning', 'rebate', 'rebatesreferral', 'rebbate', 'recall', 'receive', 'received', 'receiving', 'recent', 'recently', 'recieve', 'recieved', 'recognise', 'recognised', 'recognize', 'recommend', 'recommendable', 'recommendation', 'recommended', 'recommending', 'recorded', 'recording', 'recoup', 'recourse', 'recovered', 'rectify', 'recurring', 'red', 'redeem', 'redeemable', 'redeemed', 'redeeming', 'redeemoffset', 'redemption', 'redirecting', 'redmart', 'reduce', 'reduced', 'reduction', 'referral', 'reflect', 'reflected', 'refresh', 'refund', 'refuse', 'refused', 'regard', 'regarding', 'regardless', 'registered', 'registration', 'regret', 'regretted', 'regular', 'regularly', 'reimbursable', 'reinstated', 'reject', 'rejected', 'rejecting', 'related', 'relating', 'relation', 'relationship', 'relative', 'relatively', 'relax', 'relevant', 'reliable', 'relieve', 'relieved', 'reload', 'reloading', 'relook', 'rely', 'remain', 'remained', 'remaining', 'remains', 'remember', 'remembering', 'removal', 'remove', 'removed', 'rendered', 'renew', 'renewal', 'renewed', 'rent', 'rental', 'renthero', 'repayment', 'repeated', 'replace', 'replaced', 'replacement', 'replied', 'reply', 'reputation', 'req', 'request', 'requested', 'requesting', 'require', 'required', 'requirement', 'requiremnet', 'requires', 'research', 'resentment', 'resolve', 'resolved', 'resolving', 'respective', 'respectively', 'respond', 'responded', 'response', 'responsible', 'responsive', 'rest', 'restarting', 'restaurant', 'restaurantsbar', 'restricted', 'restriction', 'restrictive', 'result', 'resulte', 'resuming', 'retail', 'retailer', 'retain', 'retention', 'retook', 'return', 'reva', 'revamped', 'reversal', 'reverse', 'reversed', 'revert', 'reverted', 'review', 'reviewer', 'reviewing', 'reviewingocbc', 'revise', 'revised', 'revision', 'revo', 'revolutyoutripother', 'revolve', 'revolves', 'reward', 'rewarded', 'rewarding', 'rewardspoints', 'rid', 'ride', 'ridehailing', 'riding', 'rids', 'right', 'rightaway', 'rmb', 'road', 'robot', 'rookie', 'room', 'roughly', 'round', 'rounded', 'rounder', 'rounding', 'routine', 'row', 'rude', 'rule', 'run', 'running', 'runofthemill', 's1', 's100', 's1000', 's120', 's120150', 's13', 's14miles', 's150', 's1926', 's20', 's200', 's2000', 's350', 's3k', 's400', 's5', 's50', 's5000', 's500000', 's600', 's80000', 's800month', 'sa', 'sad', 'sadly', 'safe', 'safely', 'safra', 'said', 'sake', 'salary', 'salarypay', 'sale', 'sameclose', 'samsonite', 'samsung', 'sashimi', 'sat', 'satisfactory', 'satisfied', 'save', 'saved', 'saving', 'savvy', 'saw', 'say', 'saying', 'sc', 'scattered', 'scb', 'scc', 'sceptical', 'scheme', 'school', 'score', 'screenshots', 'scrutinising', 'seamless', 'seamlessly', 'search', 'seasonal', 'second', 'secondary', 'secondly', 'section', 'secure', 'secured', 'security', 'see', 'seedly', 'seeing', 'seek', 'seeking', 'seem', 'seemed', 'seems', 'seen', 'segment', 'seldom', 'select', 'selected', 'self', 'selling', 'send', 'sending', 'sensd', 'sense', 'sent', 'sentosa', 'separate', 'separately', 'september', 'serf', 'seriously', 'serve', 'served', 'service', 'servicepromotions', 'serving', 'set', 'setting', 'settle', 'settled', 'settlement', 'setup', 'seven', 'several', 'severe', 'sexy', 'sg', 'sgd', 'sgd150', 'sgd19260', 'sgd20', 'sgd200', 'sgd30', 'sgd3kmonth', 'sgd500', 'sgd650', 'sgd800', 'share', 'shared', 'sharing', 'shaw', 'shell', 'shen', 'sheng', 'shengshion', 'shengshiong', 'shengsiong', 'shifted', 'shine', 'shiok', 'shiong', 'shoe', 'shoo', 'shop', 'shopaholic', 'shopback', 'shopee', 'shopeelazadaqoo10', 'shopped', 'shoppee', 'shopper', 'shoppin', 'shopping', 'short', 'shortage', 'shorter', 'shortly', 'shout', 'show', 'showing', 'shown', 'sia', 'sian', 'side', 'sidetracked', 'sigh', 'sigheven', 'sign', 'signature', 'signed', 'signedup', 'significant', 'significantly', 'signing', 'signup', 'signups', 'silent', 'silver', 'similar', 'simple', 'simpler', 'simplest', 'simplified', 'simply', 'simplygo', 'sin', 'since', 'sincerely', 'singapore', 'singaporean', 'single', 'singpass', 'singpost', 'singsaver', 'singtel', 'sinopec', 'siong', 'sister', 'site', 'sitting', 'situation', 'situational', 'six', 'slapped', 'sleek', 'slice', 'slight', 'slightly', 'slimmer', 'slow', 'slower', 'slowly', 'sm', 'small', 'smaller', 'smart', 'smooth', 'smrt', 'sneakil', 'sneaky', 'snuff', 'socalled', 'soft', 'sold', 'solely', 'solid', 'solution', 'solve', 'solving', 'somebody', 'somehow', 'someone', 'something', 'sometime', 'sometimes', 'somewhat', 'somewhere', 'song', 'soon', 'sop', 'sorry', 'sort', 'soso', 'sound', 'soup', 'sour', 'source', 'sp', 'spa', 'space', 'spare', 'spc', 'speak', 'speaking', 'special', 'specialized', 'specific', 'specifically', 'spectrum', 'speed', 'speedy', 'spend', 'spender', 'spenders', 'spendingmth', 'spendremembering', 'spendthrift', 'spent', 'spents', 'spilt', 'spin', 'spite', 'split', 'splitting', 'spoil', 'spoiled', 'spoon', 'spot', 'spotted', 'spotty', 'spread', 'spree', 'sq', 'sqscootjetstarairasia', 'stack', 'stacking', 'staff', 'stage', 'stale', 'stan', 'stanchart', 'stand', 'standard', 'star', 'starbucks', 'starhub', 'start', 'started', 'starter', 'starting', 'state', 'stated', 'statement', 'statementtransaction', 'station', 'status', 'stay', 'staycations', 'steady', 'step', 'stick', 'sticking', 'still', 'stingy', 'stipulated', 'stmt', 'sto', 'stop', 'stopped', 'storage', 'store', 'stored', 'storewide', 'straight', 'straightforward', 'strange', 'strategic', 'strategy', 'streak', 'strength', 'stress', 'stressfree', 'stressful', 'stretch', 'strict', 'strictly', 'strong', 'strongly', 'structure', 'struggle', 'stuck', 'student', 'stuff', 'stupid', 'sub', 'subject', 'subjected', 'submit', 'submitted', 'subscriber', 'subscription', 'subsequent', 'subsequently', 'substantial', 'substantially', 'successful', 'successfully', 'suddenly', 'suffering', 'sufficient', 'suggest', 'suggests', 'suit', 'suitable', 'sum', 'summary', 'sun', 'sunday', 'sunk', 'super', 'supermarket', 'supp', 'supplement', 'supplementary', 'support', 'supporting', 'supposed', 'sure', 'surely', 'surgery', 'surprise', 'surprised', 'surprisingly', 'sushi', 'suspended', 'swag', 'sweeping', 'swift', 'swiftly', 'switch', 'switched', 'switching', 'sword', 'sync', 'synced', 'synergy', 'system', 'tabulated', 'tactic', 'tag', 'tagged', 'tailor', 'takashimaya', 'take', 'taken', 'taking', 'talk', 'talking', 'tally', 'tandem', 'tank', 'taobao', 'tap', 'target', 'targeted', 'targetted', 'taste', 'tax', 'taxi', 'tbh', 'tc', 'tea', 'team', 'tearing', 'tech', 'technical', 'technically', 'tedious', 'teenager', 'tei', 'telco', 'telecos', 'telephone', 'tell', 'telling', 'temporary', 'tempted', 'term', 'terminated', 'termination', 'terrible', 'test', 'text', 'tgey', 'tgt', 'th', 'thank', 'thanks', 'thankyou', 'thats', 'theatre', 'there', 'thereafter', 'therefore', 'therere', 'therewith', 'theyjust', 'theyll', 'theyre', 'thing', 'think', 'thinking', 'third', 'tho', 'thou', 'though', 'thought', 'thousand', 'thrash', 'threaten', 'three', 'threshold', 'threw', 'thrift', 'thrill', 'throughout', 'throw', 'thru', 'thumb', 'thus', 'ticket', 'ticketing', 'ticketshousehold', 'tie', 'tied', 'tier', 'tiered', 'tieup', 'tieups', 'tight', 'till', 'timalso', 'time', 'timely', 'timer', 'tiny', 'tip', 'tipsy', 'tired', 'titanium', 'tldr', 'tnc', 'tncs', 'toasted', 'together', 'togo', 'toiletry', 'told', 'ton', 'took', 'tool', 'toolbox', 'top', 'topic', 'topping', 'topup', 'topups', 'total', 'totally', 'touch', 'tough', 'toughest', 'tour', 'tout', 'toward', 'towards', 'town', 'towncouncil', 'track', 'tracker', 'tracking', 'traditional', 'train', 'transaction', 'transactionspay', 'transcation', 'transfer', 'transferred', 'transferring', 'transit', 'transiting', 'transition', 'transitlink', 'transparency', 'transport', 'transportation', 'trap', 'travel', 'traveler', 'traveling', 'travelling', 'travelrelated', 'treat', 'treated', 'tremendously', 'tricking', 'tried', 'trip', 'triumph', 'trivial', 'trouble', 'troublesome', 'tru', 'true', 'truecash', 'truly', 'trust', 'trusty', 'try', 'trying', 'tuas', 'tuesday', 'turn', 'turned', 'tweaking', 'twice', 'two', 'type', 'typical', 'typically', 'u', 'uber', 'ugly', 'ui', 'uiux', 'unable', 'unattractive', 'uncategorized', 'uncertainty', 'uncompromising', 'underneath', 'underrated', 'underspend', 'understand', 'understandable', 'understanding', 'understood', 'undisputed', 'undoubtedly', 'unexpected', 'unfavorable', 'unforgiving', 'unfortunately', 'unfriendly', 'unheard', 'uni', 'unintentionally', 'union', 'unionpay', 'unique', 'unit', 'unity', 'university', 'unless', 'unlike', 'unlikely', 'unlimited', 'unlimitedaver', 'unlimitedsaver', 'unlinking', 'unlock', 'unlocked', 'unlucky', 'unnecessarily', 'unnecessary', 'unnegotiable', 'unpleasant', 'unreasonable', 'unrestricted', 'untouched', 'uob', 'uobone', 'uobs', 'upcoming', 'update', 'updated', 'upfront', 'upgrade', 'upgraded', 'upgrading', 'upload', 'uploaded', 'upon', 'upped', 'ups', 'upto', 'upwards', 'ur', 'urgently', 'us', 'usable', 'usage', 'use', 'used', 'useful', 'useless', 'user', 'userfriendly', 'using', 'usp', 'usual', 'usually', 'utap', 'utilisation', 'utilise', 'utilising', 'utilites', 'utility', 'utilize', 'v', 'vague', 'vain', 'valid', 'validity', 'valuation', 'value', 'valued', 'vanilla', 'variable', 'varies', 'variety', 'various', 'vary', 'vehicle', 'vendor', 'venue', 'verbal', 'verdict', 'verification', 'verifying', 'versatile', 'version', 'veryvery', 'via', 'vibe', 'view', 'village', 'vip', 'virtual', 'virtually', 'visa', 'visamc', 'visit', 'visitor', 'voice', 'volume', 'voucher', 'voya', 'vpost', 'w', 'wait', 'waiting', 'waive', 'waived', 'waiver', 'waiving', 'wake', 'walked', 'wallet', 'wanna', 'want', 'wanted', 'warning', 'warrant', 'wasnt', 'waste', 'wasted', 'wasting', 'waston', 'watch', 'watson', 'wave', 'wavier', 'way', 'weak', 'weakness', 'wear', 'web', 'webapp', 'website', 'wedding', 'weddingbanquethack', 'weddingphotoshoot', 'weddingrenocar', 'wednesday', 'wee', 'week', 'weekday', 'weekend', 'weekly', 'weird', 'welcome', 'welcoming', 'well', 'wellknown', 'wellness', 'went', 'werent', 'wh', 'whatever', 'whats', 'wheel', 'whenever', 'whereever', 'whether', 'whichever', 'white', 'whole', 'whopping', 'whose', 'wide', 'widely', 'wider', 'wife', 'wildly', 'willing', 'win', 'wine', 'winner', 'wise', 'wisely', 'wish', 'wished', 'withdraw', 'withdrawal', 'within', 'without', 'wo', 'woman', 'wonder', 'wonderful', 'wont', 'work', 'worked', 'workflow', 'working', 'world', 'worldwide', 'worry', 'worrygo', 'worrying', 'worse', 'worst', 'worth', 'worthwhile', 'would', 'wouldnt', 'wrong', 'wrote', 'wwmc', 'wz', 'x', 'x1', 'x9', 'xma', 'xpire', 'xxx', 'ya', 'yay', 'yea', 'year', 'yearly', 'yearsto', 'yes', 'yet', 'yknow', 'yolo', 'yolomaybank', 'youll', 'young', 'younger', 'youre', 'yout', 'youth', 'youve', 'yrsreally', 'zalora', 'zero', 'zouk']\n",
      "None\n"
     ]
    }
   ],
   "source": [
    "def countvec_check(value):\n",
    "    # Create an instance of CountVectorizer and pass in the clean_text function as the analyzer parameter\n",
    "    count_vect = CountVectorizer(analyzer = lemmatizing)\n",
    "\n",
    "    # X_counts stores the vectorized version of the data\n",
    "    X_counts = count_vect.fit_transform(value)\n",
    "\n",
    "    # Returns the number of rows and columns of X_counts\n",
    "    print(f'R(Rows, Columns): {X_counts.shape}')\n",
    "\n",
    "    # Returns the unique words across all text messages\n",
    "    print(count_vect.get_feature_names())\n",
    "\n",
    "print(countvec_check(combined_analyse_df['reviews_no_stop']))"
   ]
  },
  {
   "cell_type": "markdown",
   "id": "7820574f",
   "metadata": {},
   "source": [
    "Now we have a count matrix with 4,621 unique words. Now we are ready to do some Exploratory Data Analysis! Let's look at the top words found in each card type."
   ]
  },
  {
   "cell_type": "markdown",
   "id": "24e1f91c",
   "metadata": {},
   "source": [
    "## Exploratory Data Analysis"
   ]
  },
  {
   "cell_type": "markdown",
   "id": "4ea05a96",
   "metadata": {},
   "source": [
    "**1. Most Common Two-Word and Three-Word phrases**"
   ]
  },
  {
   "cell_type": "markdown",
   "id": "bb09073a",
   "metadata": {},
   "source": [
    "**1.1. Count Vectorizer (N-Grams for Cashback dataset)**"
   ]
  },
  {
   "cell_type": "code",
   "execution_count": 13,
   "id": "2c5b3ad4",
   "metadata": {},
   "outputs": [],
   "source": [
    "# Filter combined_df for \"Perfumes\"\n",
    "cashback_analyse_df = combined_analyse_df[combined_analyse_df['card_type'] == 'Cashback']\n",
    "\n",
    "# Filter combined_df for \"Makeup\"\n",
    "miles_analyse_df = combined_analyse_df[combined_analyse_df['card_type'] == 'Air Miles']"
   ]
  },
  {
   "cell_type": "raw",
   "id": "a219ce10",
   "metadata": {},
   "source": [
    "# Define function to find top words\n",
    "def top_words(value, num):\n",
    "    return value.sum().sort_values(ascending = False).head(num)\n",
    "\n",
    "# Define function for N-Gram lemmatization\n",
    "def lemmatizing_ngram(tokenized_text):\n",
    "    # return string of all lemmatized words for their corresponding words in tokenized_text\n",
    "    text = \" \".join([wn.lemmatize(word) for word in tokenized_text])\n",
    "    return text\n",
    "\n",
    "# Define function to create sparsematrix for N-Gram\n",
    "def sparsematrix_ngram_check(value, num):\n",
    "    # Create a ngram\n",
    "    ngram_vect = CountVectorizer(ngram_range=(num,num))\n",
    "\n",
    "    # X_counts stores the vectorized version of the data\n",
    "    X_counts = ngram_vect.fit_transform(value)\n",
    "    \n",
    "    # Expand sparse matrix to a collection of arrays and then store it in a data frame\n",
    "    X_counts_df = pd.DataFrame(X_counts.toarray())\n",
    "    \n",
    "    # Apply column name to the dataframe\n",
    "    X_counts_df.columns = ngram_vect.get_feature_names()\n",
    "    \n",
    "    return X_counts_df\n",
    "\n",
    "# Lemmatize the 'title and selftext' column\n",
    "cashback_analyse_df['reviews_lemmatized'] = cashback_analyse_df['reviews_no_stop'].apply(\n",
    "    lambda x: lemmatizing_ngram(x))\n",
    "\n",
    "# Save bigram sparse matrix as combined_df_ngram\n",
    "cashback_analyse_df_bigram = sparsematrix_ngram_check(cashback_analyse_df['reviews_lemmatized'], 2)\n",
    "\n",
    "# Returns the number of rows and columns of X_counts\n",
    "print('Total number of rows and columns:')\n",
    "print(f'(Rows, Columns): {cashback_analyse_df_bigram.shape}')"
   ]
  },
  {
   "cell_type": "code",
   "execution_count": 14,
   "id": "d6e8fb4e",
   "metadata": {},
   "outputs": [
    {
     "name": "stdout",
     "output_type": "stream",
     "text": [
      "Total number of rows and columns:\n",
      "(Rows, Columns): (841, 16429)\n"
     ]
    }
   ],
   "source": [
    "# Define function to find top words\n",
    "def top_words(value, num):\n",
    "    return value.sum().sort_values(ascending = False).head(num)\n",
    "\n",
    "# Define function for N-Gram lemmatization\n",
    "def lemmatizing_ngram(tokenized_text):\n",
    "    # return string of all lemmatized words for their corresponding words in tokenized_text\n",
    "    text_list = []\n",
    "    # return list of all lemmatized words for their corresponding words in tokenized_text\n",
    "    for word in tokenized_text:\n",
    "        # Treat 'spending' as a verb instead of a noun\n",
    "        if word.startswith('spend'):\n",
    "            text_list.append(wn.lemmatize(word,nltk.corpus.wordnet.VERB))\n",
    "        # Do not lemmatize the word dbs\n",
    "        elif word.startswith('dbs'):\n",
    "            text_list.append(word)\n",
    "        else:\n",
    "            text_list.append(wn.lemmatize(word))\n",
    "    my_string = ' '.join(text_list)\n",
    "    return my_string\n",
    "\n",
    "# Define function to create sparsematrix for N-Gram\n",
    "def sparsematrix_ngram_check(value, num):\n",
    "    # Create a ngram\n",
    "    ngram_vect = CountVectorizer(ngram_range=(num,num))\n",
    "\n",
    "    # X_counts stores the vectorized version of the data\n",
    "    X_counts = ngram_vect.fit_transform(value)\n",
    "    \n",
    "    # Expand sparse matrix to a collection of arrays and then store it in a data frame\n",
    "    X_counts_df = pd.DataFrame(X_counts.toarray())\n",
    "    \n",
    "    # Apply column name to the dataframe\n",
    "    X_counts_df.columns = ngram_vect.get_feature_names()\n",
    "    \n",
    "    return X_counts_df\n",
    "\n",
    "# Lemmatize the 'title and selftext' column\n",
    "cashback_analyse_df['reviews_lemmatized'] = cashback_analyse_df['reviews_no_stop'].apply(\n",
    "    lambda x: lemmatizing_ngram(x))\n",
    "\n",
    "# Save bigram sparse matrix as combined_df_ngram\n",
    "cashback_analyse_df_bigram = sparsematrix_ngram_check(cashback_analyse_df['reviews_lemmatized'], 2)\n",
    "\n",
    "# Returns the number of rows and columns of X_counts\n",
    "print('Total number of rows and columns:')\n",
    "print(f'(Rows, Columns): {cashback_analyse_df_bigram.shape}')"
   ]
  },
  {
   "cell_type": "markdown",
   "id": "812a44e3",
   "metadata": {},
   "source": [
    "There are a total of 17,169 unqiue two-word phrases in the Cashback dataset. Let's look at the top 20 phrases."
   ]
  },
  {
   "cell_type": "markdown",
   "id": "94f8c513",
   "metadata": {},
   "source": [
    "**Bigram - Cashback**"
   ]
  },
  {
   "cell_type": "code",
   "execution_count": 15,
   "id": "0d92bd11",
   "metadata": {},
   "outputs": [
    {
     "name": "stdout",
     "output_type": "stream",
     "text": [
      "Top 20 BiGram words for Cashback dataset\n",
      "credit card           228\n",
      "cashback card         207\n",
      "minimum spend         178\n",
      "cash back             133\n",
      "customer service      132\n",
      "fee waiver            116\n",
      "cash rebate            77\n",
      "annual fee             71\n",
      "use card               69\n",
      "promotion perk         61\n",
      "min spend              56\n",
      "uob one                52\n",
      "using card             50\n",
      "15 cashback            48\n",
      "card use               43\n",
      "per month              40\n",
      "everyday card          39\n",
      "good card              39\n",
      "dbs multiplier         39\n",
      "multiplier account     37\n"
     ]
    }
   ],
   "source": [
    "# Print top 20 BiGram words for Cashback dataset\n",
    "print('Top 20 BiGram words for Cashback dataset')\n",
    "print(top_words(cashback_analyse_df_bigram,20).to_string())"
   ]
  },
  {
   "cell_type": "markdown",
   "id": "7884fc06",
   "metadata": {},
   "source": [
    "Words such as \"minimum spend\", \"customer service\", \"fee waiver\", \"promotion perk\", and \"annual fee\" have appeared in the top 20 words. These words refer to the things that customers look out for when choosing credit cards. It seems like UOB One and DBS Everyday Cards are the most mentioned cards.\n",
    "\n",
    "Now, lets take a look at the three-word phrases."
   ]
  },
  {
   "cell_type": "markdown",
   "id": "eb358f00",
   "metadata": {},
   "source": [
    "**Trigram - Cashback**"
   ]
  },
  {
   "cell_type": "code",
   "execution_count": 16,
   "id": "adeb897e",
   "metadata": {},
   "outputs": [
    {
     "name": "stdout",
     "output_type": "stream",
     "text": [
      "Total number of rows and columns:\n",
      "(Rows, Columns): (841, 21708)\n"
     ]
    }
   ],
   "source": [
    "# Save trigram sparse matrix as combined_df_ngram\n",
    "cashback_analyse_df_trigram = sparsematrix_ngram_check(cashback_analyse_df['reviews_lemmatized'], 3)\n",
    "\n",
    "# Returns the number of rows and columns of X_counts\n",
    "print('Total number of rows and columns:')\n",
    "print(f'(Rows, Columns): {cashback_analyse_df_trigram.shape}')"
   ]
  },
  {
   "cell_type": "markdown",
   "id": "080727b8",
   "metadata": {},
   "source": [
    "There are a total of 21,896 unqiue three-word phrases in the Cashback dataset. Let's look at the top 20 phrases."
   ]
  },
  {
   "cell_type": "code",
   "execution_count": 17,
   "id": "6e1eb7db",
   "metadata": {},
   "outputs": [
    {
     "name": "stdout",
     "output_type": "stream",
     "text": [
      "Top 20 TriGram words for Cashback dataset\n",
      "dbs multiplier account    24\n",
      "posb everyday card        24\n",
      "uob one account           20\n",
      "uob one card              18\n",
      "cash back card            18\n",
      "minimum spend required    18\n",
      "card minimum spend        17\n",
      "annual fee waiver         17\n",
      "minimum spend 600         16\n",
      "cashback minimum spend    15\n",
      "dbs live fresh            15\n",
      "credit card spend         14\n",
      "ocbc 360 account          13\n",
      "hit minimum spend         12\n",
      "credit card bill          12\n",
      "waive annual fee          11\n",
      "good credit card          11\n",
      "one best card             10\n",
      "higher interest rate      10\n",
      "cashback card cashback    10\n"
     ]
    }
   ],
   "source": [
    "# Print top 20 TriGram words for Cashback dataset\n",
    "print('Top 20 TriGram words for Cashback dataset')\n",
    "print(top_words(cashback_analyse_df_trigram,20).to_string())"
   ]
  },
  {
   "cell_type": "markdown",
   "id": "7791ab5d",
   "metadata": {},
   "source": [
    "In the top 20 three-word phrases, we also see words such as 'minimum spend required', 'cashback minimum spend' and 'minimimum spend 600'. It seems like customers are the most concerned about minimum spending requirements for the cards. The most mentioned cards here are the DBS and UOB cards, as they affect the interest rates of their savings accounts."
   ]
  },
  {
   "cell_type": "markdown",
   "id": "5c7643ac",
   "metadata": {},
   "source": [
    "**1.2. Visualise our findings for Cashback dataset**"
   ]
  },
  {
   "cell_type": "markdown",
   "id": "52dd9547",
   "metadata": {},
   "source": [
    "Now, let's visualise our findings from the Cashback dataset."
   ]
  },
  {
   "cell_type": "code",
   "execution_count": 18,
   "id": "466e4e60",
   "metadata": {},
   "outputs": [
    {
     "data": {
      "image/png": "[encoded data removed]",
      "text/plain": [
       "<Figure size 1080x720 with 1 Axes>"
      ]
     },
     "metadata": {
      "needs_background": "light"
     },
     "output_type": "display_data"
    }
   ],
   "source": [
    "# Plot BiGram barchart\n",
    "\n",
    "# Convert the top word count to a dataframe\n",
    "top_words_cashback_bigram = top_words(cashback_analyse_df_bigram, 20).to_frame()\n",
    "\n",
    "# Plot the top 20 words in a bar chart\n",
    "cashback_bigram = top_words_cashback_bigram.plot(kind = 'bar', figsize = (15,10), fontsize = 10, width = 0.5)\n",
    "\n",
    "# Set the title, x & y labels and remove legend\n",
    "cashback_bigram.set_title('Cashback Dataset Top 20 BiGram Words', fontsize=20)\n",
    "cashback_bigram.get_legend().remove()\n",
    "cashback_bigram.set_ylabel('Words', fontsize=15)\n",
    "cashback_bigram.set_xlabel('Count', fontsize=15)\n",
    "plt.xticks(rotation=45);"
   ]
  },
  {
   "cell_type": "code",
   "execution_count": 19,
   "id": "6eeed348",
   "metadata": {},
   "outputs": [
    {
     "data": {
      "image/png": "[encoded data removed]",
      "text/plain": [
       "<Figure size 1080x720 with 1 Axes>"
      ]
     },
     "metadata": {
      "needs_background": "light"
     },
     "output_type": "display_data"
    }
   ],
   "source": [
    "# Plot TriGram barchart\n",
    "\n",
    "# Convert the top word count to a dataframe\n",
    "top_words_cashback_trigram = top_words(cashback_analyse_df_trigram, 20).to_frame()\n",
    "\n",
    "# Plot the top 20 words in a bar chart\n",
    "cashback_trigram = top_words_cashback_trigram.plot(kind = 'bar', figsize = (15,10), fontsize = 10, width = 0.5)\n",
    "\n",
    "# Set the title, x & y labels and remove legend\n",
    "cashback_trigram.set_title('Cashback Dataset Top 20 TriGram Words', fontsize=20)\n",
    "cashback_trigram.get_legend().remove()\n",
    "cashback_trigram.set_ylabel('Words', fontsize=15)\n",
    "cashback_trigram.set_xlabel('Count', fontsize=15)\n",
    "plt.xticks(rotation=45);"
   ]
  },
  {
   "cell_type": "markdown",
   "id": "24a5b829",
   "metadata": {},
   "source": [
    "Now, let's look at the top 20 two-word and three-word phrases for the Air Miles dataset."
   ]
  },
  {
   "cell_type": "markdown",
   "id": "09fbdbca",
   "metadata": {},
   "source": [
    "**1.3. Count Vectorizer (N-Grams for Air Miles dataset)**"
   ]
  },
  {
   "cell_type": "code",
   "execution_count": 20,
   "id": "1fd663b0",
   "metadata": {},
   "outputs": [
    {
     "name": "stdout",
     "output_type": "stream",
     "text": [
      "Total number of rows and columns:\n",
      "(Rows, Columns): (252, 6336)\n"
     ]
    }
   ],
   "source": [
    "# Lemmatize the 'title and selftext' column\n",
    "miles_analyse_df['reviews_lemmatized'] = miles_analyse_df['reviews_no_stop'].apply(\n",
    "    lambda x: lemmatizing_ngram(x))\n",
    "\n",
    "# Save bigram sparse matrix as combined_df_ngram\n",
    "miles_analyse_df_bigram = sparsematrix_ngram_check(miles_analyse_df['reviews_lemmatized'], 2)\n",
    "\n",
    "# Returns the number of rows and columns of X_counts\n",
    "print('Total number of rows and columns:')\n",
    "print(f'(Rows, Columns): {miles_analyse_df_bigram.shape}')"
   ]
  },
  {
   "cell_type": "markdown",
   "id": "ad8938ac",
   "metadata": {},
   "source": [
    "There are a total of 6,559 unqiue two-word phrases in the Air Miles dataset. Let's look at the top 20 phrases."
   ]
  },
  {
   "cell_type": "markdown",
   "id": "893fcc65",
   "metadata": {},
   "source": [
    "**Bigram - Air Miles**"
   ]
  },
  {
   "cell_type": "code",
   "execution_count": 21,
   "id": "dcbce6fb",
   "metadata": {},
   "outputs": [
    {
     "name": "stdout",
     "output_type": "stream",
     "text": [
      "Top 20 BiGram words for Air Miles dataset\n",
      "mile card           85\n",
      "credit card         57\n",
      "mile per            42\n",
      "fee waiver          42\n",
      "customer service    41\n",
      "per dollar          40\n",
      "annual fee          39\n",
      "great card          22\n",
      "using card          22\n",
      "promotion perk      20\n",
      "card mile           19\n",
      "dbs point           19\n",
      "mile expire         19\n",
      "sign bonus          17\n",
      "one best            16\n",
      "lounge access       16\n",
      "general spend       16\n",
      "online purchase     15\n",
      "priority pas        15\n",
      "use card            14\n"
     ]
    }
   ],
   "source": [
    "# Print top 20 BiGram words for Air Miles dataset\n",
    "print('Top 20 BiGram words for Air Miles dataset')\n",
    "print(top_words(miles_analyse_df_bigram,20).to_string())"
   ]
  },
  {
   "cell_type": "markdown",
   "id": "c4f145cc",
   "metadata": {},
   "source": [
    "Similarly, words such as 'fee waiver', 'customer serivice', 'annual fees' and 'sign bonus' are among the top few words. These are some the things that customers look out for when signing new credit cards. Customers also look out how many miles they can get per dollar spent and how long it takes for their miles to expire. Once again, DBS cards can be found in the top 20 two-word prhases.\n",
    "\n",
    "Now, lets take a look at the three-word phrases."
   ]
  },
  {
   "cell_type": "markdown",
   "id": "0aacae64",
   "metadata": {},
   "source": [
    "**Trigram - Air Miles**"
   ]
  },
  {
   "cell_type": "code",
   "execution_count": 22,
   "id": "b8f47f68",
   "metadata": {},
   "outputs": [
    {
     "name": "stdout",
     "output_type": "stream",
     "text": [
      "Total number of rows and columns:\n",
      "(Rows, Columns): (252, 7745)\n"
     ]
    }
   ],
   "source": [
    "# Save trigram sparse matrix as combined_df_ngram\n",
    "miles_analyse_df_trigram = sparsematrix_ngram_check(miles_analyse_df['reviews_lemmatized'], 3)\n",
    "\n",
    "# Returns the number of rows and columns of X_counts\n",
    "print('Total number of rows and columns:')\n",
    "print(f'(Rows, Columns): {miles_analyse_df_trigram.shape}')"
   ]
  },
  {
   "cell_type": "markdown",
   "id": "3147ab74",
   "metadata": {},
   "source": [
    "There are a total of 7,745 unqiue three-word phrases in the Air Miles dataset. Let's look at the top 20 phrases."
   ]
  },
  {
   "cell_type": "code",
   "execution_count": 23,
   "id": "6b640ac4",
   "metadata": {},
   "outputs": [
    {
     "name": "stdout",
     "output_type": "stream",
     "text": [
      "Top 20 TriGram words for Air Miles dataset\n",
      "mile per dollar             35\n",
      "best mile card               8\n",
      "waive annual fee             7\n",
      "per dollar spent             6\n",
      "dbs lifestyle app            6\n",
      "mile card one                6\n",
      "general spend card           6\n",
      "12 mile per                  6\n",
      "woman world card             6\n",
      "must credit card             5\n",
      "credit card accumulating     5\n",
      "airport lounge access        5\n",
      "mile never expire            5\n",
      "point dont expire            5\n",
      "pay annual fee               5\n",
      "card accumulating mile       5\n",
      "mile dont expire             5\n",
      "card one best                5\n",
      "one must credit              5\n",
      "card great card              5\n"
     ]
    }
   ],
   "source": [
    "# Print top 20 TriGram words for Air Miles dataset\n",
    "print('Top 20 TriGram words for Air Miles dataset')\n",
    "print(top_words(miles_analyse_df_trigram,20).to_string())"
   ]
  },
  {
   "cell_type": "markdown",
   "id": "cb393552",
   "metadata": {},
   "source": [
    "In the top 20 three-word phrases, we also see words such as 'waive annual fee', 'pay annual fee', 'miles dont expire', 'point dont expire', 'mile never expire'. It seems like customers are the most concerned about annual fee for the card and whether the files expired or not. The most mentioned cards here are the DBS cards."
   ]
  },
  {
   "cell_type": "markdown",
   "id": "132d0c65",
   "metadata": {},
   "source": [
    "**1.4. Visualise our findings for Air Miles dataset**"
   ]
  },
  {
   "cell_type": "markdown",
   "id": "07772229",
   "metadata": {},
   "source": [
    "Now, let's visualise our findings from the Cashback dataset."
   ]
  },
  {
   "cell_type": "code",
   "execution_count": 24,
   "id": "eae74992",
   "metadata": {},
   "outputs": [
    {
     "data": {
      "image/png": "[encoded data removed]",
      "text/plain": [
       "<Figure size 1080x720 with 1 Axes>"
      ]
     },
     "metadata": {
      "needs_background": "light"
     },
     "output_type": "display_data"
    }
   ],
   "source": [
    "# Plot BiGram barchart\n",
    "\n",
    "# Convert the top word count to a dataframe\n",
    "top_words_miles_bigram = top_words(miles_analyse_df_bigram, 20).to_frame()\n",
    "\n",
    "# Plot the top 20 words in a bar chart\n",
    "miles_bigram = top_words_miles_bigram.plot(kind = 'bar', figsize = (15,10), fontsize = 10, width = 0.5)\n",
    "\n",
    "# Set the title, x & y labels and remove legend\n",
    "miles_bigram.set_title('Cashback Dataset Top 20 BiGram Words', fontsize=20)\n",
    "miles_bigram.get_legend().remove()\n",
    "miles_bigram.set_ylabel('Words', fontsize=15)\n",
    "miles_bigram.set_xlabel('Count', fontsize=15)\n",
    "plt.xticks(rotation=45);"
   ]
  },
  {
   "cell_type": "code",
   "execution_count": 25,
   "id": "fb18a944",
   "metadata": {},
   "outputs": [
    {
     "data": {
      "image/png": "[encoded data removed]",
      "text/plain": [
       "<Figure size 1080x720 with 1 Axes>"
      ]
     },
     "metadata": {
      "needs_background": "light"
     },
     "output_type": "display_data"
    }
   ],
   "source": [
    "# Plot TriGram barchart\n",
    "\n",
    "# Convert the top word count to a dataframe\n",
    "top_words_miles_trigram = top_words(miles_analyse_df_trigram, 20).to_frame()\n",
    "\n",
    "# Plot the top 20 words in a bar chart\n",
    "miles_trigram = top_words_miles_trigram.plot(kind = 'bar', figsize = (15,10), fontsize = 10, width = 0.5)\n",
    "\n",
    "# Set the title, x & y labels and remove legend\n",
    "miles_trigram.set_title('Cashback Dataset Top 20 TriGram Words', fontsize=20)\n",
    "miles_trigram.get_legend().remove()\n",
    "miles_trigram.set_ylabel('Words', fontsize=15)\n",
    "miles_trigram.set_xlabel('Count', fontsize=15)\n",
    "plt.xticks(rotation=45);"
   ]
  },
  {
   "cell_type": "markdown",
   "id": "f94e2043",
   "metadata": {},
   "source": [
    "Now that we have taken took at the two-Words and three-Words phrases, let's gather some insights by taking a look at the most common words."
   ]
  },
  {
   "cell_type": "markdown",
   "id": "55976c0a",
   "metadata": {},
   "source": [
    "**2. Most Common Words**"
   ]
  },
  {
   "cell_type": "markdown",
   "id": "3a7db836",
   "metadata": {},
   "source": [
    "Let's find the top 20 words for each subreddit."
   ]
  },
  {
   "cell_type": "markdown",
   "id": "141e4c77",
   "metadata": {},
   "source": [
    "**2.1. Most Common Words in Cashback dataset**"
   ]
  },
  {
   "cell_type": "code",
   "execution_count": 26,
   "id": "c474879b",
   "metadata": {},
   "outputs": [],
   "source": [
    "# Define function for sparse matrix\n",
    "def sparsematrix_check(value):\n",
    "    # Create an instance of CountVectorizer and pass in the clean_text function as the analyzer parameter\n",
    "    count_vect = CountVectorizer(analyzer = lemmatizing)\n",
    "\n",
    "    # X_counts stores the vectorized version of the data\n",
    "    X_counts = count_vect.fit_transform(value)\n",
    "    \n",
    "    # Expand sparse matrix to a collection of arrays and then store it in a data frame\n",
    "    X_counts_df = pd.DataFrame(X_counts.toarray())\n",
    "    \n",
    "    # Apply column name to the dataframe\n",
    "    X_counts_df.columns = count_vect.get_feature_names()\n",
    "    \n",
    "    return X_counts_df\n",
    "\n",
    "# Create sparse_matrix for both perfumes and makeup\n",
    "cashback_sparse_matrix = sparsematrix_check(cashback_analyse_df['reviews_no_stop'])\n",
    "miles_sparse_matrix = sparsematrix_check(miles_analyse_df['reviews_no_stop'])"
   ]
  },
  {
   "cell_type": "code",
   "execution_count": 27,
   "id": "3e960e20",
   "metadata": {},
   "outputs": [
    {
     "name": "stdout",
     "output_type": "stream",
     "text": [
      "Top 50 words in Cashback dataset:\n",
      "\n",
      "card           1618\n",
      "               1128\n",
      "cashback        764\n",
      "spend           709\n",
      "rebate          393\n",
      "use             293\n",
      "good            291\n",
      "month           257\n",
      "credit          255\n",
      "cash            235\n",
      "minimum         227\n",
      "fee             224\n",
      "get             220\n",
      "one             206\n",
      "back            181\n",
      "online          172\n",
      "customer        172\n",
      "service         166\n",
      "account         165\n",
      "promotion       148\n",
      "waiver          142\n",
      "using           141\n",
      "purchase        137\n",
      "bill            134\n",
      "best            131\n",
      "also            131\n",
      "category        121\n",
      "like            119\n",
      "great           118\n",
      "useful          111\n",
      "15              110\n",
      "5               110\n",
      "dbs             107\n",
      "easy            107\n",
      "3               106\n",
      "bank            106\n",
      "payment         102\n",
      "ocbc            101\n",
      "used             99\n",
      "transaction      98\n",
      "year             94\n",
      "grocery          92\n",
      "1                91\n",
      "time             91\n",
      "hit              90\n",
      "interest         89\n",
      "perk             89\n",
      "give             88\n",
      "first            88\n",
      "however          85\n"
     ]
    }
   ],
   "source": [
    "# Define function to find top words\n",
    "def top_words(value, num):\n",
    "    return value.sum().sort_values(ascending = False).head(num)\n",
    "\n",
    "# Find the top 50 words in Cashback dataset\n",
    "print('Top 50 words in Cashback dataset:')\n",
    "print(\"\")\n",
    "print(top_words(cashback_sparse_matrix, 50).to_string())"
   ]
  },
  {
   "cell_type": "markdown",
   "id": "8048d957",
   "metadata": {},
   "source": [
    "Noted that there are further stopwords like spaces, '5', '15', '3', '1' etc that doesn't really make sense. As such we will remove these words from the `cashback_analyse_df` dataset. \n",
    "\n",
    "From the top 50 words, we will try to identify and remove as many stop words as possible. After that, we will look at the revised top 20 words to make sure that all of the stopwords have been removed from the list."
   ]
  },
  {
   "cell_type": "markdown",
   "id": "0d58707d",
   "metadata": {},
   "source": [
    "**2.2. Remove Further Stopwords from the Cashback Dataset**"
   ]
  },
  {
   "cell_type": "code",
   "execution_count": 28,
   "id": "eeabfc62",
   "metadata": {},
   "outputs": [
    {
     "name": "stdout",
     "output_type": "stream",
     "text": [
      "Top 20 words in Cashback dataset (Revised):\n",
      "\n",
      "cashback     764\n",
      "spend        709\n",
      "rebate       393\n",
      "month        257\n",
      "credit       255\n",
      "cash         235\n",
      "minimum      227\n",
      "fee          224\n",
      "customer     172\n",
      "online       172\n",
      "card         167\n",
      "service      166\n",
      "account      165\n",
      "promotion    148\n",
      "waiver       142\n",
      "purchase     137\n",
      "bill         134\n",
      "best         131\n",
      "category     121\n",
      "great        118\n"
     ]
    }
   ],
   "source": [
    "# Define function to remove stop words\n",
    "def remove_further_stopwords(tokenized_list, stopword_list):\n",
    "    # Store in text only if word is not found in stopword i.e. it is not a stopword\n",
    "    text = [word for word in tokenized_list if word not in stopword_list]\n",
    "    return text\n",
    "\n",
    "# List the words that we want to remove\n",
    "stopwords_cashback = ['', '5', '1', '3', '15', 'use', 'get', 'one', 'card', 'back', 'good', 'using', 'also', 'like']\n",
    "\n",
    "# Remove stopwords from the 'title and selftext' column\n",
    "cashback_analyse_df['reviews_no_stop'] = cashback_analyse_df['reviews_no_stop'].apply(\n",
    "    lambda x: remove_further_stopwords(x, stopwords_cashback))\n",
    "\n",
    "# Recreate the sparse matrix for Makeup subreddit\n",
    "cashback_sparse_matrix = sparsematrix_check(cashback_analyse_df['reviews_no_stop'])\n",
    "\n",
    "# Display the new top 20 words after the change\n",
    "print('Top 20 words in Cashback dataset (Revised):')\n",
    "print(\"\")\n",
    "print(top_words(cashback_sparse_matrix, 20).to_string())"
   ]
  },
  {
   "cell_type": "markdown",
   "id": "166f5ad8",
   "metadata": {},
   "source": [
    "After removing further stopwords, the top 20 words seems to make more sense now. From my the looks of this. The most common topics seems to be about the rebates, the minimum spending and fee waiver. \n",
    "\n",
    "Now, let's visualise our above findings."
   ]
  },
  {
   "cell_type": "markdown",
   "id": "399884ad",
   "metadata": {},
   "source": [
    "**2.3. Visualise our findings for the Cashback Dataset**"
   ]
  },
  {
   "cell_type": "code",
   "execution_count": 29,
   "id": "fbb6a1e6",
   "metadata": {},
   "outputs": [
    {
     "data": {
      "image/png": "[encoded data removed]",
      "text/plain": [
       "<Figure size 1080x1080 with 1 Axes>"
      ]
     },
     "metadata": {
      "needs_background": "light"
     },
     "output_type": "display_data"
    }
   ],
   "source": [
    "# Convert the top word count to a dataframe\n",
    "top_words_cashback = top_words(cashback_sparse_matrix, 20).to_frame()\n",
    "\n",
    "# Plot the top 20 words in a bar chart\n",
    "cashback_bar = top_words_cashback.plot(kind = 'bar', figsize = (15,15), fontsize = 10, width = 0.5)\n",
    "\n",
    "# Set the title, x & y labels and remove legend\n",
    "cashback_bar.set_title('Cashback Dataset Top 20 Words', fontsize=20)\n",
    "cashback_bar.get_legend().remove()\n",
    "cashback_bar.set_ylabel('Words', fontsize=15)\n",
    "cashback_bar.set_xlabel('Count', fontsize=15)\n",
    "plt.xticks(rotation=45);"
   ]
  },
  {
   "cell_type": "code",
   "execution_count": 30,
   "id": "1fde3bda",
   "metadata": {},
   "outputs": [],
   "source": [
    "# Lemmatize the 'title and selftext' column in the perfumes_df_cleaned dataset\n",
    "cashback_analyse_df['reviews_lemmatized'] = cashback_analyse_df['reviews_no_stop'].apply(\n",
    "    lambda x: lemmatizing(x))\n",
    "\n",
    "# Concatenate all the words in the 'title_and_selftext_lemmatized' column to string\n",
    "cashback_analyse_df['reviews_string'] = cashback_analyse_df['reviews_lemmatized'].apply(\n",
    "    lambda x: ' '.join(x))\n",
    "\n",
    "# Create a mask for the word cloud\n",
    "cashback_mask = np.array(Image.open('../image/Dollar.png'))\n",
    "\n",
    "# Generate a word cloud\n",
    "wc = WordCloud(background_color=\"white\", colormap=\"tab10\", max_font_size=150, mask = cashback_mask)\n",
    "\n",
    "wcloud = wc.generate(' '.join(cashback_analyse_df['reviews_string']))"
   ]
  },
  {
   "cell_type": "code",
   "execution_count": 31,
   "id": "4320b493",
   "metadata": {},
   "outputs": [
    {
     "data": {
      "image/png": "[encoded data removed]",
      "text/plain": [
       "<Figure size 864x864 with 1 Axes>"
      ]
     },
     "metadata": {
      "needs_background": "light"
     },
     "output_type": "display_data"
    }
   ],
   "source": [
    "# Make figure to plot\n",
    "plt.figure(figsize = (12,12))\n",
    "\n",
    "# plot words\n",
    "plt.imshow(wcloud, interpolation=\"bilinear\")\n",
    "\n",
    "# remove axes\n",
    "plt.title(\"Wordcloud for Cashback\", fontsize = 20)\n",
    "\n",
    "# remove axes\n",
    "plt.axis(\"off\")\n",
    "\n",
    "# save chart as png\n",
    "plt.savefig('../image/cashback_wordcloud.png', transparent = True, bbox_inches = 'tight')\n",
    "\n",
    "# show the result\n",
    "plt.show()"
   ]
  },
  {
   "cell_type": "markdown",
   "id": "cf78c27d",
   "metadata": {},
   "source": [
    "**2.4. Most Common Words in Air Miles dataset**"
   ]
  },
  {
   "cell_type": "code",
   "execution_count": 32,
   "id": "79cfc40b",
   "metadata": {},
   "outputs": [
    {
     "name": "stdout",
     "output_type": "stream",
     "text": [
      "Top 50 words in Air Miles dataset:\n",
      "\n",
      "card           521\n",
      "mile           415\n",
      "               322\n",
      "spend          140\n",
      "point          110\n",
      "fee             96\n",
      "online          92\n",
      "per             81\n",
      "dbs             80\n",
      "good            79\n",
      "use             78\n",
      "get             71\n",
      "one             65\n",
      "credit          63\n",
      "best            61\n",
      "promotion       59\n",
      "reward          59\n",
      "expire          56\n",
      "year            56\n",
      "great           54\n",
      "using           54\n",
      "2               53\n",
      "service         52\n",
      "waiver          50\n",
      "dollar          49\n",
      "customer        48\n",
      "earn            47\n",
      "bonus           45\n",
      "also            45\n",
      "annual          43\n",
      "month           43\n",
      "purchase        43\n",
      "transaction     42\n",
      "time            41\n",
      "1               40\n",
      "lounge          39\n",
      "rate            37\n",
      "travel          35\n",
      "free            33\n",
      "4mpd            32\n",
      "easy            31\n",
      "3               31\n",
      "dont            30\n",
      "sign            30\n",
      "first           29\n",
      "give            29\n",
      "call            28\n",
      "perk            27\n",
      "general         27\n",
      "apply           27\n"
     ]
    }
   ],
   "source": [
    "# Find the top 50 words in Air Miles dataset\n",
    "print('Top 50 words in Air Miles dataset:')\n",
    "print(\"\")\n",
    "print(top_words(miles_sparse_matrix, 50).to_string())"
   ]
  },
  {
   "cell_type": "markdown",
   "id": "f493d146",
   "metadata": {},
   "source": [
    "Noted that there are further stopwords like spaces, '2', '1', etc that doesn't really make sense. As such we will remove these words from the `miles_analyse_df` dataset. \n",
    "\n",
    "From the top 50 words, we will try to identify and remove as many stop words as possible. After that, we will look at the revised top 20 words to make sure that all of the stopwords have been removed from the list."
   ]
  },
  {
   "cell_type": "markdown",
   "id": "e069c9df",
   "metadata": {},
   "source": [
    "**2.5. Remove Further Stopwords from the Air Miles Dataset**"
   ]
  },
  {
   "cell_type": "code",
   "execution_count": 33,
   "id": "be3dc7aa",
   "metadata": {},
   "outputs": [
    {
     "name": "stdout",
     "output_type": "stream",
     "text": [
      "Top 20 words in Air Miles dataset (Revised):\n",
      "\n",
      "mile         415\n",
      "spend        140\n",
      "point        110\n",
      "fee           96\n",
      "online        92\n",
      "dbs           80\n",
      "good          79\n",
      "best          61\n",
      "promotion     59\n",
      "reward        59\n",
      "card          58\n",
      "expire        56\n",
      "year          56\n",
      "using         54\n",
      "great         54\n",
      "service       52\n",
      "waiver        50\n",
      "dollar        49\n",
      "customer      48\n",
      "earn          47\n"
     ]
    }
   ],
   "source": [
    "# Define function to remove stop words\n",
    "def remove_further_stopwords(tokenized_list, stopword_list):\n",
    "    # Store in text only if word is not found in stopword i.e. it is not a stopword\n",
    "    text = [word for word in tokenized_list if word not in stopword_list]\n",
    "    return text\n",
    "\n",
    "# List the words that we want to remove\n",
    "stopwords_cashback = ['', 'credit', 'card', 'one', '1', '2', 'per', 'get', 'use', '3']\n",
    "\n",
    "# Remove stopwords from the 'title and selftext' column\n",
    "miles_analyse_df['reviews_no_stop'] = miles_analyse_df['reviews_no_stop'].apply(\n",
    "    lambda x: remove_further_stopwords(x, stopwords_cashback))\n",
    "\n",
    "# Recreate the sparse matrix for Makeup subreddit\n",
    "miles_sparse_matrix = sparsematrix_check(miles_analyse_df['reviews_no_stop'])\n",
    "\n",
    "# Display the new top 20 words after the change\n",
    "print('Top 20 words in Air Miles dataset (Revised):')\n",
    "print(\"\")\n",
    "print(top_words(miles_sparse_matrix, 20).to_string())"
   ]
  },
  {
   "cell_type": "markdown",
   "id": "4c08250e",
   "metadata": {},
   "source": [
    "After removing further stopwords, the top 20 words seems to make more sense now. From my the looks of this. The most common topics seems to be about the miles, the minimum spending, fee waiver and services provided by the banks.\n",
    "\n",
    "Now, let's visualise our above findings."
   ]
  },
  {
   "cell_type": "markdown",
   "id": "22d672f5",
   "metadata": {},
   "source": [
    "**2.6. Visualise our findings for the Air Miles Dataset**"
   ]
  },
  {
   "cell_type": "code",
   "execution_count": 34,
   "id": "1848d403",
   "metadata": {},
   "outputs": [
    {
     "data": {
      "image/png": "[encoded data removed]",
      "text/plain": [
       "<Figure size 1080x1080 with 1 Axes>"
      ]
     },
     "metadata": {
      "needs_background": "light"
     },
     "output_type": "display_data"
    }
   ],
   "source": [
    "# Convert the top word count to a dataframe\n",
    "top_words_miles = top_words(miles_sparse_matrix, 20).to_frame()\n",
    "\n",
    "# Plot the top 20 words in a bar chart\n",
    "miles_bar = top_words_miles.plot(kind = 'bar', figsize = (15,15), fontsize = 10, width = 0.5)\n",
    "\n",
    "# Set the title, x & y labels and remove legend\n",
    "miles_bar.set_title('Air Miles Dataset Top 20 Words', fontsize=20)\n",
    "miles_bar.get_legend().remove()\n",
    "miles_bar.set_ylabel('Words', fontsize=15)\n",
    "miles_bar.set_xlabel('Count', fontsize=15)\n",
    "plt.xticks(rotation=45);"
   ]
  },
  {
   "cell_type": "code",
   "execution_count": 35,
   "id": "3f29c052",
   "metadata": {},
   "outputs": [],
   "source": [
    "# Lemmatize the 'title and selftext' column in the perfumes_df_cleaned dataset\n",
    "miles_analyse_df['reviews_lemmatized'] = miles_analyse_df['reviews_no_stop'].apply(\n",
    "    lambda x: lemmatizing(x))\n",
    "\n",
    "# Concatenate all the words in the 'title_and_selftext_lemmatized' column to string\n",
    "miles_analyse_df['reviews_string'] = miles_analyse_df['reviews_lemmatized'].apply(\n",
    "    lambda x: ' '.join(x))\n",
    "\n",
    "# Create a mask for the word cloud\n",
    "miles_mask = np.array(Image.open('../image/Plane.png'))\n",
    "\n",
    "# Generate a word cloud\n",
    "wc = WordCloud(background_color=\"white\", colormap=\"tab10\", max_font_size=150, mask = miles_mask)\n",
    "\n",
    "wcloud = wc.generate(' '.join(miles_analyse_df['reviews_string']))"
   ]
  },
  {
   "cell_type": "code",
   "execution_count": 36,
   "id": "85a8330f",
   "metadata": {},
   "outputs": [
    {
     "data": {
      "image/png": "[encoded data removed]",
      "text/plain": [
       "<Figure size 864x864 with 1 Axes>"
      ]
     },
     "metadata": {
      "needs_background": "light"
     },
     "output_type": "display_data"
    }
   ],
   "source": [
    "# Make figure to plot\n",
    "plt.figure(figsize = (12,12))\n",
    "\n",
    "# plot words\n",
    "plt.imshow(wcloud, interpolation=\"bilinear\")\n",
    "\n",
    "# remove axes\n",
    "plt.title(\"Wordcloud for Air Miles\", fontsize = 20)\n",
    "\n",
    "# remove axes\n",
    "plt.axis(\"off\")\n",
    "\n",
    "# save chart as png\n",
    "plt.savefig('../image/miles_wordcloud.png', transparent = True, bbox_inches = 'tight')\n",
    "\n",
    "# show the result\n",
    "plt.show()"
   ]
  },
  {
   "cell_type": "markdown",
   "id": "4553267d",
   "metadata": {},
   "source": [
    "## Sentiment Analysis Using BERT"
   ]
  },
  {
   "cell_type": "markdown",
   "id": "9577c24d",
   "metadata": {},
   "source": [
    "We have managed to identify the key card features that customers are looking out for. However, we do not know whether the discussions were of a positive or negative sentiment. As such, we will perform sentiment analysis on these reviews by using BERT."
   ]
  },
  {
   "cell_type": "markdown",
   "id": "ea6e54ec",
   "metadata": {},
   "source": [
    "Code to install `pytorch` and `huggingface` transformers:"
   ]
  },
  {
   "cell_type": "code",
   "execution_count": 37,
   "id": "7395e1d1",
   "metadata": {},
   "outputs": [],
   "source": [
    "# pip install torch torchvision torchaudio\n",
    "# pip install transformers"
   ]
  },
  {
   "cell_type": "markdown",
   "id": "e58a4db0",
   "metadata": {},
   "source": [
    "We will make use of the pretrained model found on huggingface. [(source)](https://huggingface.co/nlptown/bert-base-multilingual-uncased-sentiment)"
   ]
  },
  {
   "cell_type": "code",
   "execution_count": 38,
   "id": "25007587",
   "metadata": {},
   "outputs": [],
   "source": [
    "# Load the pretrained BERT model\n",
    "tokenizer = AutoTokenizer.from_pretrained('nlptown/bert-base-multilingual-uncased-sentiment')\n",
    "model = AutoModelForSequenceClassification.from_pretrained('nlptown/bert-base-multilingual-uncased-sentiment')"
   ]
  },
  {
   "cell_type": "code",
   "execution_count": 39,
   "id": "ace8057b",
   "metadata": {},
   "outputs": [],
   "source": [
    "# Create a function to get the sentiment score\n",
    "def sentiment_score(review):\n",
    "    tokens = tokenizer.encode(review, return_tensors = 'pt')\n",
    "    result = model(tokens)\n",
    "    return int(torch.argmax(result.logits))+1"
   ]
  },
  {
   "cell_type": "code",
   "execution_count": 40,
   "id": "9a94984c",
   "metadata": {},
   "outputs": [
    {
     "data": {
      "text/html": [
       "<div>\n",
       "<style scoped>\n",
       "    .dataframe tbody tr th:only-of-type {\n",
       "        vertical-align: middle;\n",
       "    }\n",
       "\n",
       "    .dataframe tbody tr th {\n",
       "        vertical-align: top;\n",
       "    }\n",
       "\n",
       "    .dataframe thead th {\n",
       "        text-align: right;\n",
       "    }\n",
       "</style>\n",
       "<table border=\"1\" class=\"dataframe\">\n",
       "  <thead>\n",
       "    <tr style=\"text-align: right;\">\n",
       "      <th></th>\n",
       "      <th>credit_card_name</th>\n",
       "      <th>card_type</th>\n",
       "      <th>reviews</th>\n",
       "      <th>sentiment</th>\n",
       "    </tr>\n",
       "  </thead>\n",
       "  <tbody>\n",
       "    <tr>\n",
       "      <th>0</th>\n",
       "      <td>standard-chartered-unlimited-cashback-credit-card</td>\n",
       "      <td>Cashback</td>\n",
       "      <td>['My first credit card. One of the best cards ...</td>\n",
       "      <td>5</td>\n",
       "    </tr>\n",
       "    <tr>\n",
       "      <th>1</th>\n",
       "      <td>standard-chartered-unlimited-cashback-credit-card</td>\n",
       "      <td>Cashback</td>\n",
       "      <td>'A 1.5% no frill cashback cards. What i like ...</td>\n",
       "      <td>4</td>\n",
       "    </tr>\n",
       "    <tr>\n",
       "      <th>2</th>\n",
       "      <td>standard-chartered-unlimited-cashback-credit-card</td>\n",
       "      <td>Cashback</td>\n",
       "      <td>'[Fee Waivers] 0 customer service. they will ...</td>\n",
       "      <td>1</td>\n",
       "    </tr>\n",
       "    <tr>\n",
       "      <th>3</th>\n",
       "      <td>standard-chartered-unlimited-cashback-credit-card</td>\n",
       "      <td>Cashback</td>\n",
       "      <td>\"Fast application and ease of usage. Look out...</td>\n",
       "      <td>4</td>\n",
       "    </tr>\n",
       "    <tr>\n",
       "      <th>4</th>\n",
       "      <td>standard-chartered-unlimited-cashback-credit-card</td>\n",
       "      <td>Cashback</td>\n",
       "      <td>'Super useful cashback card for basically any...</td>\n",
       "      <td>5</td>\n",
       "    </tr>\n",
       "  </tbody>\n",
       "</table>\n",
       "</div>"
      ],
      "text/plain": [
       "                                    credit_card_name card_type  \\\n",
       "0  standard-chartered-unlimited-cashback-credit-card  Cashback   \n",
       "1  standard-chartered-unlimited-cashback-credit-card  Cashback   \n",
       "2  standard-chartered-unlimited-cashback-credit-card  Cashback   \n",
       "3  standard-chartered-unlimited-cashback-credit-card  Cashback   \n",
       "4  standard-chartered-unlimited-cashback-credit-card  Cashback   \n",
       "\n",
       "                                             reviews  sentiment  \n",
       "0  ['My first credit card. One of the best cards ...          5  \n",
       "1   'A 1.5% no frill cashback cards. What i like ...          4  \n",
       "2   '[Fee Waivers] 0 customer service. they will ...          1  \n",
       "3   \"Fast application and ease of usage. Look out...          4  \n",
       "4   'Super useful cashback card for basically any...          5  "
      ]
     },
     "metadata": {},
     "output_type": "display_data"
    }
   ],
   "source": [
    "# Perform sentiment analysis on the cashback dataset\n",
    "cashback_expand_df['sentiment'] = cashback_expand_df['reviews'].apply(lambda x: sentiment_score(x))\n",
    "\n",
    "# Display the dataset after the sentiment analysis\n",
    "display(cashback_expand_df.head())"
   ]
  },
  {
   "cell_type": "code",
   "execution_count": 41,
   "id": "0762a839",
   "metadata": {},
   "outputs": [
    {
     "data": {
      "text/html": [
       "<div>\n",
       "<style scoped>\n",
       "    .dataframe tbody tr th:only-of-type {\n",
       "        vertical-align: middle;\n",
       "    }\n",
       "\n",
       "    .dataframe tbody tr th {\n",
       "        vertical-align: top;\n",
       "    }\n",
       "\n",
       "    .dataframe thead th {\n",
       "        text-align: right;\n",
       "    }\n",
       "</style>\n",
       "<table border=\"1\" class=\"dataframe\">\n",
       "  <thead>\n",
       "    <tr style=\"text-align: right;\">\n",
       "      <th></th>\n",
       "      <th>credit_card_name</th>\n",
       "      <th>card_type</th>\n",
       "      <th>reviews</th>\n",
       "      <th>sentiment</th>\n",
       "    </tr>\n",
       "  </thead>\n",
       "  <tbody>\n",
       "    <tr>\n",
       "      <th>121</th>\n",
       "      <td>dbs-altitude-visa-signature-card</td>\n",
       "      <td>Air Miles</td>\n",
       "      <td>['Used to be my go-to general miles card but n...</td>\n",
       "      <td>4</td>\n",
       "    </tr>\n",
       "    <tr>\n",
       "      <th>122</th>\n",
       "      <td>dbs-altitude-visa-signature-card</td>\n",
       "      <td>Air Miles</td>\n",
       "      <td>'Great \"catch all\" miles card - use other 4MP...</td>\n",
       "      <td>5</td>\n",
       "    </tr>\n",
       "    <tr>\n",
       "      <th>123</th>\n",
       "      <td>dbs-altitude-visa-signature-card</td>\n",
       "      <td>Air Miles</td>\n",
       "      <td>'Love this card with no expiry date of the DB...</td>\n",
       "      <td>5</td>\n",
       "    </tr>\n",
       "    <tr>\n",
       "      <th>124</th>\n",
       "      <td>dbs-altitude-visa-signature-card</td>\n",
       "      <td>Air Miles</td>\n",
       "      <td>'[Others] This card is one of the best entry-...</td>\n",
       "      <td>5</td>\n",
       "    </tr>\n",
       "    <tr>\n",
       "      <th>125</th>\n",
       "      <td>dbs-altitude-visa-signature-card</td>\n",
       "      <td>Air Miles</td>\n",
       "      <td>'I am an advocate of DBS. Their customer serv...</td>\n",
       "      <td>5</td>\n",
       "    </tr>\n",
       "  </tbody>\n",
       "</table>\n",
       "</div>"
      ],
      "text/plain": [
       "                     credit_card_name  card_type  \\\n",
       "121  dbs-altitude-visa-signature-card  Air Miles   \n",
       "122  dbs-altitude-visa-signature-card  Air Miles   \n",
       "123  dbs-altitude-visa-signature-card  Air Miles   \n",
       "124  dbs-altitude-visa-signature-card  Air Miles   \n",
       "125  dbs-altitude-visa-signature-card  Air Miles   \n",
       "\n",
       "                                               reviews  sentiment  \n",
       "121  ['Used to be my go-to general miles card but n...          4  \n",
       "122   'Great \"catch all\" miles card - use other 4MP...          5  \n",
       "123   'Love this card with no expiry date of the DB...          5  \n",
       "124   '[Others] This card is one of the best entry-...          5  \n",
       "125   'I am an advocate of DBS. Their customer serv...          5  "
      ]
     },
     "metadata": {},
     "output_type": "display_data"
    }
   ],
   "source": [
    "# Perform sentiment analysis on the cashback dataset\n",
    "miles_expand_df['sentiment'] = miles_expand_df['reviews'].apply(lambda x: sentiment_score(x))\n",
    "\n",
    "# Display the dataset after the sentiment analysis\n",
    "display(miles_expand_df.head())"
   ]
  },
  {
   "cell_type": "markdown",
   "id": "b73ae227",
   "metadata": {},
   "source": [
    "Now that we have obtained an analysis of the reviews, we will be able to know which card has the best reviews and which cards have the worst. In order to make comparisons between 2 cards, we will need to calculate a aggregated score for these cards. In this case, we will use a benchmarking tool called the 'Net Promoter Score' (NPS)."
   ]
  },
  {
   "cell_type": "code",
   "execution_count": 42,
   "id": "76854b36",
   "metadata": {},
   "outputs": [],
   "source": [
    "# Combine cashback_expand_df and miles_expand_df into one dataset\n",
    "combined_expand_df = pd.merge(cashback_expand_df, miles_expand_df, how = 'outer')"
   ]
  },
  {
   "cell_type": "markdown",
   "id": "3dd41c2d",
   "metadata": {},
   "source": [
    "**Net Promoter Score**"
   ]
  },
  {
   "cell_type": "markdown",
   "id": "19a8cf9c",
   "metadata": {},
   "source": [
    "NPS is a benchmarking tool for customer satisfaction. The NPS method gives insights about customer loyalty by measuring customers’ willingness to recommend a business to a friend or acquaintance.\n",
    "\n",
    "NPS differs from other related benchmarks, such as the customer satisfaction score, by indicating a customer’s general sentiment about a brand as opposed to their opinion on particular interactions or purchases. Because of this, it crops up frequently in discussions about customer experience.\n",
    "\n",
    "In addition, net promoter score is a standard benchmark used by companies worldwide. This makes it a good way for businesses to gauge their performance as compared to their competitors. [(source)](https://www.salesforce.com/eu/learning-centre/customer-service/calculate-net-promoter-score/#:~:text=Net%20promoter%20score%20helps%20businesses,revenue%20through%20referrals%20and%20upsells.)\n",
    "\n",
    "Usually, the NPS is calculated on a scale of 1 - 10, with score 0-6 being classified as 'Detractors', 7-8 being classified as 'Passives' and 9-10 being classified as 'Promoters'. To calculate the net promoter score, the percentage of detractors is simply deducted from from the percentage of promoters. The worst possible score - i.e., the score that would be achieved if every customer was a detractor, is -100. The best is 100. [(source)](https://www.salesforce.com/eu/learning-centre/customer-service/calculate-net-promoter-score/#:~:text=Net%20promoter%20score%20helps%20businesses,revenue%20through%20referrals%20and%20upsells.) Any score above 0 is considered good, whilst any NPS score over +50 is considered excellent. Organizations that score over the +70 mark will be providing the best customer experience.[(source)](https://kwiksurveys.com/blog/feedback/net-promoter-score-how-to-calculate-nps)\n",
    "\n",
    "However in our case, sentiment analysis is being performed on a scale of 1-5, thus we will 1-3 will be classified as 'Detractors', 4 will be classified as 'Passives' and 5 will be classified as 'Promoters."
   ]
  },
  {
   "cell_type": "markdown",
   "id": "8c1984a7",
   "metadata": {},
   "source": [
    "**1. Net Promoter Score for Cashback cards**"
   ]
  },
  {
   "cell_type": "code",
   "execution_count": 43,
   "id": "11617524",
   "metadata": {},
   "outputs": [
    {
     "data": {
      "text/html": [
       "<div>\n",
       "<style scoped>\n",
       "    .dataframe tbody tr th:only-of-type {\n",
       "        vertical-align: middle;\n",
       "    }\n",
       "\n",
       "    .dataframe tbody tr th {\n",
       "        vertical-align: top;\n",
       "    }\n",
       "\n",
       "    .dataframe thead th {\n",
       "        text-align: right;\n",
       "    }\n",
       "</style>\n",
       "<table border=\"1\" class=\"dataframe\">\n",
       "  <thead>\n",
       "    <tr style=\"text-align: right;\">\n",
       "      <th></th>\n",
       "      <th>no_of_reviews</th>\n",
       "      <th>net_promoter_score</th>\n",
       "    </tr>\n",
       "  </thead>\n",
       "  <tbody>\n",
       "    <tr>\n",
       "      <th>standard-chartered-unlimited-cashback-credit-card</th>\n",
       "      <td>121</td>\n",
       "      <td>20.0</td>\n",
       "    </tr>\n",
       "    <tr>\n",
       "      <th>uob-one-card</th>\n",
       "      <td>113</td>\n",
       "      <td>0.0</td>\n",
       "    </tr>\n",
       "    <tr>\n",
       "      <th>posb-everyday-cashback</th>\n",
       "      <td>146</td>\n",
       "      <td>8.0</td>\n",
       "    </tr>\n",
       "    <tr>\n",
       "      <th>amex-true-cashback-card</th>\n",
       "      <td>48</td>\n",
       "      <td>17.0</td>\n",
       "    </tr>\n",
       "    <tr>\n",
       "      <th>ocbc-ntuc-plus-visa-credit-card</th>\n",
       "      <td>19</td>\n",
       "      <td>10.0</td>\n",
       "    </tr>\n",
       "  </tbody>\n",
       "</table>\n",
       "</div>"
      ],
      "text/plain": [
       "                                                   no_of_reviews  \\\n",
       "standard-chartered-unlimited-cashback-credit-card            121   \n",
       "uob-one-card                                                 113   \n",
       "posb-everyday-cashback                                       146   \n",
       "amex-true-cashback-card                                       48   \n",
       "ocbc-ntuc-plus-visa-credit-card                               19   \n",
       "\n",
       "                                                   net_promoter_score  \n",
       "standard-chartered-unlimited-cashback-credit-card                20.0  \n",
       "uob-one-card                                                      0.0  \n",
       "posb-everyday-cashback                                            8.0  \n",
       "amex-true-cashback-card                                          17.0  \n",
       "ocbc-ntuc-plus-visa-credit-card                                  10.0  "
      ]
     },
     "metadata": {},
     "output_type": "display_data"
    }
   ],
   "source": [
    "# Save all the cashback cards into a list\n",
    "cashback_names = cashback_expand_df['credit_card_name'].unique()\n",
    "\n",
    "# Set the scores for promoters, passives and detractors\n",
    "Promoters = [5]\n",
    "Passives = [4]\n",
    "Detractors = [1,2,3]\n",
    "\n",
    "# Create a dictionary to store the card names and the NPS\n",
    "cashback_cards_nps = {}\n",
    "\n",
    "for cards in cashback_names:\n",
    "    # Filter dataset for the individual cards\n",
    "    individual_card = cashback_expand_df[cashback_expand_df['credit_card_name']== cards]\n",
    "    \n",
    "    # Calculate the total number of promoters and detractors\n",
    "    card_promoters = round(individual_card[individual_card['sentiment'].isin(Promoters)].shape[0]/individual_card.shape[0]*100,0)\n",
    "    card_detractors = round(individual_card[individual_card['sentiment'].isin(Detractors)].shape[0]/individual_card.shape[0]*100,0)\n",
    "    \n",
    "    # Calculate the NPS\n",
    "    card_nps = card_promoters - card_detractors\n",
    "    \n",
    "    # Save the NPS in a dictionary\n",
    "    cashback_cards_nps[cards]={}\n",
    "    cashback_cards_nps[cards]['no_of_reviews'] = individual_card.shape[0]\n",
    "    cashback_cards_nps[cards]['net_promoter_score'] = card_nps\n",
    "    \n",
    "\n",
    "# Store the results in a dataframe\n",
    "cashback_cards_nps_df = pd.DataFrame.from_dict(cashback_cards_nps, orient = 'index')\n",
    "display(cashback_cards_nps_df.head())"
   ]
  },
  {
   "cell_type": "markdown",
   "id": "21691ecf",
   "metadata": {},
   "source": [
    "Let's take a look at the findings. We will sort the scores by the Net Promoter Score followed by the number of reviews. "
   ]
  },
  {
   "cell_type": "markdown",
   "id": "4c1318e8",
   "metadata": {},
   "source": [
    "**1.1. Cashback cards with the highest NPS scores**"
   ]
  },
  {
   "cell_type": "code",
   "execution_count": 44,
   "id": "7c94825c",
   "metadata": {},
   "outputs": [
    {
     "data": {
      "text/html": [
       "<div>\n",
       "<style scoped>\n",
       "    .dataframe tbody tr th:only-of-type {\n",
       "        vertical-align: middle;\n",
       "    }\n",
       "\n",
       "    .dataframe tbody tr th {\n",
       "        vertical-align: top;\n",
       "    }\n",
       "\n",
       "    .dataframe thead th {\n",
       "        text-align: right;\n",
       "    }\n",
       "</style>\n",
       "<table border=\"1\" class=\"dataframe\">\n",
       "  <thead>\n",
       "    <tr style=\"text-align: right;\">\n",
       "      <th></th>\n",
       "      <th>no_of_reviews</th>\n",
       "      <th>net_promoter_score</th>\n",
       "    </tr>\n",
       "  </thead>\n",
       "  <tbody>\n",
       "    <tr>\n",
       "      <th>uob-absolute-cashback-card</th>\n",
       "      <td>1</td>\n",
       "      <td>100.0</td>\n",
       "    </tr>\n",
       "    <tr>\n",
       "      <th>maybank-evibes-card</th>\n",
       "      <td>1</td>\n",
       "      <td>100.0</td>\n",
       "    </tr>\n",
       "    <tr>\n",
       "      <th>cimb-world-mastercard</th>\n",
       "      <td>1</td>\n",
       "      <td>100.0</td>\n",
       "    </tr>\n",
       "    <tr>\n",
       "      <th>uob-evol-card</th>\n",
       "      <td>1</td>\n",
       "      <td>100.0</td>\n",
       "    </tr>\n",
       "    <tr>\n",
       "      <th>cimb-awsm-card</th>\n",
       "      <td>4</td>\n",
       "      <td>50.0</td>\n",
       "    </tr>\n",
       "    <tr>\n",
       "      <th>ocbc-plus-visa-card</th>\n",
       "      <td>9</td>\n",
       "      <td>22.0</td>\n",
       "    </tr>\n",
       "    <tr>\n",
       "      <th>standard-chartered-unlimited-cashback-credit-card</th>\n",
       "      <td>121</td>\n",
       "      <td>20.0</td>\n",
       "    </tr>\n",
       "    <tr>\n",
       "      <th>amex-true-cashback-card</th>\n",
       "      <td>48</td>\n",
       "      <td>17.0</td>\n",
       "    </tr>\n",
       "    <tr>\n",
       "      <th>ocbc-ntuc-plus-visa-credit-card</th>\n",
       "      <td>19</td>\n",
       "      <td>10.0</td>\n",
       "    </tr>\n",
       "    <tr>\n",
       "      <th>ocbc-cashflo-credit-card</th>\n",
       "      <td>10</td>\n",
       "      <td>10.0</td>\n",
       "    </tr>\n",
       "    <tr>\n",
       "      <th>posb-everyday-cashback</th>\n",
       "      <td>146</td>\n",
       "      <td>8.0</td>\n",
       "    </tr>\n",
       "    <tr>\n",
       "      <th>standard-chartered-spree-credit-card</th>\n",
       "      <td>13</td>\n",
       "      <td>8.0</td>\n",
       "    </tr>\n",
       "    <tr>\n",
       "      <th>hsbc-advance-credit-card</th>\n",
       "      <td>13</td>\n",
       "      <td>7.0</td>\n",
       "    </tr>\n",
       "    <tr>\n",
       "      <th>cimb-platinum-mastercard-cashback</th>\n",
       "      <td>20</td>\n",
       "      <td>5.0</td>\n",
       "    </tr>\n",
       "    <tr>\n",
       "      <th>uob-one-card</th>\n",
       "      <td>113</td>\n",
       "      <td>0.0</td>\n",
       "    </tr>\n",
       "    <tr>\n",
       "      <th>dbs-safra-card</th>\n",
       "      <td>4</td>\n",
       "      <td>0.0</td>\n",
       "    </tr>\n",
       "    <tr>\n",
       "      <th>dbs-live-fresh-visa-student-card</th>\n",
       "      <td>2</td>\n",
       "      <td>0.0</td>\n",
       "    </tr>\n",
       "    <tr>\n",
       "      <th>boc-family-card</th>\n",
       "      <td>2</td>\n",
       "      <td>0.0</td>\n",
       "    </tr>\n",
       "    <tr>\n",
       "      <th>maybank-family-friends-card</th>\n",
       "      <td>1</td>\n",
       "      <td>0.0</td>\n",
       "    </tr>\n",
       "    <tr>\n",
       "      <th>standard-chartered-manhattan-platinum-world-mastercard</th>\n",
       "      <td>1</td>\n",
       "      <td>0.0</td>\n",
       "    </tr>\n",
       "  </tbody>\n",
       "</table>\n",
       "</div>"
      ],
      "text/plain": [
       "                                                    no_of_reviews  \\\n",
       "uob-absolute-cashback-card                                      1   \n",
       "maybank-evibes-card                                             1   \n",
       "cimb-world-mastercard                                           1   \n",
       "uob-evol-card                                                   1   \n",
       "cimb-awsm-card                                                  4   \n",
       "ocbc-plus-visa-card                                             9   \n",
       "standard-chartered-unlimited-cashback-credit-card             121   \n",
       "amex-true-cashback-card                                        48   \n",
       "ocbc-ntuc-plus-visa-credit-card                                19   \n",
       "ocbc-cashflo-credit-card                                       10   \n",
       "posb-everyday-cashback                                        146   \n",
       "standard-chartered-spree-credit-card                           13   \n",
       "hsbc-advance-credit-card                                       13   \n",
       "cimb-platinum-mastercard-cashback                              20   \n",
       "uob-one-card                                                  113   \n",
       "dbs-safra-card                                                  4   \n",
       "dbs-live-fresh-visa-student-card                                2   \n",
       "boc-family-card                                                 2   \n",
       "maybank-family-friends-card                                     1   \n",
       "standard-chartered-manhattan-platinum-world-mas...              1   \n",
       "\n",
       "                                                    net_promoter_score  \n",
       "uob-absolute-cashback-card                                       100.0  \n",
       "maybank-evibes-card                                              100.0  \n",
       "cimb-world-mastercard                                            100.0  \n",
       "uob-evol-card                                                    100.0  \n",
       "cimb-awsm-card                                                    50.0  \n",
       "ocbc-plus-visa-card                                               22.0  \n",
       "standard-chartered-unlimited-cashback-credit-card                 20.0  \n",
       "amex-true-cashback-card                                           17.0  \n",
       "ocbc-ntuc-plus-visa-credit-card                                   10.0  \n",
       "ocbc-cashflo-credit-card                                          10.0  \n",
       "posb-everyday-cashback                                             8.0  \n",
       "standard-chartered-spree-credit-card                               8.0  \n",
       "hsbc-advance-credit-card                                           7.0  \n",
       "cimb-platinum-mastercard-cashback                                  5.0  \n",
       "uob-one-card                                                       0.0  \n",
       "dbs-safra-card                                                     0.0  \n",
       "dbs-live-fresh-visa-student-card                                   0.0  \n",
       "boc-family-card                                                    0.0  \n",
       "maybank-family-friends-card                                        0.0  \n",
       "standard-chartered-manhattan-platinum-world-mas...                 0.0  "
      ]
     },
     "metadata": {},
     "output_type": "display_data"
    }
   ],
   "source": [
    "# Sort the dataset by net promoter score followed by the total number of reviews\n",
    "display(cashback_cards_nps_df.sort_values(['net_promoter_score', 'no_of_reviews'], ascending = [False, False]).head(20))"
   ]
  },
  {
   "cell_type": "markdown",
   "id": "dfaa3f07",
   "metadata": {},
   "source": [
    "Seems like there are a few cards with a net promoter score of 100 but there is only 1 review for these cards. If we filter out these cards, the top card will be the OCBC Plus Visa Card followed by the Standard Chartered Unlimited Cashback Credit Card."
   ]
  },
  {
   "cell_type": "markdown",
   "id": "3f5e57f0",
   "metadata": {},
   "source": [
    "**1.2. Cashback cards with the lowest NPS scores**"
   ]
  },
  {
   "cell_type": "markdown",
   "id": "93b98c54",
   "metadata": {},
   "source": [
    "Let's take a look at the cards that has the lowest NPS."
   ]
  },
  {
   "cell_type": "code",
   "execution_count": 45,
   "id": "95acf3d9",
   "metadata": {},
   "outputs": [
    {
     "data": {
      "text/html": [
       "<div>\n",
       "<style scoped>\n",
       "    .dataframe tbody tr th:only-of-type {\n",
       "        vertical-align: middle;\n",
       "    }\n",
       "\n",
       "    .dataframe tbody tr th {\n",
       "        vertical-align: top;\n",
       "    }\n",
       "\n",
       "    .dataframe thead th {\n",
       "        text-align: right;\n",
       "    }\n",
       "</style>\n",
       "<table border=\"1\" class=\"dataframe\">\n",
       "  <thead>\n",
       "    <tr style=\"text-align: right;\">\n",
       "      <th></th>\n",
       "      <th>no_of_reviews</th>\n",
       "      <th>net_promoter_score</th>\n",
       "    </tr>\n",
       "  </thead>\n",
       "  <tbody>\n",
       "    <tr>\n",
       "      <th>ocbc-frank-credit-card</th>\n",
       "      <td>17</td>\n",
       "      <td>-53.0</td>\n",
       "    </tr>\n",
       "    <tr>\n",
       "      <th>citi-cash-back-plus-card</th>\n",
       "      <td>6</td>\n",
       "      <td>-50.0</td>\n",
       "    </tr>\n",
       "    <tr>\n",
       "      <th>cimb-visa-signature</th>\n",
       "      <td>27</td>\n",
       "      <td>-44.0</td>\n",
       "    </tr>\n",
       "    <tr>\n",
       "      <th>citi-cash-back-card</th>\n",
       "      <td>13</td>\n",
       "      <td>-39.0</td>\n",
       "    </tr>\n",
       "    <tr>\n",
       "      <th>dbs-live-fresh-cashback</th>\n",
       "      <td>71</td>\n",
       "      <td>-31.0</td>\n",
       "    </tr>\n",
       "    <tr>\n",
       "      <th>ocbc-365-credit-card</th>\n",
       "      <td>101</td>\n",
       "      <td>-29.0</td>\n",
       "    </tr>\n",
       "    <tr>\n",
       "      <th>ocbc-great-eastern-cashflo-credit-card</th>\n",
       "      <td>4</td>\n",
       "      <td>-25.0</td>\n",
       "    </tr>\n",
       "    <tr>\n",
       "      <th>citi-smrt-card</th>\n",
       "      <td>36</td>\n",
       "      <td>-14.0</td>\n",
       "    </tr>\n",
       "    <tr>\n",
       "      <th>uob-one-card</th>\n",
       "      <td>113</td>\n",
       "      <td>0.0</td>\n",
       "    </tr>\n",
       "    <tr>\n",
       "      <th>dbs-safra-card</th>\n",
       "      <td>4</td>\n",
       "      <td>0.0</td>\n",
       "    </tr>\n",
       "    <tr>\n",
       "      <th>dbs-live-fresh-visa-student-card</th>\n",
       "      <td>2</td>\n",
       "      <td>0.0</td>\n",
       "    </tr>\n",
       "    <tr>\n",
       "      <th>boc-family-card</th>\n",
       "      <td>2</td>\n",
       "      <td>0.0</td>\n",
       "    </tr>\n",
       "    <tr>\n",
       "      <th>maybank-family-friends-card</th>\n",
       "      <td>1</td>\n",
       "      <td>0.0</td>\n",
       "    </tr>\n",
       "    <tr>\n",
       "      <th>standard-chartered-manhattan-platinum-world-mastercard</th>\n",
       "      <td>1</td>\n",
       "      <td>0.0</td>\n",
       "    </tr>\n",
       "    <tr>\n",
       "      <th>standard-chartered-platinum-visa-card</th>\n",
       "      <td>1</td>\n",
       "      <td>0.0</td>\n",
       "    </tr>\n",
       "    <tr>\n",
       "      <th>icbc-chinese-zodiac-credit-card</th>\n",
       "      <td>1</td>\n",
       "      <td>0.0</td>\n",
       "    </tr>\n",
       "    <tr>\n",
       "      <th>ocbc-robinsons-group-credit-card</th>\n",
       "      <td>1</td>\n",
       "      <td>0.0</td>\n",
       "    </tr>\n",
       "    <tr>\n",
       "      <th>cimb-visa-infinite</th>\n",
       "      <td>1</td>\n",
       "      <td>0.0</td>\n",
       "    </tr>\n",
       "    <tr>\n",
       "      <th>hsbc-visa-platinum-credit-card</th>\n",
       "      <td>1</td>\n",
       "      <td>0.0</td>\n",
       "    </tr>\n",
       "    <tr>\n",
       "      <th>uob-krisflyer-credit-card</th>\n",
       "      <td>1</td>\n",
       "      <td>0.0</td>\n",
       "    </tr>\n",
       "  </tbody>\n",
       "</table>\n",
       "</div>"
      ],
      "text/plain": [
       "                                                    no_of_reviews  \\\n",
       "ocbc-frank-credit-card                                         17   \n",
       "citi-cash-back-plus-card                                        6   \n",
       "cimb-visa-signature                                            27   \n",
       "citi-cash-back-card                                            13   \n",
       "dbs-live-fresh-cashback                                        71   \n",
       "ocbc-365-credit-card                                          101   \n",
       "ocbc-great-eastern-cashflo-credit-card                          4   \n",
       "citi-smrt-card                                                 36   \n",
       "uob-one-card                                                  113   \n",
       "dbs-safra-card                                                  4   \n",
       "dbs-live-fresh-visa-student-card                                2   \n",
       "boc-family-card                                                 2   \n",
       "maybank-family-friends-card                                     1   \n",
       "standard-chartered-manhattan-platinum-world-mas...              1   \n",
       "standard-chartered-platinum-visa-card                           1   \n",
       "icbc-chinese-zodiac-credit-card                                 1   \n",
       "ocbc-robinsons-group-credit-card                                1   \n",
       "cimb-visa-infinite                                              1   \n",
       "hsbc-visa-platinum-credit-card                                  1   \n",
       "uob-krisflyer-credit-card                                       1   \n",
       "\n",
       "                                                    net_promoter_score  \n",
       "ocbc-frank-credit-card                                           -53.0  \n",
       "citi-cash-back-plus-card                                         -50.0  \n",
       "cimb-visa-signature                                              -44.0  \n",
       "citi-cash-back-card                                              -39.0  \n",
       "dbs-live-fresh-cashback                                          -31.0  \n",
       "ocbc-365-credit-card                                             -29.0  \n",
       "ocbc-great-eastern-cashflo-credit-card                           -25.0  \n",
       "citi-smrt-card                                                   -14.0  \n",
       "uob-one-card                                                       0.0  \n",
       "dbs-safra-card                                                     0.0  \n",
       "dbs-live-fresh-visa-student-card                                   0.0  \n",
       "boc-family-card                                                    0.0  \n",
       "maybank-family-friends-card                                        0.0  \n",
       "standard-chartered-manhattan-platinum-world-mas...                 0.0  \n",
       "standard-chartered-platinum-visa-card                              0.0  \n",
       "icbc-chinese-zodiac-credit-card                                    0.0  \n",
       "ocbc-robinsons-group-credit-card                                   0.0  \n",
       "cimb-visa-infinite                                                 0.0  \n",
       "hsbc-visa-platinum-credit-card                                     0.0  \n",
       "uob-krisflyer-credit-card                                          0.0  "
      ]
     },
     "metadata": {},
     "output_type": "display_data"
    }
   ],
   "source": [
    "# Sort the dataset by net promoter score followed by the total number of reviews\n",
    "display(cashback_cards_nps_df.sort_values(['net_promoter_score', 'no_of_reviews'], ascending = [True, False]).head(20))"
   ]
  },
  {
   "cell_type": "markdown",
   "id": "7b41b652",
   "metadata": {},
   "source": [
    "By looking at this, the OCBC Frank Credit Card has the worst Net Promoter scre followed by the Citi Cash Back Plus Card. Based on the above, we have noted tha there are quite a lot of credit cards that have very little reviews. Thus, we will exclude the cards that have less than 5 reviews when we make the recommendations later."
   ]
  },
  {
   "cell_type": "markdown",
   "id": "4f2900f5",
   "metadata": {},
   "source": [
    "**2. Net Promoter Scores for miles card**"
   ]
  },
  {
   "cell_type": "code",
   "execution_count": 46,
   "id": "a8777572",
   "metadata": {},
   "outputs": [
    {
     "data": {
      "text/html": [
       "<div>\n",
       "<style scoped>\n",
       "    .dataframe tbody tr th:only-of-type {\n",
       "        vertical-align: middle;\n",
       "    }\n",
       "\n",
       "    .dataframe tbody tr th {\n",
       "        vertical-align: top;\n",
       "    }\n",
       "\n",
       "    .dataframe thead th {\n",
       "        text-align: right;\n",
       "    }\n",
       "</style>\n",
       "<table border=\"1\" class=\"dataframe\">\n",
       "  <thead>\n",
       "    <tr style=\"text-align: right;\">\n",
       "      <th></th>\n",
       "      <th>no_of_reviews</th>\n",
       "      <th>net_promoter_score</th>\n",
       "    </tr>\n",
       "  </thead>\n",
       "  <tbody>\n",
       "    <tr>\n",
       "      <th>dbs-altitude-visa-signature-card</th>\n",
       "      <td>51</td>\n",
       "      <td>13.0</td>\n",
       "    </tr>\n",
       "    <tr>\n",
       "      <th>dbs-womans-world-card</th>\n",
       "      <td>19</td>\n",
       "      <td>16.0</td>\n",
       "    </tr>\n",
       "    <tr>\n",
       "      <th>citi-rewards-credit-card</th>\n",
       "      <td>25</td>\n",
       "      <td>28.0</td>\n",
       "    </tr>\n",
       "    <tr>\n",
       "      <th>uob-preferred-platinum-visa-card</th>\n",
       "      <td>7</td>\n",
       "      <td>-14.0</td>\n",
       "    </tr>\n",
       "    <tr>\n",
       "      <th>citi-premiermiles-visa-card</th>\n",
       "      <td>37</td>\n",
       "      <td>-27.0</td>\n",
       "    </tr>\n",
       "  </tbody>\n",
       "</table>\n",
       "</div>"
      ],
      "text/plain": [
       "                                  no_of_reviews  net_promoter_score\n",
       "dbs-altitude-visa-signature-card             51                13.0\n",
       "dbs-womans-world-card                        19                16.0\n",
       "citi-rewards-credit-card                     25                28.0\n",
       "uob-preferred-platinum-visa-card              7               -14.0\n",
       "citi-premiermiles-visa-card                  37               -27.0"
      ]
     },
     "metadata": {},
     "output_type": "display_data"
    }
   ],
   "source": [
    "# Save all the miles cards into a list\n",
    "miles_names = miles_expand_df['credit_card_name'].unique()\n",
    "\n",
    "# Set the scores for promoters, passives and detractors\n",
    "Promoters = [5]\n",
    "Passives = [4]\n",
    "Detractors = [1,2,3]\n",
    "\n",
    "# Create a dictionary to store the card names and the NPS\n",
    "miles_cards_nps = {}\n",
    "\n",
    "for cards in miles_names:\n",
    "    # Filter dataset for the individual cards\n",
    "    individual_card = miles_expand_df[miles_expand_df['credit_card_name']== cards]\n",
    "    \n",
    "    # Calculate the total number of promoters and detractors\n",
    "    card_promoters = round(individual_card[individual_card['sentiment'].isin(Promoters)].shape[0]/individual_card.shape[0]*100,0)\n",
    "    card_detractors = round(individual_card[individual_card['sentiment'].isin(Detractors)].shape[0]/individual_card.shape[0]*100,0)\n",
    "    \n",
    "    # Calculate the NPS\n",
    "    card_nps = card_promoters - card_detractors\n",
    "    \n",
    "    # Save the NPS in a dictionary\n",
    "    miles_cards_nps[cards]={}\n",
    "    miles_cards_nps[cards]['no_of_reviews'] = individual_card.shape[0]\n",
    "    miles_cards_nps[cards]['net_promoter_score'] = card_nps\n",
    "    \n",
    "# Store the results in a dataframe\n",
    "miles_cards_nps_df = pd.DataFrame.from_dict(miles_cards_nps, orient = 'index')\n",
    "display(miles_cards_nps_df.head())"
   ]
  },
  {
   "cell_type": "markdown",
   "id": "507b992e",
   "metadata": {},
   "source": [
    "Let's take a look at the findings. We will sort the scores by the Net Promoter Score followed by the number of reviews."
   ]
  },
  {
   "cell_type": "markdown",
   "id": "f75ecde9",
   "metadata": {},
   "source": [
    "**2.1. Air Miles cards with the highest NPS scores**"
   ]
  },
  {
   "cell_type": "code",
   "execution_count": 47,
   "id": "00de2252",
   "metadata": {},
   "outputs": [
    {
     "data": {
      "text/html": [
       "<div>\n",
       "<style scoped>\n",
       "    .dataframe tbody tr th:only-of-type {\n",
       "        vertical-align: middle;\n",
       "    }\n",
       "\n",
       "    .dataframe tbody tr th {\n",
       "        vertical-align: top;\n",
       "    }\n",
       "\n",
       "    .dataframe thead th {\n",
       "        text-align: right;\n",
       "    }\n",
       "</style>\n",
       "<table border=\"1\" class=\"dataframe\">\n",
       "  <thead>\n",
       "    <tr style=\"text-align: right;\">\n",
       "      <th></th>\n",
       "      <th>no_of_reviews</th>\n",
       "      <th>net_promoter_score</th>\n",
       "    </tr>\n",
       "  </thead>\n",
       "  <tbody>\n",
       "    <tr>\n",
       "      <th>citi-rewards-credit-card</th>\n",
       "      <td>25</td>\n",
       "      <td>28.0</td>\n",
       "    </tr>\n",
       "    <tr>\n",
       "      <th>uob-prvi-miles-visa-card</th>\n",
       "      <td>10</td>\n",
       "      <td>20.0</td>\n",
       "    </tr>\n",
       "    <tr>\n",
       "      <th>dbs-womans-world-card</th>\n",
       "      <td>19</td>\n",
       "      <td>16.0</td>\n",
       "    </tr>\n",
       "    <tr>\n",
       "      <th>dbs-altitude-visa-signature-card</th>\n",
       "      <td>51</td>\n",
       "      <td>13.0</td>\n",
       "    </tr>\n",
       "    <tr>\n",
       "      <th>amex-singapore-airlines-krisflyer-credit-card</th>\n",
       "      <td>19</td>\n",
       "      <td>5.0</td>\n",
       "    </tr>\n",
       "    <tr>\n",
       "      <th>amex-singapore-airlines-krisflyer-ascend-credit-card</th>\n",
       "      <td>2</td>\n",
       "      <td>0.0</td>\n",
       "    </tr>\n",
       "    <tr>\n",
       "      <th>amex-platinum-card</th>\n",
       "      <td>1</td>\n",
       "      <td>0.0</td>\n",
       "    </tr>\n",
       "    <tr>\n",
       "      <th>dbs-womans-card</th>\n",
       "      <td>1</td>\n",
       "      <td>0.0</td>\n",
       "    </tr>\n",
       "    <tr>\n",
       "      <th>dbs-black-visa-card</th>\n",
       "      <td>1</td>\n",
       "      <td>0.0</td>\n",
       "    </tr>\n",
       "    <tr>\n",
       "      <th>amex-platinum-credit-card</th>\n",
       "      <td>1</td>\n",
       "      <td>0.0</td>\n",
       "    </tr>\n",
       "    <tr>\n",
       "      <th>uob-lady-s-card</th>\n",
       "      <td>1</td>\n",
       "      <td>0.0</td>\n",
       "    </tr>\n",
       "    <tr>\n",
       "      <th>dbs-esso-card</th>\n",
       "      <td>1</td>\n",
       "      <td>0.0</td>\n",
       "    </tr>\n",
       "    <tr>\n",
       "      <th>ocbc-voyage-card</th>\n",
       "      <td>1</td>\n",
       "      <td>0.0</td>\n",
       "    </tr>\n",
       "    <tr>\n",
       "      <th>amex-gold-card</th>\n",
       "      <td>1</td>\n",
       "      <td>0.0</td>\n",
       "    </tr>\n",
       "    <tr>\n",
       "      <th>standard-chartered-visa-infinite-x-credit-card</th>\n",
       "      <td>1</td>\n",
       "      <td>0.0</td>\n",
       "    </tr>\n",
       "    <tr>\n",
       "      <th>citi-prestige-card</th>\n",
       "      <td>1</td>\n",
       "      <td>0.0</td>\n",
       "    </tr>\n",
       "    <tr>\n",
       "      <th>maybank-horizon-visa-signature-card</th>\n",
       "      <td>1</td>\n",
       "      <td>0.0</td>\n",
       "    </tr>\n",
       "    <tr>\n",
       "      <th>boc-elite-miles-world-mastercard</th>\n",
       "      <td>1</td>\n",
       "      <td>0.0</td>\n",
       "    </tr>\n",
       "    <tr>\n",
       "      <th>dbs-takashimaya-visa-card</th>\n",
       "      <td>1</td>\n",
       "      <td>0.0</td>\n",
       "    </tr>\n",
       "    <tr>\n",
       "      <th>citi-clear-card</th>\n",
       "      <td>1</td>\n",
       "      <td>0.0</td>\n",
       "    </tr>\n",
       "  </tbody>\n",
       "</table>\n",
       "</div>"
      ],
      "text/plain": [
       "                                                    no_of_reviews  \\\n",
       "citi-rewards-credit-card                                       25   \n",
       "uob-prvi-miles-visa-card                                       10   \n",
       "dbs-womans-world-card                                          19   \n",
       "dbs-altitude-visa-signature-card                               51   \n",
       "amex-singapore-airlines-krisflyer-credit-card                  19   \n",
       "amex-singapore-airlines-krisflyer-ascend-credit...              2   \n",
       "amex-platinum-card                                              1   \n",
       "dbs-womans-card                                                 1   \n",
       "dbs-black-visa-card                                             1   \n",
       "amex-platinum-credit-card                                       1   \n",
       "uob-lady-s-card                                                 1   \n",
       "dbs-esso-card                                                   1   \n",
       "ocbc-voyage-card                                                1   \n",
       "amex-gold-card                                                  1   \n",
       "standard-chartered-visa-infinite-x-credit-card                  1   \n",
       "citi-prestige-card                                              1   \n",
       "maybank-horizon-visa-signature-card                             1   \n",
       "boc-elite-miles-world-mastercard                                1   \n",
       "dbs-takashimaya-visa-card                                       1   \n",
       "citi-clear-card                                                 1   \n",
       "\n",
       "                                                    net_promoter_score  \n",
       "citi-rewards-credit-card                                          28.0  \n",
       "uob-prvi-miles-visa-card                                          20.0  \n",
       "dbs-womans-world-card                                             16.0  \n",
       "dbs-altitude-visa-signature-card                                  13.0  \n",
       "amex-singapore-airlines-krisflyer-credit-card                      5.0  \n",
       "amex-singapore-airlines-krisflyer-ascend-credit...                 0.0  \n",
       "amex-platinum-card                                                 0.0  \n",
       "dbs-womans-card                                                    0.0  \n",
       "dbs-black-visa-card                                                0.0  \n",
       "amex-platinum-credit-card                                          0.0  \n",
       "uob-lady-s-card                                                    0.0  \n",
       "dbs-esso-card                                                      0.0  \n",
       "ocbc-voyage-card                                                   0.0  \n",
       "amex-gold-card                                                     0.0  \n",
       "standard-chartered-visa-infinite-x-credit-card                     0.0  \n",
       "citi-prestige-card                                                 0.0  \n",
       "maybank-horizon-visa-signature-card                                0.0  \n",
       "boc-elite-miles-world-mastercard                                   0.0  \n",
       "dbs-takashimaya-visa-card                                          0.0  \n",
       "citi-clear-card                                                    0.0  "
      ]
     },
     "metadata": {},
     "output_type": "display_data"
    }
   ],
   "source": [
    "# Sort the dataset by net promoter score followed by the total number of reviews\n",
    "display(miles_cards_nps_df.sort_values(['net_promoter_score', 'no_of_reviews'], ascending = [False, False]).head(20))"
   ]
  },
  {
   "cell_type": "markdown",
   "id": "c26356e9",
   "metadata": {},
   "source": [
    "Based on the above, the Citibank Rewards Credit Card has best NPS followed by the UOB  Pri Miles VIsa Card and the DBS Womans World Card. Let's look at the cards with the lowest NPS scores."
   ]
  },
  {
   "cell_type": "markdown",
   "id": "c7eb71c8",
   "metadata": {},
   "source": [
    "**2.2. Air Miles cards with the lowest NPS scores**"
   ]
  },
  {
   "cell_type": "code",
   "execution_count": 48,
   "id": "d2f4ba32",
   "metadata": {},
   "outputs": [
    {
     "data": {
      "text/html": [
       "<div>\n",
       "<style scoped>\n",
       "    .dataframe tbody tr th:only-of-type {\n",
       "        vertical-align: middle;\n",
       "    }\n",
       "\n",
       "    .dataframe tbody tr th {\n",
       "        vertical-align: top;\n",
       "    }\n",
       "\n",
       "    .dataframe thead th {\n",
       "        text-align: right;\n",
       "    }\n",
       "</style>\n",
       "<table border=\"1\" class=\"dataframe\">\n",
       "  <thead>\n",
       "    <tr style=\"text-align: right;\">\n",
       "      <th></th>\n",
       "      <th>no_of_reviews</th>\n",
       "      <th>net_promoter_score</th>\n",
       "    </tr>\n",
       "  </thead>\n",
       "  <tbody>\n",
       "    <tr>\n",
       "      <th>amex-capitacard</th>\n",
       "      <td>2</td>\n",
       "      <td>-100.0</td>\n",
       "    </tr>\n",
       "    <tr>\n",
       "      <th>citi-premiermiles-visa-card</th>\n",
       "      <td>37</td>\n",
       "      <td>-27.0</td>\n",
       "    </tr>\n",
       "    <tr>\n",
       "      <th>ocbc-90-degrees-n-mastercard</th>\n",
       "      <td>13</td>\n",
       "      <td>-23.0</td>\n",
       "    </tr>\n",
       "    <tr>\n",
       "      <th>ocbc-titanium-rewards-card</th>\n",
       "      <td>10</td>\n",
       "      <td>-20.0</td>\n",
       "    </tr>\n",
       "    <tr>\n",
       "      <th>uob-preferred-platinum-visa-card</th>\n",
       "      <td>7</td>\n",
       "      <td>-14.0</td>\n",
       "    </tr>\n",
       "    <tr>\n",
       "      <th>hsbc-revolution-credit-card</th>\n",
       "      <td>16</td>\n",
       "      <td>-6.0</td>\n",
       "    </tr>\n",
       "    <tr>\n",
       "      <th>amex-singapore-airlines-krisflyer-ascend-credit-card</th>\n",
       "      <td>2</td>\n",
       "      <td>0.0</td>\n",
       "    </tr>\n",
       "    <tr>\n",
       "      <th>amex-platinum-card</th>\n",
       "      <td>1</td>\n",
       "      <td>0.0</td>\n",
       "    </tr>\n",
       "    <tr>\n",
       "      <th>dbs-womans-card</th>\n",
       "      <td>1</td>\n",
       "      <td>0.0</td>\n",
       "    </tr>\n",
       "    <tr>\n",
       "      <th>dbs-black-visa-card</th>\n",
       "      <td>1</td>\n",
       "      <td>0.0</td>\n",
       "    </tr>\n",
       "    <tr>\n",
       "      <th>amex-platinum-credit-card</th>\n",
       "      <td>1</td>\n",
       "      <td>0.0</td>\n",
       "    </tr>\n",
       "    <tr>\n",
       "      <th>uob-lady-s-card</th>\n",
       "      <td>1</td>\n",
       "      <td>0.0</td>\n",
       "    </tr>\n",
       "    <tr>\n",
       "      <th>dbs-esso-card</th>\n",
       "      <td>1</td>\n",
       "      <td>0.0</td>\n",
       "    </tr>\n",
       "    <tr>\n",
       "      <th>ocbc-voyage-card</th>\n",
       "      <td>1</td>\n",
       "      <td>0.0</td>\n",
       "    </tr>\n",
       "    <tr>\n",
       "      <th>amex-gold-card</th>\n",
       "      <td>1</td>\n",
       "      <td>0.0</td>\n",
       "    </tr>\n",
       "    <tr>\n",
       "      <th>standard-chartered-visa-infinite-x-credit-card</th>\n",
       "      <td>1</td>\n",
       "      <td>0.0</td>\n",
       "    </tr>\n",
       "    <tr>\n",
       "      <th>citi-prestige-card</th>\n",
       "      <td>1</td>\n",
       "      <td>0.0</td>\n",
       "    </tr>\n",
       "    <tr>\n",
       "      <th>maybank-horizon-visa-signature-card</th>\n",
       "      <td>1</td>\n",
       "      <td>0.0</td>\n",
       "    </tr>\n",
       "    <tr>\n",
       "      <th>boc-elite-miles-world-mastercard</th>\n",
       "      <td>1</td>\n",
       "      <td>0.0</td>\n",
       "    </tr>\n",
       "    <tr>\n",
       "      <th>dbs-takashimaya-visa-card</th>\n",
       "      <td>1</td>\n",
       "      <td>0.0</td>\n",
       "    </tr>\n",
       "  </tbody>\n",
       "</table>\n",
       "</div>"
      ],
      "text/plain": [
       "                                                    no_of_reviews  \\\n",
       "amex-capitacard                                                 2   \n",
       "citi-premiermiles-visa-card                                    37   \n",
       "ocbc-90-degrees-n-mastercard                                   13   \n",
       "ocbc-titanium-rewards-card                                     10   \n",
       "uob-preferred-platinum-visa-card                                7   \n",
       "hsbc-revolution-credit-card                                    16   \n",
       "amex-singapore-airlines-krisflyer-ascend-credit...              2   \n",
       "amex-platinum-card                                              1   \n",
       "dbs-womans-card                                                 1   \n",
       "dbs-black-visa-card                                             1   \n",
       "amex-platinum-credit-card                                       1   \n",
       "uob-lady-s-card                                                 1   \n",
       "dbs-esso-card                                                   1   \n",
       "ocbc-voyage-card                                                1   \n",
       "amex-gold-card                                                  1   \n",
       "standard-chartered-visa-infinite-x-credit-card                  1   \n",
       "citi-prestige-card                                              1   \n",
       "maybank-horizon-visa-signature-card                             1   \n",
       "boc-elite-miles-world-mastercard                                1   \n",
       "dbs-takashimaya-visa-card                                       1   \n",
       "\n",
       "                                                    net_promoter_score  \n",
       "amex-capitacard                                                 -100.0  \n",
       "citi-premiermiles-visa-card                                      -27.0  \n",
       "ocbc-90-degrees-n-mastercard                                     -23.0  \n",
       "ocbc-titanium-rewards-card                                       -20.0  \n",
       "uob-preferred-platinum-visa-card                                 -14.0  \n",
       "hsbc-revolution-credit-card                                       -6.0  \n",
       "amex-singapore-airlines-krisflyer-ascend-credit...                 0.0  \n",
       "amex-platinum-card                                                 0.0  \n",
       "dbs-womans-card                                                    0.0  \n",
       "dbs-black-visa-card                                                0.0  \n",
       "amex-platinum-credit-card                                          0.0  \n",
       "uob-lady-s-card                                                    0.0  \n",
       "dbs-esso-card                                                      0.0  \n",
       "ocbc-voyage-card                                                   0.0  \n",
       "amex-gold-card                                                     0.0  \n",
       "standard-chartered-visa-infinite-x-credit-card                     0.0  \n",
       "citi-prestige-card                                                 0.0  \n",
       "maybank-horizon-visa-signature-card                                0.0  \n",
       "boc-elite-miles-world-mastercard                                   0.0  \n",
       "dbs-takashimaya-visa-card                                          0.0  "
      ]
     },
     "metadata": {},
     "output_type": "display_data"
    }
   ],
   "source": [
    "# Sort the dataset by net promoter score followed by the total number of reviews\n",
    "display(miles_cards_nps_df.sort_values(['net_promoter_score', 'no_of_reviews'], ascending = [True, False]).head(20))"
   ]
  },
  {
   "cell_type": "markdown",
   "id": "4fad5014",
   "metadata": {},
   "source": [
    "The Amex Capitacard has the lowest possible score of -100, but there were only 2 reviews. This means that the two users who had left the review would most probably have a bad experience using the cards. The card with the next worst NPS score is the Citi Premiermiles Visa Card followed by the OCBC 90 Degrees N Mastercard. Similarly, we will exclude the cards that have less than 5 reviews when we make our recommendations."
   ]
  },
  {
   "cell_type": "markdown",
   "id": "5d306eba",
   "metadata": {},
   "source": [
    "Now that we have completed the EDA analysis and calculated the Net Promoter Scores for the cards, we will start to build our credit card recommender."
   ]
  },
  {
   "cell_type": "markdown",
   "id": "0d820a9c",
   "metadata": {},
   "source": [
    "**3. Export Datasets**"
   ]
  },
  {
   "cell_type": "code",
   "execution_count": 49,
   "id": "9466fa18",
   "metadata": {},
   "outputs": [],
   "source": [
    "cashback_expand_df.to_csv('../dataset/2.cashback_expand_df.csv')\n",
    "miles_expand_df.to_csv('../dataset/2.miles_expand_df.csv')\n",
    "combined_expand_df.to_csv('../dataset/2.combined_expand_df.csv')\n",
    "miles_cards_nps_df.to_csv('../dataset/2.miles_cards_nps_df.csv')\n",
    "cashback_cards_nps_df.to_csv('../dataset/2.cashback_cards_nps_df.csv')\n",
    "cashback_analyse_df.to_csv('../dataset/2.cashback_analyse_df.csv')\n",
    "miles_analyse_df.to_csv('../dataset/2.miles_analyse_df.csv')\n",
    "combined_analyse_df.to_csv('../dataset/2.combined_analyse_df.csv')"
   ]
  },
  {
   "cell_type": "markdown",
   "id": "de6c2b03",
   "metadata": {},
   "source": [
    "We will continue the rest of the analysis in a separate workbook. Please refer to **\"3. Modelling\"** for the portion on modelling."
   ]
  }
 ],
 "metadata": {
  "kernelspec": {
   "display_name": "Python 3 (ipykernel)",
   "language": "python",
   "name": "python3"
  },
  "language_info": {
   "codemirror_mode": {
    "name": "ipython",
    "version": 3
   },
   "file_extension": ".py",
   "mimetype": "text/x-python",
   "name": "python",
   "nbconvert_exporter": "python",
   "pygments_lexer": "ipython3",
   "version": "3.9.12"
  }
 },
 "nbformat": 4,
 "nbformat_minor": 5
}
