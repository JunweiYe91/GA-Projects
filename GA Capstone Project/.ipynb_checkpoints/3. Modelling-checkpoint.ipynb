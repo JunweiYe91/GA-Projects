{
 "cells": [
  {
   "cell_type": "markdown",
   "id": "5c5b0549",
   "metadata": {},
   "source": [
    "<img src=\"http://imgur.com/1ZcRyrc.png\" style=\"float: left; margin: 20px; height: 55px\">\n",
    "\n",
    "# Capstone: Credit Card Recommender"
   ]
  },
  {
   "cell_type": "markdown",
   "id": "a23b9af5",
   "metadata": {},
   "source": [
    "---\n",
    "## Problem Statement\n",
    "You've want to sign up for a credit card that best fits you, but you've realised that you will need to comb through all card descriptions, conditions and reviews in order to decide which card is the best. You find that it is very inconvenient and as a data scientist, you decide to take it upon yourself to build a credit card recommender.\n",
    "\n",
    "Use different techniques to analyse the reviews, credit card conditions to derive a credit card recommender that could help to save a lot of time when choosing a credit card."
   ]
  },
  {
   "cell_type": "markdown",
   "id": "251b01d0",
   "metadata": {},
   "source": [
    "### Contents:\n",
    "- [Background](#Background)\n",
    "- [Datasets Used](#Datasets-Used)\n",
    "- [Extraction of Data](#Extraction-of-Data)\n",
    "- [Data Import & Cleaning](#Data-Import-and-Cleaning)\n",
    "- [Data Dictionary](#Data-Dictionary)\n",
    "- [Pre-processing text data](#Pre-processing-text-data)\n",
    "- [Exploratory Data Analysis](#Exploratory-Data-Analysis)\n",
    "- [Sentiment Analysis Using BERT](#Sentiment-Analysis-Using-BERT)\n",
    "- [Preparing the dataset for modelling](#Preparing-the-dataset-for-modelling)\n",
    "- [Modelling](#Modelling)\n",
    "- [Conclusions and Recommendations](#Conclusions-and-Recommendations)"
   ]
  },
  {
   "cell_type": "markdown",
   "id": "f03cce1f",
   "metadata": {},
   "source": [
    "## Background"
   ]
  },
  {
   "cell_type": "markdown",
   "id": "24d50c64",
   "metadata": {},
   "source": [
    "All credit cards in Singapore offer some sort of reward for using them for your purchases, which include incentives like cashback, reward points (which can be traded for air miles, discount vouchers or actual products), or airline miles. However, the most common reward, and perhaps the most enticing, would perhaps be cashback.\n",
    "\n",
    "For the uninitiated, cashback refers to receiving back a percentage of what you spend in the form of money. It is akin to getting a perpetual discount whenever you spend. Sounds too good to be true? It really is not. Credit card companies are constantly competing to provide the most competitive rewards for their customers - some cards offer lucrative sign-up promotions, while others offer higher cashbacks for niche spending categories like travel or sustainability.\n",
    "\n",
    "With so many cards available on the market to choose from, it is no wonder that Singaporeans have a hard time deciding which is the best credit card in Singapore. In particular, it is hard to compare the different cashback rewards across multiple categories for various credit cards. [(source)](https://sg.news.yahoo.com/three-reasons-why-own-credit-104237659.html)"
   ]
  },
  {
   "cell_type": "markdown",
   "id": "b9440014",
   "metadata": {},
   "source": [
    "## Datasets Used"
   ]
  },
  {
   "cell_type": "markdown",
   "id": "1a76bff5",
   "metadata": {},
   "source": [
    "Data in this used in the analysis consists of credit card details and reviews scrapped from various websites. Please rerefer to the data dictionary for more information on the columns extracted."
   ]
  },
  {
   "cell_type": "markdown",
   "id": "d6273032",
   "metadata": {},
   "source": [
    "## Extraction of Data"
   ]
  },
  {
   "cell_type": "markdown",
   "id": "d4c5ba53",
   "metadata": {},
   "source": [
    "Please refer to \"**1. Extraction of Data**\" for the steps done for data extraction."
   ]
  },
  {
   "cell_type": "markdown",
   "id": "4f64591a",
   "metadata": {},
   "source": [
    "## Data Import and Cleaning"
   ]
  },
  {
   "cell_type": "markdown",
   "id": "c06df8f7",
   "metadata": {},
   "source": [
    "Please refer to \"**2. Analysis of Datasets**\" for the steps done for data import and cleaning."
   ]
  },
  {
   "cell_type": "markdown",
   "id": "8dd48258",
   "metadata": {},
   "source": [
    "## Data Dictionary"
   ]
  },
  {
   "cell_type": "markdown",
   "id": "cee89854",
   "metadata": {},
   "source": [
    "Please refer to \"**2. Analysis of Datasets**\" for the steps done for the data dictionary"
   ]
  },
  {
   "cell_type": "markdown",
   "id": "c897c61d",
   "metadata": {},
   "source": [
    "## Pre processing text data"
   ]
  },
  {
   "cell_type": "markdown",
   "id": "4676d4bd",
   "metadata": {},
   "source": [
    "Please refer to \"**2. Analysis of Datasets**\" for the steps done for pre-processing data."
   ]
  },
  {
   "cell_type": "markdown",
   "id": "089ba5cc",
   "metadata": {},
   "source": [
    "## Exploratory Data Analysis"
   ]
  },
  {
   "cell_type": "markdown",
   "id": "0156c413",
   "metadata": {},
   "source": [
    "Please refer to \"**2. Analysis of Datasets**\" for the steps done for exploratory data analysis."
   ]
  },
  {
   "cell_type": "markdown",
   "id": "3dcf5391",
   "metadata": {},
   "source": [
    "## Sentiment Analysis Using BERT"
   ]
  },
  {
   "cell_type": "markdown",
   "id": "5948c13b",
   "metadata": {},
   "source": [
    "Please refer to \"**2. Analysis of Datasets**\" for the steps done for sentiment analysis."
   ]
  },
  {
   "cell_type": "markdown",
   "id": "51da6653",
   "metadata": {},
   "source": [
    "## Preparing the dataset for modelling"
   ]
  },
  {
   "cell_type": "markdown",
   "id": "31f4ec20",
   "metadata": {},
   "source": [
    "### Preparing questionaires and the calculations of cashback/miles"
   ]
  },
  {
   "cell_type": "markdown",
   "id": "d1edf85c",
   "metadata": {},
   "source": [
    "**1. Questionaire**"
   ]
  },
  {
   "cell_type": "markdown",
   "id": "a9c50d81",
   "metadata": {},
   "source": [
    "In order to find out the consumers' spending habits, we will need to create a questionaire for the the consumers to input their responses. The questionaire we have come up with is as per below."
   ]
  },
  {
   "cell_type": "markdown",
   "id": "0c1acf32",
   "metadata": {},
   "source": [
    "**Question 1:** Do you prefer a miles or cashback card?\n",
    " - Cashback\n",
    " - Miles\n",
    "\n",
    "**Question 2:** Are you a Singaporean?\n",
    "- Yes\n",
    "- No\n",
    "\n",
    "**Question 3:** What is your annual income?\n",
    "- Less than 30,000\n",
    "- 30,000 - 39,999\t\n",
    "- 40,000 - 49,999\t\n",
    "- 50,000 to 59,999\t\n",
    "- 60,000 to 69,999\n",
    "- 70,000 to 79,999\n",
    "- 80,000 or more\n",
    "\n",
    "**Question 4:** Where do you normally go to for petrol refuel?\n",
    "- Public Transport\n",
    "- Esso\n",
    "- Shell\n",
    "- SPC\n",
    "- Caltex\n",
    "\n",
    "**Question 5:** How much do you spend on petrol/public transport every month? This should be the net price after all available discounts.\n",
    "- 0\n",
    "- 1 - 199\n",
    "- 200 - 399\t\n",
    "- 400 - 599\t\n",
    "- 600 - 799\t\n",
    "- 800 - 999\t\n",
    "- More than 1000\n",
    "\n",
    "**Question 6:** How much do you spend on dining every month?\n",
    "- 0\n",
    "- 1 - 199\n",
    "- 200 - 399\t\n",
    "- 400 - 599\t\n",
    "- 600 - 799\t\n",
    "- 800 - 999\t\n",
    "- More than 1000\n",
    "\n",
    "**Question 7:** Where do you usually shop for groceries?\n",
    "- Ntuc\t\n",
    "- Giant\t\n",
    "- Cold Storage\t\n",
    "- Sheng Shiong\t\n",
    "- Redmart\n",
    "\n",
    "**Question 8:** How much do you spend on groceries every month?\n",
    "- 0\n",
    "- 1 - 199\n",
    "- 200 - 399\t\n",
    "- 400 - 599\t\n",
    "- 600 - 799\t\n",
    "- 800 - 999\t\n",
    "- More than 1000\n",
    "\n",
    "**Question 9:** How much do you spend on Grab every month?\n",
    "- 0\n",
    "- 1 - 199\n",
    "- 200 - 399\t\n",
    "- 400 - 599\t\n",
    "- 600 - 799\t\n",
    "- 800 - 999\t\n",
    "- More than 1000\n",
    "\n",
    "**Question 10:** How much do you spend online shopping every month?\n",
    "- 0\n",
    "- 1 - 199\n",
    "- 200 - 399\t\n",
    "- 400 - 599\t\n",
    "- 600 - 799\t\n",
    "- 800 - 999\t\n",
    "- More than 1000\n",
    "\n",
    "**Question 11:** Which is your preferred travel partner?\n",
    "- Not available for cashback cards\t\n",
    "- Krisflyer\n",
    "- Asia Miles\t\n",
    "- Frequent Flyer\t\n",
    "- Big Loyalty\n",
    "- British Airways Executive Club\n",
    "- Etihad Guest\n",
    "- Turkish Miles and Smiles"
   ]
  },
  {
   "cell_type": "markdown",
   "id": "70f61f3b",
   "metadata": {},
   "source": [
    "**2. Importing of libraries**"
   ]
  },
  {
   "cell_type": "code",
   "execution_count": 1,
   "id": "6ff8d15c",
   "metadata": {},
   "outputs": [],
   "source": [
    "# Import libraries\n",
    "import pandas as pd\n",
    "import string\n",
    "import re\n",
    "import nltk\n",
    "import numpy as np\n",
    "import pandas as pd\n",
    "import sklearn\n",
    "import pickle\n",
    "\n",
    "# Chart plotting libraries\n",
    "import matplotlib.pyplot as plt\n",
    "import seaborn as sns\n",
    "\n",
    "# Modelling libraries\n",
    "from sklearn.model_selection import train_test_split, cross_val_score\n",
    "from sklearn.model_selection import train_test_split\n",
    "from sklearn.model_selection import StratifiedKFold\n",
    "from sklearn.metrics import confusion_matrix, plot_confusion_matrix, accuracy_score, plot_roc_curve, roc_auc_score, recall_score, precision_score, f1_score\n",
    "from sklearn.pipeline import Pipeline\n",
    "from sklearn.model_selection import GridSearchCV\n",
    "from imblearn.over_sampling import SMOTE\n",
    "from sklearn.neighbors import KNeighborsClassifier\n",
    "from sklearn.ensemble import RandomForestClassifier,AdaBoostClassifier,GradientBoostingClassifier\n",
    "\n",
    "# Streamlit\n",
    "import streamlit as st\n",
    "import streamlit.components.v1 as components\n",
    "\n",
    "# Ignore warnings\n",
    "import warnings\n",
    "warnings.filterwarnings(\"ignore\")"
   ]
  },
  {
   "cell_type": "markdown",
   "id": "3ffec018",
   "metadata": {},
   "source": [
    "**3. Saving the parameters for each card that we are going to recommend** "
   ]
  },
  {
   "cell_type": "markdown",
   "id": "ab953a1d",
   "metadata": {},
   "source": [
    "We have imputed all the details of the credit cards into dictionaries below, so that it would be easy to update the details. If the banks were to ever change the details and conditions of the cards., we would only need to update the below dictionary, and rerun the entire file to get the most updated calculations. In the event that new credit cards are added, we will just need to define the calculations for the credit card, the cashback/miles calculations will be done automatically."
   ]
  },
  {
   "cell_type": "markdown",
   "id": "88d758fa",
   "metadata": {},
   "source": [
    "**Standard Chartered Unlimited Cashback Card**"
   ]
  },
  {
   "cell_type": "code",
   "execution_count": 2,
   "id": "523e7334",
   "metadata": {},
   "outputs": [
    {
     "data": {
      "text/plain": [
       "{'card_type': 'Cashback',\n",
       " 'minimum_income': {'singaporean': 30000, 'foreigner': 60000},\n",
       " 'petrol': {'public_transport': 0.015,\n",
       "  'esso': 0.015,\n",
       "  'shell': 0.015,\n",
       "  'spc': 0.015,\n",
       "  'caltex': 0.015},\n",
       " 'dining': 0.015,\n",
       " 'groceries': {'ntuc': 0.015,\n",
       "  'giant': 0.015,\n",
       "  'cold_storage': 0.015,\n",
       "  'sheng_shiong': 0.015,\n",
       "  'redmart': 0.015},\n",
       " 'grab': 0.015,\n",
       " 'online_shopping': 0.015,\n",
       " 'minimum_spend': 0,\n",
       " 'cap': 0}"
      ]
     },
     "metadata": {},
     "output_type": "display_data"
    }
   ],
   "source": [
    "# Setting the parameters for the \"standard chartered unlimited cashback\" card\n",
    "sc_unlimited_cashback = {}\n",
    "# Setting the parameters for 'card type'\n",
    "sc_unlimited_cashback['card_type'] = 'Cashback'\n",
    "\n",
    "# Setting the paramters for 'minimum income'\n",
    "sc_unlimited_cashback['minimum_income'] = {}\n",
    "sc_unlimited_cashback['minimum_income']['singaporean'] = 30000\n",
    "sc_unlimited_cashback['minimum_income']['foreigner'] = 60000\n",
    "\n",
    "# Setting the parameters for 'petrol'\n",
    "sc_unlimited_cashback['petrol'] = {}\n",
    "sc_unlimited_cashback['petrol']['public_transport'] = 0.015\n",
    "sc_unlimited_cashback['petrol']['esso'] = 0.015\n",
    "sc_unlimited_cashback['petrol']['shell'] = 0.015\n",
    "sc_unlimited_cashback['petrol']['spc'] = 0.015\n",
    "sc_unlimited_cashback['petrol']['caltex'] = 0.015\n",
    "\n",
    "# Setting the parameters for 'dining'\n",
    "sc_unlimited_cashback['dining'] = 0.015\n",
    "\n",
    "# Setting the parameters for 'groceries'\n",
    "sc_unlimited_cashback['groceries'] = {}\n",
    "sc_unlimited_cashback['groceries']['ntuc'] = 0.015\n",
    "sc_unlimited_cashback['groceries']['giant'] = 0.015\n",
    "sc_unlimited_cashback['groceries']['cold_storage'] = 0.015\n",
    "sc_unlimited_cashback['groceries']['sheng_shiong'] = 0.015\n",
    "sc_unlimited_cashback['groceries']['redmart'] = 0.015\n",
    "\n",
    "# Setting the parameters for 'grab'\n",
    "sc_unlimited_cashback['grab'] = 0.015\n",
    "\n",
    "# Setting the parameters for 'online_shopping'\n",
    "sc_unlimited_cashback['online_shopping'] = 0.015\n",
    "\n",
    "# Setting the parameters for \"minimum_spend\"\n",
    "sc_unlimited_cashback['minimum_spend'] = 0\n",
    "\n",
    "# Setting the parameters for \"cap\"\n",
    "sc_unlimited_cashback['cap'] = 0\n",
    "\n",
    "display(sc_unlimited_cashback)"
   ]
  },
  {
   "cell_type": "markdown",
   "id": "3cd8e349",
   "metadata": {},
   "source": [
    "**UOB One Card (Min Spend 500)**"
   ]
  },
  {
   "cell_type": "code",
   "execution_count": 3,
   "id": "6f236edc",
   "metadata": {},
   "outputs": [
    {
     "data": {
      "text/plain": [
       "{'card_type': 'Cashback',\n",
       " 'minimum_income': {'singaporean': 30000, 'foreigner': 40000},\n",
       " 'petrol': {'public_transport': {'normal': 0.033, 'additional': 0.05},\n",
       "  'esso': {'normal': 0.033, 'additional': 0},\n",
       "  'shell': {'normal': 0.033, 'additional': 0},\n",
       "  'spc': {'normal': 0.033, 'additional': 0},\n",
       "  'caltex': {'normal': 0.033, 'additional': 0}},\n",
       " 'dining': {'normal': 0.033, 'additional': 0},\n",
       " 'groceries': {'ntuc': {'normal': 0.033, 'additional': 0},\n",
       "  'giant': {'normal': 0.033, 'additional': 0.05},\n",
       "  'cold_storage': {'normal': 0.033, 'additional': 0.05},\n",
       "  'sheng_shiong': {'normal': 0.033, 'additional': 0},\n",
       "  'redmart': {'normal': 0.033, 'additional': 0}},\n",
       " 'grab': {'normal': 0.033, 'additional': 0.05},\n",
       " 'online_shopping': {'normal': 0.033, 'additional': 0},\n",
       " 'minimum_spend': 500,\n",
       " 'cap': {'normal': 17, 'additional': 100}}"
      ]
     },
     "metadata": {},
     "output_type": "display_data"
    }
   ],
   "source": [
    "# Setting the parameters for the \"uob one\" card\n",
    "uob_one_500 = {}\n",
    "\n",
    "# Setting the parameters for 'card type'\n",
    "uob_one_500['card_type'] = 'Cashback'\n",
    "\n",
    "# Setting the paramters for 'minimum income'\n",
    "uob_one_500['minimum_income'] = {}\n",
    "uob_one_500['minimum_income']['singaporean'] = 30000\n",
    "uob_one_500['minimum_income']['foreigner'] = 40000\n",
    "\n",
    "# Setting the parameters for 'petrol'\n",
    "uob_one_500['petrol'] = {}\n",
    "uob_one_500['petrol']['public_transport'] = {'normal':0.033, 'additional': 0.05}\n",
    "uob_one_500['petrol']['esso'] = {'normal':0.033, 'additional': 0}\n",
    "uob_one_500['petrol']['shell'] = {'normal':0.033, 'additional': 0}\n",
    "uob_one_500['petrol']['spc'] = {'normal':0.033, 'additional': 0}\n",
    "uob_one_500['petrol']['caltex'] = {'normal':0.033, 'additional': 0}\n",
    "\n",
    "# Setting the parameters for 'dining'\n",
    "uob_one_500['dining'] = {'normal':0.033, 'additional': 0}\n",
    "\n",
    "# Setting the parameters for 'groceries'\n",
    "uob_one_500['groceries'] = {}\n",
    "uob_one_500['groceries']['ntuc'] = {'normal':0.033, 'additional': 0}\n",
    "uob_one_500['groceries']['giant'] = {'normal':0.033, 'additional': 0.05}\n",
    "uob_one_500['groceries']['cold_storage'] = {'normal':0.033, 'additional': 0.05}\n",
    "uob_one_500['groceries']['sheng_shiong'] = {'normal':0.033, 'additional': 0}\n",
    "uob_one_500['groceries']['redmart'] = {'normal':0.033, 'additional': 0}\n",
    "\n",
    "# Setting the parameters for 'grab'\n",
    "uob_one_500['grab'] = {'normal':0.033, 'additional': 0.05}\n",
    "\n",
    "# Setting the parameters for 'online_shopping'\n",
    "uob_one_500['online_shopping'] = {'normal':0.033, 'additional': 0}\n",
    "\n",
    "# Setting the parameters for \"minimum_spend\"\n",
    "uob_one_500['minimum_spend'] = 500\n",
    "\n",
    "# Setting the parameters for \"cap\"\n",
    "uob_one_500['cap'] = {'normal':17, 'additional': 100}\n",
    "\n",
    "display(uob_one_500)"
   ]
  },
  {
   "cell_type": "markdown",
   "id": "05901ff2",
   "metadata": {},
   "source": [
    "**UOB One Card (Min Spend 1000)**"
   ]
  },
  {
   "cell_type": "code",
   "execution_count": 4,
   "id": "804b6f89",
   "metadata": {},
   "outputs": [
    {
     "data": {
      "text/plain": [
       "{'card_type': 'Cashback',\n",
       " 'minimum_income': {'singaporean': 30000, 'foreigner': 40000},\n",
       " 'petrol': {'public_transport': {'normal': 0.033, 'additional': 0.05},\n",
       "  'esso': {'normal': 0.033, 'additional': 0},\n",
       "  'shell': {'normal': 0.033, 'additional': 0},\n",
       "  'spc': {'normal': 0.033, 'additional': 0},\n",
       "  'caltex': {'normal': 0.033, 'additional': 0}},\n",
       " 'dining': {'normal': 0.033, 'additional': 0},\n",
       " 'groceries': {'ntuc': {'normal': 0.033, 'additional': 0},\n",
       "  'giant': {'normal': 0.033, 'additional': 0.05},\n",
       "  'cold_storage': {'normal': 0.033, 'additional': 0.05},\n",
       "  'sheng_shiong': {'normal': 0.033, 'additional': 0},\n",
       "  'redmart': {'normal': 0.033, 'additional': 0}},\n",
       " 'grab': {'normal': 0.033, 'additional': 0.05},\n",
       " 'online_shopping': {'normal': 0.033, 'additional': 0},\n",
       " 'minimum_spend': 1000,\n",
       " 'cap': {'normal': 33, 'additional': 100}}"
      ]
     },
     "metadata": {},
     "output_type": "display_data"
    }
   ],
   "source": [
    "# Setting the parameters for the \"uob one\" card\n",
    "uob_one_1000 = {}\n",
    "\n",
    "# Setting the parameters for 'card type'\n",
    "uob_one_1000['card_type'] = 'Cashback'\n",
    "\n",
    "# Setting the paramters for 'minimum income'\n",
    "uob_one_1000['minimum_income'] = {}\n",
    "uob_one_1000['minimum_income']['singaporean'] = 30000\n",
    "uob_one_1000['minimum_income']['foreigner'] = 40000\n",
    "\n",
    "# Setting the parameters for 'petrol'\n",
    "uob_one_1000['petrol'] = {}\n",
    "uob_one_1000['petrol']['public_transport'] = {'normal':0.033, 'additional': 0.05}\n",
    "uob_one_1000['petrol']['esso'] = {'normal':0.033, 'additional': 0}\n",
    "uob_one_1000['petrol']['shell'] = {'normal':0.033, 'additional': 0}\n",
    "uob_one_1000['petrol']['spc'] = {'normal':0.033, 'additional': 0}\n",
    "uob_one_1000['petrol']['caltex'] = {'normal':0.033, 'additional': 0}\n",
    "\n",
    "# Setting the parameters for 'dining'\n",
    "uob_one_1000['dining'] = {'normal':0.033, 'additional': 0}\n",
    "\n",
    "# Setting the parameters for 'groceries'\n",
    "uob_one_1000['groceries'] = {}\n",
    "uob_one_1000['groceries']['ntuc'] = {'normal':0.033, 'additional': 0}\n",
    "uob_one_1000['groceries']['giant'] = {'normal':0.033, 'additional': 0.05}\n",
    "uob_one_1000['groceries']['cold_storage'] = {'normal':0.033, 'additional': 0.05}\n",
    "uob_one_1000['groceries']['sheng_shiong'] = {'normal':0.033, 'additional': 0}\n",
    "uob_one_1000['groceries']['redmart'] = {'normal':0.033, 'additional': 0}\n",
    "\n",
    "# Setting the parameters for 'grab'\n",
    "uob_one_1000['grab'] = {'normal':0.033, 'additional': 0.05}\n",
    "\n",
    "# Setting the parameters for 'online_shopping'\n",
    "uob_one_1000['online_shopping'] = {'normal':0.033, 'additional': 0}\n",
    "\n",
    "# Setting the parameters for \"minimum_spend\"\n",
    "uob_one_1000['minimum_spend'] = 1000\n",
    "\n",
    "# Setting the parameters for \"cap\"\n",
    "uob_one_1000['cap'] = {'normal':33, 'additional': 100}\n",
    "\n",
    "display(uob_one_1000)"
   ]
  },
  {
   "cell_type": "markdown",
   "id": "a484b27a",
   "metadata": {},
   "source": [
    "**UOB One Card (Min Spend 2000)**"
   ]
  },
  {
   "cell_type": "code",
   "execution_count": 5,
   "id": "824bde97",
   "metadata": {},
   "outputs": [
    {
     "data": {
      "text/plain": [
       "{'card_type': 'Cashback',\n",
       " 'minimum_income': {'singaporean': 30000, 'foreigner': 40000},\n",
       " 'petrol': {'public_transport': {'normal': 0.033, 'additional': 0.0667},\n",
       "  'esso': {'normal': 0.033, 'additional': 0},\n",
       "  'shell': {'normal': 0.033, 'additional': 0.0167},\n",
       "  'spc': {'normal': 0.033, 'additional': 0},\n",
       "  'caltex': {'normal': 0.033, 'additional': 0}},\n",
       " 'dining': {'normal': 0.033, 'additional': 0},\n",
       " 'groceries': {'ntuc': {'normal': 0.033, 'additional': 0},\n",
       "  'giant': {'normal': 0.033, 'additional': 0.0667},\n",
       "  'cold_storage': {'normal': 0.033, 'additional': 0.0667},\n",
       "  'sheng_shiong': {'normal': 0.033, 'additional': 0},\n",
       "  'redmart': {'normal': 0.033, 'additional': 0}},\n",
       " 'grab': {'normal': 0.033, 'additional': 0.0667},\n",
       " 'online_shopping': {'normal': 0.033, 'additional': 0},\n",
       " 'minimum_spend': 2000,\n",
       " 'cap': {'normal': 67, 'additional': 100}}"
      ]
     },
     "metadata": {},
     "output_type": "display_data"
    }
   ],
   "source": [
    "# Setting the parameters for the \"uob one\" card\n",
    "uob_one_2000 = {}\n",
    "\n",
    "# Setting the parameters for 'card type'\n",
    "uob_one_2000['card_type'] = 'Cashback'\n",
    "\n",
    "# Setting the paramters for 'minimum income'\n",
    "uob_one_2000['minimum_income'] = {}\n",
    "uob_one_2000['minimum_income']['singaporean'] = 30000\n",
    "uob_one_2000['minimum_income']['foreigner'] = 40000\n",
    "\n",
    "# Setting the parameters for 'petrol'\n",
    "uob_one_2000['petrol'] = {}\n",
    "uob_one_2000['petrol']['public_transport'] = {'normal':0.033, 'additional': 0.0667}\n",
    "uob_one_2000['petrol']['esso'] = {'normal':0.033, 'additional': 0}\n",
    "uob_one_2000['petrol']['shell'] = {'normal':0.033, 'additional': 0.0167}\n",
    "uob_one_2000['petrol']['spc'] = {'normal':0.033, 'additional': 0}\n",
    "uob_one_2000['petrol']['caltex'] = {'normal':0.033, 'additional': 0}\n",
    "\n",
    "# Setting the parameters for 'dining'\n",
    "uob_one_2000['dining'] = {'normal':0.033, 'additional': 0}\n",
    "\n",
    "# Setting the parameters for 'groceries'\n",
    "uob_one_2000['groceries'] = {}\n",
    "uob_one_2000['groceries']['ntuc'] = {'normal':0.033, 'additional': 0}\n",
    "uob_one_2000['groceries']['giant'] = {'normal':0.033, 'additional': 0.0667}\n",
    "uob_one_2000['groceries']['cold_storage'] = {'normal':0.033, 'additional': 0.0667}\n",
    "uob_one_2000['groceries']['sheng_shiong'] = {'normal':0.033, 'additional': 0}\n",
    "uob_one_2000['groceries']['redmart'] = {'normal':0.033, 'additional': 0}\n",
    "\n",
    "# Setting the parameters for 'grab'\n",
    "uob_one_2000['grab'] = {'normal':0.033, 'additional': 0.0667}\n",
    "\n",
    "# Setting the parameters for 'online_shopping'\n",
    "uob_one_2000['online_shopping'] = {'normal':0.033, 'additional': 0}\n",
    "\n",
    "# Setting the parameters for \"minimum_spend\"\n",
    "uob_one_2000['minimum_spend'] = 2000\n",
    "\n",
    "# Setting the parameters for \"cap\"\n",
    "uob_one_2000['cap'] = {'normal':67, 'additional': 100}\n",
    "\n",
    "display(uob_one_2000)"
   ]
  },
  {
   "cell_type": "markdown",
   "id": "e21742f9",
   "metadata": {},
   "source": [
    "**POSB Everyday Cashback Card**"
   ]
  },
  {
   "cell_type": "code",
   "execution_count": 6,
   "id": "13374e9a",
   "metadata": {},
   "outputs": [
    {
     "data": {
      "text/plain": [
       "{'card_type': 'Cashback',\n",
       " 'minimum_income': {'singaporean': 30000, 'foreigner': 45000},\n",
       " 'petrol': {'public_transport': 0.05,\n",
       "  'esso': 0.003,\n",
       "  'shell': 0.1,\n",
       "  'spc': 0.003,\n",
       "  'caltex': 0.003},\n",
       " 'dining': 0.03,\n",
       " 'groceries': {'ntuc': 0.003,\n",
       "  'giant': 0.003,\n",
       "  'cold_storage': 0.003,\n",
       "  'sheng_shiong': 0.07,\n",
       "  'redmart': 0.05},\n",
       " 'grab': 0.003,\n",
       " 'online_shopping': 0.05,\n",
       " 'minimum_spend': 800,\n",
       " 'cap': 80}"
      ]
     },
     "metadata": {},
     "output_type": "display_data"
    }
   ],
   "source": [
    "# Setting the parameters for the \"posb everyday cashback\" card\n",
    "posb_everyday_cashback = {}\n",
    "\n",
    "# Setting the parameters for 'card type'\n",
    "posb_everyday_cashback['card_type'] = 'Cashback'\n",
    "\n",
    "# Setting the paramters for 'minimum income'\n",
    "posb_everyday_cashback['minimum_income'] = {}\n",
    "posb_everyday_cashback['minimum_income']['singaporean'] = 30000\n",
    "posb_everyday_cashback['minimum_income']['foreigner'] = 45000\n",
    "\n",
    "# Setting the parameters for 'petrol'\n",
    "posb_everyday_cashback['petrol'] = {}\n",
    "posb_everyday_cashback['petrol']['public_transport'] = 0.05\n",
    "posb_everyday_cashback['petrol']['esso'] = 0.003\n",
    "posb_everyday_cashback['petrol']['shell'] = 0.1\n",
    "posb_everyday_cashback['petrol']['spc'] = 0.003\n",
    "posb_everyday_cashback['petrol']['caltex'] = 0.003\n",
    "\n",
    "# Setting the parameters for 'dining'\n",
    "posb_everyday_cashback['dining'] = 0.03\n",
    "\n",
    "# Setting the parameters for 'groceries'\n",
    "posb_everyday_cashback['groceries'] = {}\n",
    "posb_everyday_cashback['groceries']['ntuc'] = 0.003\n",
    "posb_everyday_cashback['groceries']['giant'] = 0.003\n",
    "posb_everyday_cashback['groceries']['cold_storage'] = 0.003\n",
    "posb_everyday_cashback['groceries']['sheng_shiong'] = 0.07\n",
    "posb_everyday_cashback['groceries']['redmart'] = 0.05\n",
    "\n",
    "# Setting the parameters for 'grab'\n",
    "posb_everyday_cashback['grab'] = 0.003\n",
    "\n",
    "# Setting the parameters for 'online_shopping'\n",
    "posb_everyday_cashback['online_shopping'] = 0.05\n",
    "\n",
    "# Setting the parameters for \"minimum_spend\"\n",
    "posb_everyday_cashback['minimum_spend'] = 800\n",
    "\n",
    "# Setting the parameters for \"cap\"\n",
    "posb_everyday_cashback['cap'] = 80\n",
    "\n",
    "display(posb_everyday_cashback)"
   ]
  },
  {
   "cell_type": "markdown",
   "id": "e0cebd28",
   "metadata": {},
   "source": [
    "**Amex True Cashback Card**"
   ]
  },
  {
   "cell_type": "code",
   "execution_count": 7,
   "id": "2a6d5571",
   "metadata": {},
   "outputs": [
    {
     "data": {
      "text/plain": [
       "{'card_type': 'Cashback',\n",
       " 'minimum_income': {'singaporean': 30000, 'foreigner': 60000},\n",
       " 'petrol': {'public_transport': 0.015,\n",
       "  'esso': 0.015,\n",
       "  'shell': 0.015,\n",
       "  'spc': 0.015,\n",
       "  'caltex': 0.015},\n",
       " 'dining': 0.015,\n",
       " 'groceries': {'ntuc': 0.015,\n",
       "  'giant': 0.015,\n",
       "  'cold_storage': 0.015,\n",
       "  'sheng_shiong': 0.015,\n",
       "  'redmart': 0.015},\n",
       " 'grab': 0.015,\n",
       " 'online_shopping': 0.015,\n",
       " 'minimum_spend': 0,\n",
       " 'cap': 0}"
      ]
     },
     "metadata": {},
     "output_type": "display_data"
    }
   ],
   "source": [
    "# Setting the parameters for the \"amex true cashback\" card\n",
    "amex_true_cashback = {}\n",
    "\n",
    "# Setting the parameters for 'card type'\n",
    "amex_true_cashback['card_type'] = 'Cashback'\n",
    "\n",
    "# Setting the paramters for 'minimum income'\n",
    "amex_true_cashback['minimum_income'] = {}\n",
    "amex_true_cashback['minimum_income']['singaporean'] = 30000\n",
    "amex_true_cashback['minimum_income']['foreigner'] = 60000\n",
    "\n",
    "# Setting the parameters for 'petrol'\n",
    "amex_true_cashback['petrol'] = {}\n",
    "amex_true_cashback['petrol']['public_transport'] = 0.015\n",
    "amex_true_cashback['petrol']['esso'] = 0.015\n",
    "amex_true_cashback['petrol']['shell'] = 0.015\n",
    "amex_true_cashback['petrol']['spc'] = 0.015\n",
    "amex_true_cashback['petrol']['caltex'] = 0.015\n",
    "\n",
    "# Setting the parameters for 'dining'\n",
    "amex_true_cashback['dining'] = 0.015\n",
    "\n",
    "# Setting the parameters for 'groceries'\n",
    "amex_true_cashback['groceries'] = {}\n",
    "amex_true_cashback['groceries']['ntuc'] = 0.015\n",
    "amex_true_cashback['groceries']['giant'] = 0.015\n",
    "amex_true_cashback['groceries']['cold_storage'] = 0.015\n",
    "amex_true_cashback['groceries']['sheng_shiong'] = 0.015\n",
    "amex_true_cashback['groceries']['redmart'] = 0.015\n",
    "\n",
    "# Setting the parameters for 'grab'\n",
    "amex_true_cashback['grab'] = 0.015\n",
    "\n",
    "# Setting the parameters for 'online_shopping'\n",
    "amex_true_cashback['online_shopping'] = 0.015\n",
    "\n",
    "# Setting the parameters for \"minimum_spend\"\n",
    "amex_true_cashback['minimum_spend'] = 0\n",
    "\n",
    "# Setting the parameters for \"cap\"\n",
    "amex_true_cashback['cap'] = 0\n",
    "\n",
    "display(amex_true_cashback)"
   ]
  },
  {
   "cell_type": "markdown",
   "id": "5987cb26",
   "metadata": {},
   "source": [
    "**Standard Chartered Spree Credit Card**"
   ]
  },
  {
   "cell_type": "code",
   "execution_count": 8,
   "id": "0596beb1",
   "metadata": {},
   "outputs": [
    {
     "data": {
      "text/plain": [
       "{'card_type': 'Cashback',\n",
       " 'minimum_income': {'singaporean': 30000, 'foreigner': 60000},\n",
       " 'petrol': {'public_transport': 0.02,\n",
       "  'esso': 0.02,\n",
       "  'shell': 0.02,\n",
       "  'spc': 0.02,\n",
       "  'caltex': 0.02},\n",
       " 'dining': 0.02,\n",
       " 'groceries': {'ntuc': 0.02,\n",
       "  'giant': 0.02,\n",
       "  'cold_storage': 0.02,\n",
       "  'sheng_shiong': 0.02,\n",
       "  'redmart': 0.02},\n",
       " 'grab': 0.01,\n",
       " 'online_shopping': 0.02,\n",
       " 'minimum_spend': 0,\n",
       " 'cap': 60}"
      ]
     },
     "metadata": {},
     "output_type": "display_data"
    }
   ],
   "source": [
    "# Setting the parameters for the \"standard chartered spree\" card\n",
    "sc_spree_card = {}\n",
    "\n",
    "# Setting the parameters for 'card type'\n",
    "sc_spree_card['card_type'] = 'Cashback'\n",
    "\n",
    "# Setting the paramters for 'minimum income'\n",
    "sc_spree_card['minimum_income'] = {}\n",
    "sc_spree_card['minimum_income']['singaporean'] = 30000\n",
    "sc_spree_card['minimum_income']['foreigner'] = 60000\n",
    "\n",
    "# Setting the parameters for 'petrol'\n",
    "sc_spree_card['petrol'] = {}\n",
    "sc_spree_card['petrol']['public_transport'] = 0.02\n",
    "sc_spree_card['petrol']['esso'] = 0.02\n",
    "sc_spree_card['petrol']['shell'] = 0.02\n",
    "sc_spree_card['petrol']['spc'] = 0.02\n",
    "sc_spree_card['petrol']['caltex'] = 0.02\n",
    "\n",
    "# Setting the parameters for 'dining'\n",
    "sc_spree_card['dining'] = 0.02\n",
    "\n",
    "# Setting the parameters for 'groceries'\n",
    "sc_spree_card['groceries'] = {}\n",
    "sc_spree_card['groceries']['ntuc'] = 0.02\n",
    "sc_spree_card['groceries']['giant'] = 0.02\n",
    "sc_spree_card['groceries']['cold_storage'] = 0.02\n",
    "sc_spree_card['groceries']['sheng_shiong'] = 0.02\n",
    "sc_spree_card['groceries']['redmart'] = 0.02\n",
    "\n",
    "# Setting the parameters for 'grab'\n",
    "sc_spree_card['grab'] = 0.01\n",
    "\n",
    "# Setting the parameters for 'online_shopping'\n",
    "sc_spree_card['online_shopping'] = 0.02\n",
    "\n",
    "# Setting the parameters for \"minimum_spend\"\n",
    "sc_spree_card['minimum_spend'] = 0\n",
    "\n",
    "# Setting the parameters for \"cap\"\n",
    "sc_spree_card['cap'] = 60\n",
    "\n",
    "display(sc_spree_card)"
   ]
  },
  {
   "cell_type": "markdown",
   "id": "e03d4b5a",
   "metadata": {},
   "source": [
    "**HSBC Advance Credit Card (Spending < 2,000)**"
   ]
  },
  {
   "cell_type": "code",
   "execution_count": 9,
   "id": "50525422",
   "metadata": {},
   "outputs": [
    {
     "data": {
      "text/plain": [
       "{'card_type': 'Cashback',\n",
       " 'minimum_income': {'singaporean': 30000, 'foreigner': 40000},\n",
       " 'petrol': {'public_transport': 0.015,\n",
       "  'esso': 0.015,\n",
       "  'shell': 0.015,\n",
       "  'spc': 0.015,\n",
       "  'caltex': 0.015},\n",
       " 'dining': 0.015,\n",
       " 'groceries': {'ntuc': 0.015,\n",
       "  'giant': 0.015,\n",
       "  'cold_storage': 0.015,\n",
       "  'sheng_shiong': 0.015,\n",
       "  'redmart': 0.015},\n",
       " 'grab': 0.015,\n",
       " 'online_shopping': 0.015,\n",
       " 'minimum_spend': 0,\n",
       " 'cap': 125}"
      ]
     },
     "metadata": {},
     "output_type": "display_data"
    }
   ],
   "source": [
    "# Setting the parameters for the \"hsbc advance (spending < 2000)\" card\n",
    "hsbc_advance_less_than_2000 = {}\n",
    "\n",
    "# Setting the parameters for 'card type'\n",
    "hsbc_advance_less_than_2000['card_type'] = 'Cashback'\n",
    "\n",
    "# Setting the paramters for 'minimum income'\n",
    "hsbc_advance_less_than_2000['minimum_income'] = {}\n",
    "hsbc_advance_less_than_2000['minimum_income']['singaporean'] = 30000\n",
    "hsbc_advance_less_than_2000['minimum_income']['foreigner'] = 40000\n",
    "\n",
    "# Setting the parameters for 'petrol'\n",
    "hsbc_advance_less_than_2000['petrol'] = {}\n",
    "hsbc_advance_less_than_2000['petrol']['public_transport'] = 0.015\n",
    "hsbc_advance_less_than_2000['petrol']['esso'] = 0.015\n",
    "hsbc_advance_less_than_2000['petrol']['shell'] = 0.015\n",
    "hsbc_advance_less_than_2000['petrol']['spc'] = 0.015\n",
    "hsbc_advance_less_than_2000['petrol']['caltex'] = 0.015\n",
    "\n",
    "# Setting the parameters for 'dining'\n",
    "hsbc_advance_less_than_2000['dining'] = 0.015\n",
    "\n",
    "# Setting the parameters for 'groceries'\n",
    "hsbc_advance_less_than_2000['groceries'] = {}\n",
    "hsbc_advance_less_than_2000['groceries']['ntuc'] = 0.015\n",
    "hsbc_advance_less_than_2000['groceries']['giant'] = 0.015\n",
    "hsbc_advance_less_than_2000['groceries']['cold_storage'] = 0.015\n",
    "hsbc_advance_less_than_2000['groceries']['sheng_shiong'] = 0.015\n",
    "hsbc_advance_less_than_2000['groceries']['redmart'] = 0.015\n",
    "\n",
    "# Setting the parameters for 'grab'\n",
    "hsbc_advance_less_than_2000['grab'] = 0.015\n",
    "\n",
    "# Setting the parameters for 'online_shopping'\n",
    "hsbc_advance_less_than_2000['online_shopping'] = 0.015\n",
    "\n",
    "# Setting the parameters for \"minimum_spend\"\n",
    "hsbc_advance_less_than_2000['minimum_spend'] = 0\n",
    "\n",
    "# Setting the parameters for \"cap\"\n",
    "hsbc_advance_less_than_2000['cap'] = 125\n",
    "\n",
    "display(hsbc_advance_less_than_2000)"
   ]
  },
  {
   "cell_type": "markdown",
   "id": "a9e4b6ef",
   "metadata": {},
   "source": [
    "**HSBC Advance Credit Card (Spending > 2,000)**"
   ]
  },
  {
   "cell_type": "code",
   "execution_count": 10,
   "id": "fe080d96",
   "metadata": {},
   "outputs": [
    {
     "data": {
      "text/plain": [
       "{'card_type': 'Cashback',\n",
       " 'minimum_income': {'singaporean': 30000, 'foreigner': 40000},\n",
       " 'petrol': {'public_transport': 0.025,\n",
       "  'esso': 0.025,\n",
       "  'shell': 0.025,\n",
       "  'spc': 0.025,\n",
       "  'caltex': 0.025},\n",
       " 'dining': 0.025,\n",
       " 'groceries': {'ntuc': 0.025,\n",
       "  'giant': 0.025,\n",
       "  'cold_storage': 0.025,\n",
       "  'sheng_shiong': 0.025,\n",
       "  'redmart': 0.025},\n",
       " 'grab': 0.025,\n",
       " 'online_shopping': 0.015,\n",
       " 'minimum_spend': 2000,\n",
       " 'cap': 125}"
      ]
     },
     "metadata": {},
     "output_type": "display_data"
    }
   ],
   "source": [
    "# Setting the parameters for the \"hsbc advance\" card\n",
    "hsbc_advance = {}\n",
    "\n",
    "# Setting the parameters for 'card type'\n",
    "hsbc_advance['card_type'] = 'Cashback'\n",
    "\n",
    "# Setting the paramters for 'minimum income'\n",
    "hsbc_advance['minimum_income'] = {}\n",
    "hsbc_advance['minimum_income']['singaporean'] = 30000\n",
    "hsbc_advance['minimum_income']['foreigner'] = 40000\n",
    "\n",
    "# Setting the parameters for 'petrol'\n",
    "hsbc_advance['petrol'] = {}\n",
    "hsbc_advance['petrol']['public_transport'] = 0.025\n",
    "hsbc_advance['petrol']['esso'] = 0.025\n",
    "hsbc_advance['petrol']['shell'] = 0.025\n",
    "hsbc_advance['petrol']['spc'] = 0.025\n",
    "hsbc_advance['petrol']['caltex'] = 0.025\n",
    "\n",
    "# Setting the parameters for 'dining'\n",
    "hsbc_advance['dining'] = 0.025\n",
    "\n",
    "# Setting the parameters for 'groceries'\n",
    "hsbc_advance['groceries'] = {}\n",
    "hsbc_advance['groceries']['ntuc'] = 0.025\n",
    "hsbc_advance['groceries']['giant'] = 0.025\n",
    "hsbc_advance['groceries']['cold_storage'] = 0.025\n",
    "hsbc_advance['groceries']['sheng_shiong'] = 0.025\n",
    "hsbc_advance['groceries']['redmart'] = 0.025\n",
    "\n",
    "# Setting the parameters for 'grab'\n",
    "hsbc_advance['grab'] = 0.025\n",
    "\n",
    "# Setting the parameters for 'online_shopping'\n",
    "hsbc_advance['online_shopping'] = 0.015\n",
    "\n",
    "# Setting the parameters for \"minimum_spend\"\n",
    "hsbc_advance['minimum_spend'] = 2000\n",
    "\n",
    "# Setting the parameters for \"cap\"\n",
    "hsbc_advance['cap'] = 125\n",
    "\n",
    "display(hsbc_advance)"
   ]
  },
  {
   "cell_type": "markdown",
   "id": "c3a6dced",
   "metadata": {},
   "source": [
    "**DBS Altitude Visa Signature Card**"
   ]
  },
  {
   "cell_type": "code",
   "execution_count": 11,
   "id": "c69db26c",
   "metadata": {},
   "outputs": [
    {
     "data": {
      "text/plain": [
       "{'card_type': 'Miles',\n",
       " 'minimum_income': {'singaporean': 30000, 'foreigner': 45000},\n",
       " 'petrol': {'public_transport': 1.2,\n",
       "  'esso': 1.2,\n",
       "  'shell': 1.2,\n",
       "  'spc': 1.2,\n",
       "  'caltex': 1.2},\n",
       " 'dining': 1.2,\n",
       " 'groceries': {'ntuc': 1.2,\n",
       "  'giant': 1.2,\n",
       "  'cold_storage': 1.2,\n",
       "  'sheng_shiong': 1.2,\n",
       "  'redmart': 1.2},\n",
       " 'grab': 1.2,\n",
       " 'online_shopping': 1.2,\n",
       " 'minimum_spend': 0,\n",
       " 'cap': 0,\n",
       " 'conversion_rate': {'krisflyer': 2,\n",
       "  'asia_miles': 2,\n",
       "  'frequent_flyer': 2,\n",
       "  'big_loyalty': 3,\n",
       "  'british_airways_executive_club': 0,\n",
       "  'etihad_guest': 0,\n",
       "  'turkish_miles_and_smiles': 0}}"
      ]
     },
     "metadata": {},
     "output_type": "display_data"
    }
   ],
   "source": [
    "# Setting the parameters for the \"dbs altitude visa\" card\n",
    "dbs_altitude_visa_miles = {}\n",
    "\n",
    "# Setting the parameters for 'card type'\n",
    "dbs_altitude_visa_miles['card_type'] = 'Miles'\n",
    "\n",
    "# Setting the paramters for 'minimum income'\n",
    "dbs_altitude_visa_miles['minimum_income'] = {}\n",
    "dbs_altitude_visa_miles['minimum_income']['singaporean'] = 30000\n",
    "dbs_altitude_visa_miles['minimum_income']['foreigner'] = 45000\n",
    "\n",
    "# Setting the parameters for 'petrol'\n",
    "dbs_altitude_visa_miles['petrol'] = {}\n",
    "dbs_altitude_visa_miles['petrol']['public_transport'] = 1.2\n",
    "dbs_altitude_visa_miles['petrol']['esso'] = 1.2\n",
    "dbs_altitude_visa_miles['petrol']['shell'] = 1.2\n",
    "dbs_altitude_visa_miles['petrol']['spc'] = 1.2\n",
    "dbs_altitude_visa_miles['petrol']['caltex'] = 1.2\n",
    "\n",
    "# Setting the parameters for 'dining'\n",
    "dbs_altitude_visa_miles['dining'] = 1.2\n",
    "\n",
    "# Setting the parameters for 'groceries'\n",
    "dbs_altitude_visa_miles['groceries'] = {}\n",
    "dbs_altitude_visa_miles['groceries']['ntuc'] = 1.2\n",
    "dbs_altitude_visa_miles['groceries']['giant'] = 1.2\n",
    "dbs_altitude_visa_miles['groceries']['cold_storage'] = 1.2\n",
    "dbs_altitude_visa_miles['groceries']['sheng_shiong'] = 1.2\n",
    "dbs_altitude_visa_miles['groceries']['redmart'] = 1.2\n",
    "\n",
    "# Setting the parameters for 'grab'\n",
    "dbs_altitude_visa_miles['grab'] = 1.2\n",
    "\n",
    "# Setting the parameters for 'online_shopping'\n",
    "dbs_altitude_visa_miles['online_shopping'] = 1.2\n",
    "\n",
    "# Setting the parameters for \"minimum_spend\"\n",
    "dbs_altitude_visa_miles['minimum_spend'] = 0\n",
    "\n",
    "# Setting the parameters for \"cap\"\n",
    "dbs_altitude_visa_miles['cap'] = 0\n",
    "\n",
    "# Setting the parameters for \"conversion rate\"\n",
    "dbs_altitude_visa_miles['conversion_rate'] = {}\n",
    "dbs_altitude_visa_miles['conversion_rate']['krisflyer'] = 2\n",
    "dbs_altitude_visa_miles['conversion_rate']['asia_miles'] = 2\n",
    "dbs_altitude_visa_miles['conversion_rate']['frequent_flyer'] = 2\n",
    "dbs_altitude_visa_miles['conversion_rate']['big_loyalty'] = 3\n",
    "dbs_altitude_visa_miles['conversion_rate']['british_airways_executive_club'] = 0\n",
    "dbs_altitude_visa_miles['conversion_rate']['etihad_guest'] = 0\n",
    "dbs_altitude_visa_miles['conversion_rate']['turkish_miles_and_smiles'] = 0\n",
    "\n",
    "display(dbs_altitude_visa_miles)"
   ]
  },
  {
   "cell_type": "markdown",
   "id": "ce0da46d",
   "metadata": {},
   "source": [
    "**DBS Woman's World Card**"
   ]
  },
  {
   "cell_type": "code",
   "execution_count": 12,
   "id": "3b2801bf",
   "metadata": {},
   "outputs": [
    {
     "data": {
      "text/plain": [
       "{'card_type': 'Miles',\n",
       " 'minimum_income': {'singaporean': 80000, 'foreigner': 80000},\n",
       " 'petrol': {'public_transport': 0.4,\n",
       "  'esso': 0.4,\n",
       "  'shell': 0.4,\n",
       "  'spc': 0.4,\n",
       "  'caltex': 0.4},\n",
       " 'dining': 0.4,\n",
       " 'groceries': {'ntuc': 0.4,\n",
       "  'giant': 0.4,\n",
       "  'cold_storage': 0.4,\n",
       "  'sheng_shiong': 0.4,\n",
       "  'redmart': 4.0},\n",
       " 'grab': 0.4,\n",
       " 'online_shopping': 4.0,\n",
       " 'online_shopping_cap': 2000,\n",
       " 'minimum_spend': 0,\n",
       " 'cap': 0,\n",
       " 'conversion_rate': {'krisflyer': 2,\n",
       "  'asia_miles': 2,\n",
       "  'frequent_flyer': 2,\n",
       "  'big_loyalty': 3,\n",
       "  'british_airways_executive_club': 0,\n",
       "  'etihad_guest': 0,\n",
       "  'turkish_miles_and_smiles': 0}}"
      ]
     },
     "metadata": {},
     "output_type": "display_data"
    }
   ],
   "source": [
    "# Setting the parameters for the \"dbs womans card\" card\n",
    "dbs_womans_world_miles = {}\n",
    "\n",
    "# Setting the parameters for 'card type'\n",
    "dbs_womans_world_miles['card_type'] = 'Miles'\n",
    "\n",
    "# Setting the paramters for 'minimum income'\n",
    "dbs_womans_world_miles['minimum_income'] = {}\n",
    "dbs_womans_world_miles['minimum_income']['singaporean'] = 80000\n",
    "dbs_womans_world_miles['minimum_income']['foreigner'] = 80000\n",
    "\n",
    "# Setting the parameters for 'petrol'\n",
    "dbs_womans_world_miles['petrol'] = {}\n",
    "dbs_womans_world_miles['petrol']['public_transport'] = 0.4\n",
    "dbs_womans_world_miles['petrol']['esso'] = 0.4\n",
    "dbs_womans_world_miles['petrol']['shell'] = 0.4\n",
    "dbs_womans_world_miles['petrol']['spc'] = 0.4\n",
    "dbs_womans_world_miles['petrol']['caltex'] = 0.4\n",
    "\n",
    "# Setting the parameters for 'dining'\n",
    "dbs_womans_world_miles['dining'] = 0.4\n",
    "\n",
    "# Setting the parameters for 'groceries'\n",
    "dbs_womans_world_miles['groceries'] = {}\n",
    "dbs_womans_world_miles['groceries']['ntuc'] = 0.4\n",
    "dbs_womans_world_miles['groceries']['giant'] = 0.4\n",
    "dbs_womans_world_miles['groceries']['cold_storage'] = 0.4\n",
    "dbs_womans_world_miles['groceries']['sheng_shiong'] = 0.4\n",
    "dbs_womans_world_miles['groceries']['redmart'] = 4.0\n",
    "\n",
    "# Setting the parameters for 'grab'\n",
    "dbs_womans_world_miles['grab'] = 0.4\n",
    "\n",
    "# Setting the parameters for 'online_shopping'\n",
    "# cap at 2000 per month\n",
    "dbs_womans_world_miles['online_shopping'] = 4.0\n",
    "dbs_womans_world_miles['online_shopping_cap'] = 2000\n",
    "\n",
    "# Setting the parameters for \"minimum_spend\"\n",
    "dbs_womans_world_miles['minimum_spend'] = 0\n",
    "\n",
    "# Setting the parameters for \"cap\"\n",
    "dbs_womans_world_miles['cap'] = 0\n",
    "\n",
    "# Setting the parameters for \"conversion rate\"\n",
    "dbs_womans_world_miles['conversion_rate'] = {}\n",
    "dbs_womans_world_miles['conversion_rate']['krisflyer'] = 2\n",
    "dbs_womans_world_miles['conversion_rate']['asia_miles'] = 2\n",
    "dbs_womans_world_miles['conversion_rate']['frequent_flyer'] = 2\n",
    "dbs_womans_world_miles['conversion_rate']['big_loyalty'] = 3\n",
    "dbs_womans_world_miles['conversion_rate']['british_airways_executive_club'] = 0\n",
    "dbs_womans_world_miles['conversion_rate']['etihad_guest'] = 0\n",
    "dbs_womans_world_miles['conversion_rate']['turkish_miles_and_smiles'] = 0\n",
    "\n",
    "display(dbs_womans_world_miles)"
   ]
  },
  {
   "cell_type": "markdown",
   "id": "2b9c1ad6",
   "metadata": {},
   "source": [
    "**Citi Rewards Credit Card**"
   ]
  },
  {
   "cell_type": "code",
   "execution_count": 13,
   "id": "6d80e68c",
   "metadata": {},
   "outputs": [
    {
     "data": {
      "text/plain": [
       "{'card_type': 'Miles',\n",
       " 'minimum_income': {'singaporean': 30000, 'foreigner': 40000},\n",
       " 'petrol': {'public_transport': 0.4,\n",
       "  'esso': 0.4,\n",
       "  'shell': 0.4,\n",
       "  'spc': 0.4,\n",
       "  'caltex': 0.4},\n",
       " 'dining': 0.4,\n",
       " 'groceries': {'ntuc': 0.4,\n",
       "  'giant': 0.4,\n",
       "  'cold_storage': 0.4,\n",
       "  'sheng_shiong': 0.4,\n",
       "  'redmart': 4.0},\n",
       " 'grab': 0.4,\n",
       " 'online_shopping': 4.0,\n",
       " 'online_shopping_cap': 1000,\n",
       " 'minimum_spend': 0,\n",
       " 'cap': 0,\n",
       " 'conversion_rate': {'krisflyer': 0.4,\n",
       "  'asia_miles': 0.4,\n",
       "  'frequent_flyer': 0.4,\n",
       "  'big_loyalty': 0,\n",
       "  'british_airways_executive_club': 0.4,\n",
       "  'etihad_guest': 0.4,\n",
       "  'turkish_miles_and_smiles': 0.4}}"
      ]
     },
     "metadata": {},
     "output_type": "display_data"
    }
   ],
   "source": [
    "# Setting the parameters for the \"citi rewards\" card\n",
    "citi_rewards_miles = {}\n",
    "\n",
    "# Setting the parameters for 'card type'\n",
    "citi_rewards_miles['card_type'] = 'Miles'\n",
    "\n",
    "# Setting the paramters for 'minimum income'\n",
    "citi_rewards_miles['minimum_income'] = {}\n",
    "citi_rewards_miles['minimum_income']['singaporean'] = 30000\n",
    "citi_rewards_miles['minimum_income']['foreigner'] = 40000\n",
    "\n",
    "# Setting the parameters for 'petrol'\n",
    "citi_rewards_miles['petrol'] = {}\n",
    "citi_rewards_miles['petrol']['public_transport'] = 0.4\n",
    "citi_rewards_miles['petrol']['esso'] = 0.4\n",
    "citi_rewards_miles['petrol']['shell'] = 0.4\n",
    "citi_rewards_miles['petrol']['spc'] = 0.4\n",
    "citi_rewards_miles['petrol']['caltex'] = 0.4\n",
    "\n",
    "# Setting the parameters for 'dining'\n",
    "citi_rewards_miles['dining'] = 0.4\n",
    "\n",
    "# Setting the parameters for 'groceries'\n",
    "citi_rewards_miles['groceries'] = {} \n",
    "citi_rewards_miles['groceries']['ntuc'] = 0.4\n",
    "citi_rewards_miles['groceries']['giant'] = 0.4\n",
    "citi_rewards_miles['groceries']['cold_storage'] = 0.4\n",
    "citi_rewards_miles['groceries']['sheng_shiong'] = 0.4\n",
    "citi_rewards_miles['groceries']['redmart'] = 4.0\n",
    "\n",
    "# Setting the parameters for 'grab'\n",
    "citi_rewards_miles['grab'] = 0.4\n",
    "\n",
    "# Setting the parameters for 'online_shopping'\n",
    "# cap at 1000 per month\n",
    "citi_rewards_miles['online_shopping'] = 4.0\n",
    "citi_rewards_miles['online_shopping_cap'] = 1000\n",
    "\n",
    "# Setting the parameters for \"minimum_spend\"\n",
    "citi_rewards_miles['minimum_spend'] = 0\n",
    "\n",
    "# Setting the parameters for \"cap\"\n",
    "citi_rewards_miles['cap'] = 0\n",
    "\n",
    "# Setting the parameters for \"conversion rate\"\n",
    "citi_rewards_miles['conversion_rate'] = {}\n",
    "citi_rewards_miles['conversion_rate']['krisflyer'] = 0.4\n",
    "citi_rewards_miles['conversion_rate']['asia_miles'] = 0.4\n",
    "citi_rewards_miles['conversion_rate']['frequent_flyer'] = 0.4\n",
    "citi_rewards_miles['conversion_rate']['big_loyalty'] = 0\n",
    "citi_rewards_miles['conversion_rate']['british_airways_executive_club'] = 0.4\n",
    "citi_rewards_miles['conversion_rate']['etihad_guest'] = 0.4\n",
    "citi_rewards_miles['conversion_rate']['turkish_miles_and_smiles'] = 0.4\n",
    "\n",
    "display(citi_rewards_miles)"
   ]
  },
  {
   "cell_type": "markdown",
   "id": "752c5fca",
   "metadata": {},
   "source": [
    "**Amex Singapore Airlines Krisflyer Credit Card**"
   ]
  },
  {
   "cell_type": "code",
   "execution_count": 14,
   "id": "c9c49347",
   "metadata": {},
   "outputs": [
    {
     "data": {
      "text/plain": [
       "{'card_type': 'Miles',\n",
       " 'minimum_income': {'singaporean': 30000, 'foreigner': 45000},\n",
       " 'petrol': {'public_transport': 1.1,\n",
       "  'esso': 1.1,\n",
       "  'shell': 1.1,\n",
       "  'spc': 1.1,\n",
       "  'caltex': 1.1},\n",
       " 'dining': 1.1,\n",
       " 'groceries': {'ntuc': 1.1,\n",
       "  'giant': 1.1,\n",
       "  'cold_storage': 1.1,\n",
       "  'sheng_shiong': 1.1,\n",
       "  'redmart': 1.1},\n",
       " 'grab': 3.1,\n",
       " 'grab_cap': 200,\n",
       " 'online_shopping': 1.1,\n",
       " 'minimum_spend': 0,\n",
       " 'cap': 0,\n",
       " 'conversion_rate': {'krisflyer': 1,\n",
       "  'asia_miles': 0,\n",
       "  'frequent_flyer': 0,\n",
       "  'big_loyalty': 0,\n",
       "  'british_airways_executive_club': 0,\n",
       "  'etihad_guest': 0,\n",
       "  'turkish_miles_and_smiles': 0}}"
      ]
     },
     "metadata": {},
     "output_type": "display_data"
    }
   ],
   "source": [
    "# Setting the parameters for the \"amex sia krisflyer\" card\n",
    "amex_sia_krisflyer_miles = {}\n",
    "\n",
    "# Setting the parameters for 'card type'\n",
    "amex_sia_krisflyer_miles['card_type'] = 'Miles'\n",
    "\n",
    "# Setting the paramters for 'minimum income'\n",
    "amex_sia_krisflyer_miles['minimum_income'] = {}\n",
    "amex_sia_krisflyer_miles['minimum_income']['singaporean'] = 30000\n",
    "amex_sia_krisflyer_miles['minimum_income']['foreigner'] = 45000\n",
    "\n",
    "# Setting the parameters for 'petrol'\n",
    "amex_sia_krisflyer_miles['petrol'] = {}\n",
    "amex_sia_krisflyer_miles['petrol']['public_transport'] = 1.1\n",
    "amex_sia_krisflyer_miles['petrol']['esso'] = 1.1\n",
    "amex_sia_krisflyer_miles['petrol']['shell'] = 1.1\n",
    "amex_sia_krisflyer_miles['petrol']['spc'] = 1.1\n",
    "amex_sia_krisflyer_miles['petrol']['caltex'] = 1.1\n",
    "\n",
    "# Setting the parameters for 'dining'\n",
    "amex_sia_krisflyer_miles['dining'] = 1.1\n",
    "\n",
    "# Setting the parameters for 'groceries'\n",
    "amex_sia_krisflyer_miles['groceries'] = {} \n",
    "amex_sia_krisflyer_miles['groceries']['ntuc'] = 1.1\n",
    "amex_sia_krisflyer_miles['groceries']['giant'] = 1.1\n",
    "amex_sia_krisflyer_miles['groceries']['cold_storage'] = 1.1\n",
    "amex_sia_krisflyer_miles['groceries']['sheng_shiong'] = 1.1\n",
    "amex_sia_krisflyer_miles['groceries']['redmart'] = 1.1\n",
    "\n",
    "# Setting the parameters for 'grab'\n",
    "# cap at 200 dollars per month\n",
    "amex_sia_krisflyer_miles['grab'] = 3.1\n",
    "amex_sia_krisflyer_miles['grab_cap'] = 200\n",
    "\n",
    "# Setting the parameters for 'online_shopping'\n",
    "amex_sia_krisflyer_miles['online_shopping'] = 1.1\n",
    "\n",
    "# Setting the parameters for \"minimum_spend\"\n",
    "amex_sia_krisflyer_miles['minimum_spend'] = 0\n",
    "\n",
    "# Setting the parameters for \"cap\"\n",
    "amex_sia_krisflyer_miles['cap'] = 0\n",
    "\n",
    "# Setting the parameters for \"conversion rate\"\n",
    "amex_sia_krisflyer_miles['conversion_rate'] = {}\n",
    "amex_sia_krisflyer_miles['conversion_rate']['krisflyer'] = 1\n",
    "amex_sia_krisflyer_miles['conversion_rate']['asia_miles'] = 0\n",
    "amex_sia_krisflyer_miles['conversion_rate']['frequent_flyer'] = 0\n",
    "amex_sia_krisflyer_miles['conversion_rate']['big_loyalty'] = 0\n",
    "amex_sia_krisflyer_miles['conversion_rate']['british_airways_executive_club'] = 0\n",
    "amex_sia_krisflyer_miles['conversion_rate']['etihad_guest'] = 0\n",
    "amex_sia_krisflyer_miles['conversion_rate']['turkish_miles_and_smiles'] = 0\n",
    "\n",
    "display(amex_sia_krisflyer_miles)"
   ]
  },
  {
   "cell_type": "markdown",
   "id": "2ee24449",
   "metadata": {},
   "source": [
    "**UOB Prvi Miles Visa Card**"
   ]
  },
  {
   "cell_type": "code",
   "execution_count": 15,
   "id": "c3e76b21",
   "metadata": {},
   "outputs": [
    {
     "data": {
      "text/plain": [
       "{'card_type': 'Miles',\n",
       " 'minimum_income': {'singaporean': 30000, 'foreigner': 40000},\n",
       " 'petrol': {'public_transport': 1.4,\n",
       "  'esso': 1.4,\n",
       "  'shell': 1.4,\n",
       "  'spc': 1.4,\n",
       "  'caltex': 1.4},\n",
       " 'dining': 1.4,\n",
       " 'groceries': {'ntuc': 1.4,\n",
       "  'giant': 1.4,\n",
       "  'cold_storage': 1.4,\n",
       "  'sheng_shiong': 1.4,\n",
       "  'redmart': 1.4},\n",
       " 'grab': 1.4,\n",
       " 'online_shopping': 1.4,\n",
       " 'minimum_spend': 0,\n",
       " 'cap': 0,\n",
       " 'conversion_rate': {'krisflyer': 2,\n",
       "  'asia_miles': 2,\n",
       "  'frequent_flyer': 0,\n",
       "  'big_loyalty': 0,\n",
       "  'british_airways_executive_club': 0,\n",
       "  'etihad_guest': 0,\n",
       "  'turkish_miles_and_smiles': 0}}"
      ]
     },
     "metadata": {},
     "output_type": "display_data"
    }
   ],
   "source": [
    "# Setting the parameters for the \"uob prvi miles\" card\n",
    "uob_prvi_miles = {}\n",
    "\n",
    "# Setting the parameters for 'card type'\n",
    "uob_prvi_miles['card_type'] = 'Miles'\n",
    "\n",
    "# Setting the paramters for 'minimum income'\n",
    "uob_prvi_miles['minimum_income'] = {}\n",
    "uob_prvi_miles['minimum_income']['singaporean'] = 30000\n",
    "uob_prvi_miles['minimum_income']['foreigner'] = 40000\n",
    "\n",
    "# Setting the parameters for 'petrol'\n",
    "uob_prvi_miles['petrol'] = {}\n",
    "uob_prvi_miles['petrol']['public_transport'] = 1.4\n",
    "uob_prvi_miles['petrol']['esso'] = 1.4\n",
    "uob_prvi_miles['petrol']['shell'] = 1.4\n",
    "uob_prvi_miles['petrol']['spc'] = 1.4\n",
    "uob_prvi_miles['petrol']['caltex'] = 1.4\n",
    "\n",
    "# Setting the parameters for 'dining'\n",
    "uob_prvi_miles['dining'] = 1.4\n",
    "\n",
    "# Setting the parameters for 'groceries'\n",
    "uob_prvi_miles['groceries'] = {} \n",
    "uob_prvi_miles['groceries']['ntuc'] = 1.4\n",
    "uob_prvi_miles['groceries']['giant'] = 1.4\n",
    "uob_prvi_miles['groceries']['cold_storage'] = 1.4\n",
    "uob_prvi_miles['groceries']['sheng_shiong'] = 1.4\n",
    "uob_prvi_miles['groceries']['redmart'] = 1.4\n",
    "\n",
    "# Setting the parameters for 'grab'\n",
    "uob_prvi_miles['grab'] = 1.4\n",
    "\n",
    "# Setting the parameters for 'online_shopping'\n",
    "uob_prvi_miles['online_shopping'] = 1.4\n",
    "\n",
    "# Setting the parameters for \"minimum_spend\"\n",
    "uob_prvi_miles['minimum_spend'] = 0\n",
    "\n",
    "# Setting the parameters for \"cap\"\n",
    "uob_prvi_miles['cap'] = 0\n",
    "\n",
    "# Setting the parameters for \"conversion rate\"\n",
    "uob_prvi_miles['conversion_rate'] = {}\n",
    "uob_prvi_miles['conversion_rate']['krisflyer'] = 2\n",
    "uob_prvi_miles['conversion_rate']['asia_miles'] = 2\n",
    "uob_prvi_miles['conversion_rate']['frequent_flyer'] = 0\n",
    "uob_prvi_miles['conversion_rate']['big_loyalty'] = 0\n",
    "uob_prvi_miles['conversion_rate']['british_airways_executive_club'] = 0\n",
    "uob_prvi_miles['conversion_rate']['etihad_guest'] = 0\n",
    "uob_prvi_miles['conversion_rate']['turkish_miles_and_smiles'] = 0\n",
    "\n",
    "display(uob_prvi_miles)"
   ]
  },
  {
   "cell_type": "markdown",
   "id": "435527b8",
   "metadata": {},
   "source": [
    "**4. Defining the parameters for the questionaire**"
   ]
  },
  {
   "cell_type": "markdown",
   "id": "8dec0a6a",
   "metadata": {},
   "source": [
    "Similar to the above, we will define the parameters for the questionaire, so that we would be able to update the calculations easily."
   ]
  },
  {
   "cell_type": "code",
   "execution_count": 16,
   "id": "49a04b13",
   "metadata": {},
   "outputs": [],
   "source": [
    "# Setting the parameters for the questionaire card\n",
    "questionaire = {}\n",
    "\n",
    "# Setting the parameters for question 1\n",
    "# Do you prefer a miles or cashback card?\n",
    "questionaire['ques_1'] = {'1': 'Cashback', '2': 'Miles'}\n",
    "\n",
    "# Setting the parameters for question 2\n",
    "# Are you a Singaporean?\n",
    "questionaire['ques_2'] = {'1': 'Yes', '2': 'No'}\n",
    "\n",
    "# Setting the parameters for question 3\n",
    "# What is your annual income?\n",
    "questionaire['ques_3'] = {\n",
    "    '1': '29000', \n",
    "    '2': '39000', \n",
    "    '3': '49000', \n",
    "    '4': '59000', \n",
    "    '5': '69000', \n",
    "    '6': '79000', \n",
    "    '7': '89000'}\n",
    "\n",
    "# Setting the parameters for question 4\n",
    "# Where do you normally go to for petrol refuel?\n",
    "questionaire['ques_4'] = {\n",
    "    '1': 'public_transport', \n",
    "    '2': 'esso', \n",
    "    '3': 'shell', \n",
    "    '4': 'spc',\n",
    "    '5': 'caltex'}\n",
    "    \n",
    "# Setting the parameters for question 5\n",
    "# How much do you spend on petrol / public transport every month? This should be the net price after all available discounts.\n",
    "questionaire['ques_5'] = {\n",
    "    '1': '0', \n",
    "    '2': '100', \n",
    "    '3': '399', \n",
    "    '4': '599', \n",
    "    '5': '799',\n",
    "    '6': '899', \n",
    "    '7': '999'}\n",
    "\n",
    "# Setting the parameters for question 6\n",
    "# How much do you spend on dining every month?\n",
    "questionaire['ques_6'] = {\n",
    "    '1': '0',\n",
    "    '2': '100', \n",
    "    '3': '399', \n",
    "    '4': '599', \n",
    "    '5': '799',\n",
    "    '6': '899', \n",
    "    '7': '999'}\n",
    "\n",
    "# Setting the parameters for question 7\n",
    "# Where do you usually shop for groceries??\n",
    "questionaire['ques_7'] = {\n",
    "    '1': 'ntuc', \n",
    "    '2': 'giant', \n",
    "    '3': 'cold_storage', \n",
    "    '4': 'sheng_shiong',\n",
    "    '5': 'redmart'}\n",
    "\n",
    "# Setting the parameters for question 8\n",
    "# How much do you spend on groceries every month?\n",
    "questionaire['ques_8'] = {\n",
    "    '1': '0',\n",
    "    '2': '100', \n",
    "    '3': '399', \n",
    "    '4': '599', \n",
    "    '5': '799',\n",
    "    '6': '899', \n",
    "    '7': '999'}\n",
    "\n",
    "# Setting the parameters for question 9\n",
    "# How much do you spend on Grab every month?\n",
    "questionaire['ques_9'] = {\n",
    "    '1': '0',\n",
    "    '2': '100', \n",
    "    '3': '399', \n",
    "    '4': '599', \n",
    "    '5': '799',\n",
    "    '6': '899', \n",
    "    '7': '999'}\n",
    "\n",
    "# Setting the parameters for question 10\n",
    "# How much do you spend online shopping every month?\n",
    "questionaire['ques_10'] = {\n",
    "    '1': '0',\n",
    "    '2': '100', \n",
    "    '3': '399', \n",
    "    '4': '599', \n",
    "    '5': '799',\n",
    "    '6': '899', \n",
    "    '7': '999'}\n",
    "\n",
    "# Setting the parameters for question 11\n",
    "# Which is your preferred travel partner?\n",
    "questionaire['ques_11'] = {\n",
    "    '1': 'cashback', \n",
    "    '2': 'krisflyer', \n",
    "    '3': 'asia_miles', \n",
    "    '4': 'frequent_flyer',\n",
    "    '5': 'big_loyalty', \n",
    "    '6': 'british_airways_executive_club',\n",
    "    '7': 'etihad_guest',\n",
    "    '8': 'turkish_miles_and_smiles'}"
   ]
  },
  {
   "cell_type": "markdown",
   "id": "2e9fab1f",
   "metadata": {},
   "source": [
    "**5. Defining functions to perfom the calculation of returns for each cashback card**"
   ]
  },
  {
   "cell_type": "markdown",
   "id": "e0531c9a",
   "metadata": {},
   "source": [
    "Now that we have all the parameters, we will need to define the calculations to determine which is the best cards for each user. Every card will have a different function as it depends on how the card functions."
   ]
  },
  {
   "cell_type": "markdown",
   "id": "b488f54f",
   "metadata": {},
   "source": [
    "**Standard Chartered Unlimited Cashback Card**"
   ]
  },
  {
   "cell_type": "code",
   "execution_count": 17,
   "id": "efaaf282",
   "metadata": {},
   "outputs": [],
   "source": [
    "# Define calculation function for the sc_unlimited_cashback card\n",
    "def sc_unlimited_cashback_cal(df):\n",
    "    # Check if they are eligible for the card\n",
    "    if df['ques_2'] == 'Yes' and int(df['ques_3']) < sc_unlimited_cashback['minimum_income']['singaporean']:\n",
    "        return ['not_eligible', 0]\n",
    "    elif df['ques_2'] == 'No' and int(df['ques_3']) < sc_unlimited_cashback['minimum_income']['foreigner']:\n",
    "        return ['not_eligible', 0]\n",
    "    else:\n",
    "        # Calculate total spending\n",
    "        petrol_spending = int(df['ques_5'])\n",
    "        preferred_petrol = df['ques_4']\n",
    "        dining_spending = int(df['ques_6'])\n",
    "        groceries_spending = int(df['ques_8'])\n",
    "        preferred_groceries = df['ques_7']\n",
    "        grab_spending = int(df['ques_9'])\n",
    "        online_spending = int(df['ques_10'])\n",
    "        total_spending = petrol_spending + dining_spending + groceries_spending + grab_spending + online_spending\n",
    "        \n",
    "        # Calculate total return\n",
    "        petrol_return = petrol_spending * sc_unlimited_cashback['petrol'][preferred_petrol]\n",
    "        dining_return = dining_spending * sc_unlimited_cashback['dining']\n",
    "        groceries_return = groceries_spending * sc_unlimited_cashback['groceries'][preferred_groceries]\n",
    "        grab_return = grab_spending * sc_unlimited_cashback['grab']\n",
    "        online_shopping_return = online_spending * sc_unlimited_cashback['online_shopping']\n",
    "        total_return = petrol_return + dining_return + groceries_return + grab_return + online_shopping_return\n",
    "        return ['sc_unlimited_cashback',total_return]"
   ]
  },
  {
   "cell_type": "markdown",
   "id": "034a74ae",
   "metadata": {},
   "source": [
    "**UOB One Card (Min Spend 500)**"
   ]
  },
  {
   "cell_type": "code",
   "execution_count": 18,
   "id": "f7fa7b92",
   "metadata": {},
   "outputs": [],
   "source": [
    "# Define calculation function for the uob one card\n",
    "def uob_one_500_cal(df):\n",
    "    # Check if they are eligible for the card\n",
    "    if df['ques_2'] == 'Yes' and int(df['ques_3']) < uob_one_500['minimum_income']['singaporean']:\n",
    "        return ['not_eligible', 0]\n",
    "    elif df['ques_2'] == 'No' and int(df['ques_3']) < uob_one_500['minimum_income']['foreigner']:\n",
    "        return ['not_eligible', 0]\n",
    "    else:\n",
    "        # Calculate total spending\n",
    "        petrol_spending = int(df['ques_5'])\n",
    "        preferred_petrol = df['ques_4']\n",
    "        dining_spending = int(df['ques_6'])\n",
    "        groceries_spending = int(df['ques_8'])\n",
    "        preferred_groceries = df['ques_7']\n",
    "        grab_spending = int(df['ques_9'])\n",
    "        online_spending = int(df['ques_10'])\n",
    "        total_spending = petrol_spending + dining_spending + groceries_spending + grab_spending + online_spending\n",
    "        \n",
    "        # Check if the minimum spending amount is reached\n",
    "        if total_spending < uob_one_500['minimum_spend']:\n",
    "            return ['uob_one', 0]\n",
    "        else: \n",
    "            # Calculate total normal return\n",
    "            petrol_return = petrol_spending * uob_one_500['petrol'][preferred_petrol]['normal']\n",
    "            dining_return = dining_spending * uob_one_500['dining']['normal']\n",
    "            groceries_return = groceries_spending * uob_one_500['groceries'][preferred_groceries]['normal']\n",
    "            grab_return = grab_spending * uob_one_500['grab']['normal']\n",
    "            online_shopping_return = online_spending * uob_one_500['online_shopping']['normal']\n",
    "            total_norm_return = petrol_return + dining_return + groceries_return + grab_return + online_shopping_return\n",
    "            \n",
    "            # Calculate total additional return\n",
    "            petrol_add_return = petrol_spending * uob_one_500['petrol'][preferred_petrol]['additional']\n",
    "            dining_add_return = dining_spending * uob_one_500['dining']['additional']\n",
    "            groceries_add_return = groceries_spending * uob_one_500['groceries'][preferred_groceries]['additional']\n",
    "            grab_add_return = grab_spending * uob_one_500['grab']['additional']\n",
    "            online_shopping_add_return = online_spending * uob_one_500['online_shopping']['additional']\n",
    "            total_add_return = petrol_add_return + dining_add_return + groceries_add_return + grab_add_return + online_shopping_add_return\n",
    "            \n",
    "            # Setting the cap for the total return\n",
    "            if total_norm_return > uob_one_500['cap']['normal']:\n",
    "                total_norm_return = uob_one_500['cap']['normal']\n",
    "                \n",
    "            # Setting the cap for additional return\n",
    "            if total_add_return > uob_one_500['cap']['additional']:\n",
    "                total_add_return = uob_one_500['cap']['additional']\n",
    "            \n",
    "            # Calculating total return\n",
    "            total_return = total_norm_return + total_add_return\n",
    "            return ['uob_one',total_return]"
   ]
  },
  {
   "cell_type": "markdown",
   "id": "070c2d01",
   "metadata": {},
   "source": [
    "**UOB One Card (Min Spend 1000)**"
   ]
  },
  {
   "cell_type": "code",
   "execution_count": 19,
   "id": "2212b90c",
   "metadata": {},
   "outputs": [],
   "source": [
    "# Define calculation function for the uob one card\n",
    "def uob_one_1000_cal(df):\n",
    "    # Check if they are eligible for the card\n",
    "    if df['ques_2'] == 'Yes' and int(df['ques_3']) < uob_one_1000['minimum_income']['singaporean']:\n",
    "        return ['not_eligible', 0]\n",
    "    elif df['ques_2'] == 'No' and int(df['ques_3']) < uob_one_1000['minimum_income']['foreigner']:\n",
    "        return ['not_eligible', 0]\n",
    "    else:\n",
    "        # Calculate total spending\n",
    "        petrol_spending = int(df['ques_5'])\n",
    "        preferred_petrol = df['ques_4']\n",
    "        dining_spending = int(df['ques_6'])\n",
    "        groceries_spending = int(df['ques_8'])\n",
    "        preferred_groceries = df['ques_7']\n",
    "        grab_spending = int(df['ques_9'])\n",
    "        online_spending = int(df['ques_10'])\n",
    "        total_spending = petrol_spending + dining_spending + groceries_spending + grab_spending + online_spending\n",
    "        \n",
    "        # Check if the minimum spending amount is reached\n",
    "        if total_spending < uob_one_1000['minimum_spend']:\n",
    "            return ['uob_one', 0]\n",
    "        else: \n",
    "            # Calculate total normal return\n",
    "            petrol_return = petrol_spending * uob_one_1000['petrol'][preferred_petrol]['normal']\n",
    "            dining_return = dining_spending * uob_one_1000['dining']['normal']\n",
    "            groceries_return = groceries_spending * uob_one_1000['groceries'][preferred_groceries]['normal']\n",
    "            grab_return = grab_spending * uob_one_1000['grab']['normal']\n",
    "            online_shopping_return = online_spending * uob_one_1000['online_shopping']['normal']\n",
    "            total_norm_return = petrol_return + dining_return + groceries_return + grab_return + online_shopping_return\n",
    "            \n",
    "            # Calculate total additional return\n",
    "            petrol_add_return = petrol_spending * uob_one_1000['petrol'][preferred_petrol]['additional']\n",
    "            dining_add_return = dining_spending * uob_one_1000['dining']['additional']\n",
    "            groceries_add_return = groceries_spending * uob_one_1000['groceries'][preferred_groceries]['additional']\n",
    "            grab_add_return = grab_spending * uob_one_1000['grab']['additional']\n",
    "            online_shopping_add_return = online_spending * uob_one_1000['online_shopping']['additional']\n",
    "            total_add_return = petrol_add_return + dining_add_return + groceries_add_return + grab_add_return + online_shopping_add_return\n",
    "            \n",
    "            # Setting the cap for the total return\n",
    "            if total_norm_return > uob_one_1000['cap']['normal']:\n",
    "                total_norm_return = uob_one_1000['cap']['normal']\n",
    "                \n",
    "            # Setting the cap for additional return\n",
    "            if total_add_return > uob_one_1000['cap']['additional']:\n",
    "                total_add_return = uob_one_1000['cap']['additional']\n",
    "            \n",
    "            # Calculating total return\n",
    "            total_return = total_norm_return + total_add_return\n",
    "            return ['uob_one',total_return]"
   ]
  },
  {
   "cell_type": "markdown",
   "id": "b33842ce",
   "metadata": {},
   "source": [
    "**UOB One Card (Min Spend 2000)**"
   ]
  },
  {
   "cell_type": "code",
   "execution_count": 20,
   "id": "d0fa4412",
   "metadata": {},
   "outputs": [],
   "source": [
    "# Define calculation function for the uob one card\n",
    "def uob_one_2000_cal(df):\n",
    "    # Check if they are eligible for the card\n",
    "    if df['ques_2'] == 'Yes' and int(df['ques_3']) < uob_one_2000['minimum_income']['singaporean']:\n",
    "        return ['not_eligible', 0]\n",
    "    elif df['ques_2'] == 'No' and int(df['ques_3']) < uob_one_2000['minimum_income']['foreigner']:\n",
    "        return ['not_eligible', 0]\n",
    "    else:\n",
    "        # Calculate total spending\n",
    "        petrol_spending = int(df['ques_5'])\n",
    "        preferred_petrol = df['ques_4']\n",
    "        dining_spending = int(df['ques_6'])\n",
    "        groceries_spending = int(df['ques_8'])\n",
    "        preferred_groceries = df['ques_7']\n",
    "        grab_spending = int(df['ques_9'])\n",
    "        online_spending = int(df['ques_10'])\n",
    "        total_spending = petrol_spending + dining_spending + groceries_spending + grab_spending + online_spending\n",
    "        \n",
    "        # Check if the minimum spending amount is reached\n",
    "        if total_spending < uob_one_2000['minimum_spend']:\n",
    "            return ['uob_one', 0]\n",
    "        else: \n",
    "            # Calculate total normal return\n",
    "            petrol_return = petrol_spending * uob_one_2000['petrol'][preferred_petrol]['normal']\n",
    "            dining_return = dining_spending * uob_one_2000['dining']['normal']\n",
    "            groceries_return = groceries_spending * uob_one_2000['groceries'][preferred_groceries]['normal']\n",
    "            grab_return = grab_spending * uob_one_2000['grab']['normal']\n",
    "            online_shopping_return = online_spending * uob_one_2000['online_shopping']['normal']\n",
    "            total_norm_return = petrol_return + dining_return + groceries_return + grab_return + online_shopping_return\n",
    "            \n",
    "            # Calculate total additional return\n",
    "            petrol_add_return = petrol_spending * uob_one_2000['petrol'][preferred_petrol]['additional']\n",
    "            dining_add_return = dining_spending * uob_one_2000['dining']['additional']\n",
    "            groceries_add_return = groceries_spending * uob_one_2000['groceries'][preferred_groceries]['additional']\n",
    "            grab_add_return = grab_spending * uob_one_2000['grab']['additional']\n",
    "            online_shopping_add_return = online_spending * uob_one_2000['online_shopping']['additional']\n",
    "            total_add_return = petrol_add_return + dining_add_return + groceries_add_return + grab_add_return + online_shopping_add_return\n",
    "            \n",
    "            # Setting the cap for the total return\n",
    "            if total_norm_return > uob_one_2000['cap']['normal']:\n",
    "                total_norm_return = uob_one_2000['cap']['normal']\n",
    "                \n",
    "            # Setting the cap for additional return\n",
    "            if total_add_return > uob_one_2000['cap']['additional']:\n",
    "                total_add_return = uob_one_2000['cap']['additional']\n",
    "            \n",
    "            # Calculating total return\n",
    "            total_return = total_norm_return + total_add_return\n",
    "            return ['uob_one',total_return]"
   ]
  },
  {
   "cell_type": "markdown",
   "id": "997fd930",
   "metadata": {},
   "source": [
    "**POSB Everyday Cashback Card**"
   ]
  },
  {
   "cell_type": "code",
   "execution_count": 21,
   "id": "52e1ee94",
   "metadata": {},
   "outputs": [],
   "source": [
    "# Define calculation function for the posb_everyday_cashback card\n",
    "def posb_everyday_cashback_cal(df):\n",
    "    # Check if they are eligible for the card\n",
    "    if df['ques_2'] == 'Yes' and int(df['ques_3']) < posb_everyday_cashback['minimum_income']['singaporean']:\n",
    "        return ['not_eligible', 0]\n",
    "    elif df['ques_2'] == 'No' and int(df['ques_3']) < posb_everyday_cashback['minimum_income']['foreigner']:\n",
    "        return ['not_eligible', 0]\n",
    "    else:\n",
    "        # Calculate total spending\n",
    "        petrol_spending = int(df['ques_5'])\n",
    "        preferred_petrol = df['ques_4']\n",
    "        dining_spending = int(df['ques_6'])\n",
    "        groceries_spending = int(df['ques_8'])\n",
    "        preferred_groceries = df['ques_7']\n",
    "        grab_spending = int(df['ques_9'])\n",
    "        online_spending = int(df['ques_10'])\n",
    "        total_spending = petrol_spending + dining_spending + groceries_spending + grab_spending + online_spending\n",
    "        \n",
    "        # Check if the minimum spending amount is reached\n",
    "        if total_spending < posb_everyday_cashback['minimum_spend']:\n",
    "            return ['posb_everyday_cashback', 0]\n",
    "        else: \n",
    "            # Calculate total return\n",
    "            petrol_return = petrol_spending * posb_everyday_cashback['petrol'][preferred_petrol]\n",
    "            dining_return = dining_spending * posb_everyday_cashback['dining']\n",
    "            groceries_return = groceries_spending * posb_everyday_cashback['groceries'][preferred_groceries]\n",
    "            grab_return = grab_spending * posb_everyday_cashback['grab']\n",
    "            online_shopping_return = online_spending * posb_everyday_cashback['online_shopping']\n",
    "            total_return = petrol_return + dining_return + groceries_return + grab_return + online_shopping_return\n",
    "            \n",
    "            # Setting the cap for the total return\n",
    "            if total_return > posb_everyday_cashback['cap']:\n",
    "                total_return = posb_everyday_cashback['cap']\n",
    "            return ['posb_everyday_cashback',total_return]"
   ]
  },
  {
   "cell_type": "markdown",
   "id": "0e8318df",
   "metadata": {},
   "source": [
    "**Amex True Cashback Card**"
   ]
  },
  {
   "cell_type": "code",
   "execution_count": 22,
   "id": "d023a503",
   "metadata": {},
   "outputs": [],
   "source": [
    "# Define calculation function for the amex_true_cashback card\n",
    "def amex_true_cashback_cal(df):\n",
    "    # Check if they are eligible for the card\n",
    "    if df['ques_2'] == 'Yes' and int(df['ques_3']) < amex_true_cashback['minimum_income']['singaporean']:\n",
    "        return ['not_eligible', 0]\n",
    "    elif df['ques_2'] == 'No' and int(df['ques_3']) < amex_true_cashback['minimum_income']['foreigner']:\n",
    "        return ['not_eligible', 0]\n",
    "    else:\n",
    "        # Calculate total spending\n",
    "        petrol_spending = int(df['ques_5'])\n",
    "        preferred_petrol = df['ques_4']\n",
    "        dining_spending = int(df['ques_6'])\n",
    "        groceries_spending = int(df['ques_8'])\n",
    "        preferred_groceries = df['ques_7']\n",
    "        grab_spending = int(df['ques_9'])\n",
    "        online_spending = int(df['ques_10'])\n",
    "        total_spending = petrol_spending + dining_spending + groceries_spending + grab_spending + online_spending\n",
    "        \n",
    "        # Calculate total return\n",
    "        petrol_return = petrol_spending * amex_true_cashback['petrol'][preferred_petrol]\n",
    "        dining_return = dining_spending * amex_true_cashback['dining']\n",
    "        groceries_return = groceries_spending * amex_true_cashback['groceries'][preferred_groceries]\n",
    "        grab_return = grab_spending * amex_true_cashback['grab']\n",
    "        online_shopping_return = online_spending * amex_true_cashback['online_shopping']\n",
    "        total_return = petrol_return + dining_return + groceries_return + grab_return + online_shopping_return\n",
    "        return ['amex_true_cashback',total_return]"
   ]
  },
  {
   "cell_type": "markdown",
   "id": "5c2853f6",
   "metadata": {},
   "source": [
    "**Standard Chartered Spree Credit Card**"
   ]
  },
  {
   "cell_type": "code",
   "execution_count": 23,
   "id": "fb6ea18b",
   "metadata": {},
   "outputs": [],
   "source": [
    "# Define calculation function for the sc_spree_card card\n",
    "def sc_spree_card_cal(df):\n",
    "    # Check if they are eligible for the card\n",
    "    if df['ques_2'] == 'Yes' and int(df['ques_3']) < sc_spree_card['minimum_income']['singaporean']:\n",
    "        return ['not_eligible', 0]\n",
    "    elif df['ques_2'] == 'No' and int(df['ques_3']) < sc_spree_card['minimum_income']['foreigner']:\n",
    "        return ['not_eligible', 0]\n",
    "    else:\n",
    "        # Calculate total spending\n",
    "        petrol_spending = int(df['ques_5'])\n",
    "        preferred_petrol = df['ques_4']\n",
    "        dining_spending = int(df['ques_6'])\n",
    "        groceries_spending = int(df['ques_8'])\n",
    "        preferred_groceries = df['ques_7']\n",
    "        grab_spending = int(df['ques_9'])\n",
    "        online_spending = int(df['ques_10'])\n",
    "        total_spending = petrol_spending + dining_spending + groceries_spending + grab_spending + online_spending\n",
    "        \n",
    "        # Check if the minimum spending amount is reached\n",
    "        if total_spending < sc_spree_card['minimum_spend']:\n",
    "            return ['sc_spree_card', 0]\n",
    "        else: \n",
    "            # Calculate total return\n",
    "            petrol_return = petrol_spending * sc_spree_card['petrol'][preferred_petrol]\n",
    "            dining_return = dining_spending * sc_spree_card['dining']\n",
    "            groceries_return = groceries_spending * sc_spree_card['groceries'][preferred_groceries]\n",
    "            grab_return = grab_spending * sc_spree_card['grab']\n",
    "            online_shopping_return = online_spending * sc_spree_card['online_shopping']\n",
    "            total_return = petrol_return + dining_return + groceries_return + grab_return + online_shopping_return\n",
    "            \n",
    "            # Setting the cap for the total return\n",
    "            if total_return > sc_spree_card['cap']:\n",
    "                total_return = sc_spree_card['cap']\n",
    "            return ['sc_spree_card',total_return]"
   ]
  },
  {
   "cell_type": "markdown",
   "id": "c35c03bb",
   "metadata": {},
   "source": [
    "**HSBC Advance Credit Card (Spending < 2,000)**"
   ]
  },
  {
   "cell_type": "code",
   "execution_count": 24,
   "id": "9dde7341",
   "metadata": {},
   "outputs": [],
   "source": [
    "# Define calculation function for the hsbc_advance_less_than_2000 card\n",
    "def hsbc_advance_less_than_2000_cal(df):\n",
    "    # Check if they are eligible for the card\n",
    "    if df['ques_2'] == 'Yes' and int(df['ques_3']) < hsbc_advance_less_than_2000['minimum_income']['singaporean']:\n",
    "        return ['not_eligible', 0]\n",
    "    elif df['ques_2'] == 'No' and int(df['ques_3']) < hsbc_advance_less_than_2000['minimum_income']['foreigner']:\n",
    "        return ['not_eligible', 0]\n",
    "    else:\n",
    "        # Calculate total spending\n",
    "        petrol_spending = int(df['ques_5'])\n",
    "        preferred_petrol = df['ques_4']\n",
    "        dining_spending = int(df['ques_6'])\n",
    "        groceries_spending = int(df['ques_8'])\n",
    "        preferred_groceries = df['ques_7']\n",
    "        grab_spending = int(df['ques_9'])\n",
    "        online_spending = int(df['ques_10'])\n",
    "        total_spending = petrol_spending + dining_spending + groceries_spending + grab_spending + online_spending\n",
    "        \n",
    "        # Calculate total return\n",
    "        petrol_return = petrol_spending * hsbc_advance_less_than_2000['petrol'][preferred_petrol]\n",
    "        dining_return = dining_spending * hsbc_advance_less_than_2000['dining']\n",
    "        groceries_return = groceries_spending * hsbc_advance_less_than_2000['groceries'][preferred_groceries]\n",
    "        grab_return = grab_spending * hsbc_advance_less_than_2000['grab']\n",
    "        online_shopping_return = online_spending * hsbc_advance_less_than_2000['online_shopping']\n",
    "        total_return = petrol_return + dining_return + groceries_return + grab_return + online_shopping_return\n",
    "        \n",
    "        # Setting the cap for the total return\n",
    "        if total_return > hsbc_advance_less_than_2000['cap']:\n",
    "            total_return = hsbc_advance_less_than_2000['cap']\n",
    "        return ['hsbc_advance',total_return]"
   ]
  },
  {
   "cell_type": "markdown",
   "id": "86b33514",
   "metadata": {},
   "source": [
    "**HSBC Advance Credit Card (Spending > 2,000)**"
   ]
  },
  {
   "cell_type": "code",
   "execution_count": 25,
   "id": "adcb9eeb",
   "metadata": {},
   "outputs": [],
   "source": [
    "# Define calculation function for the hsbc_advance card\n",
    "def hsbc_advance_cal(df):\n",
    "    # Check if they are eligible for the card\n",
    "    if df['ques_2'] == 'Yes' and int(df['ques_3']) < hsbc_advance['minimum_income']['singaporean']:\n",
    "        return ['not_eligible', 0]\n",
    "    elif df['ques_2'] == 'No' and int(df['ques_3']) < hsbc_advance['minimum_income']['foreigner']:\n",
    "        return ['not_eligible', 0]\n",
    "    else:\n",
    "        # Calculate total spending\n",
    "        petrol_spending = int(df['ques_5'])\n",
    "        preferred_petrol = df['ques_4']\n",
    "        dining_spending = int(df['ques_6'])\n",
    "        groceries_spending = int(df['ques_8'])\n",
    "        preferred_groceries = df['ques_7']\n",
    "        grab_spending = int(df['ques_9'])\n",
    "        online_spending = int(df['ques_10'])\n",
    "        total_spending = petrol_spending + dining_spending + groceries_spending + grab_spending + online_spending\n",
    "        \n",
    "        # Check if the minimum spending amount is reached\n",
    "        if total_spending < hsbc_advance['minimum_spend']:\n",
    "            return ['hsbc_advance', 0]\n",
    "        else: \n",
    "            # Calculate total return\n",
    "            petrol_return = petrol_spending * hsbc_advance['petrol'][preferred_petrol]\n",
    "            dining_return = dining_spending * hsbc_advance['dining']\n",
    "            groceries_return = groceries_spending * hsbc_advance['groceries'][preferred_groceries]\n",
    "            grab_return = grab_spending * hsbc_advance['grab']\n",
    "            online_shopping_return = online_spending * hsbc_advance['online_shopping']\n",
    "            total_return = petrol_return + dining_return + groceries_return + grab_return + online_shopping_return\n",
    "        \n",
    "            # Setting the cap for the total return\n",
    "            if total_return > hsbc_advance['cap']:\n",
    "                total_return = hsbc_advance['cap']\n",
    "            return ['hsbc_advance',total_return]"
   ]
  },
  {
   "cell_type": "markdown",
   "id": "6b1f41c4",
   "metadata": {},
   "source": [
    "**6. Defining functions to perfom the calculation of returns for each miles card**"
   ]
  },
  {
   "cell_type": "markdown",
   "id": "c1d53a97",
   "metadata": {},
   "source": [
    "**DBS Altitude Visa Signature Card**"
   ]
  },
  {
   "cell_type": "code",
   "execution_count": 26,
   "id": "06f51379",
   "metadata": {},
   "outputs": [],
   "source": [
    "# Define calculation function for the dbs_altitude_visa_miles card\n",
    "def dbs_altitude_visa_miles_cal(df):\n",
    "    # Check if they are eligible for the card\n",
    "    if df['ques_2'] == 'Yes' and int(df['ques_3']) < dbs_altitude_visa_miles['minimum_income']['singaporean']:\n",
    "        return ['not_eligible', 0]\n",
    "    elif df['ques_2'] == 'No' and int(df['ques_3']) < dbs_altitude_visa_miles['minimum_income']['foreigner']:\n",
    "        return ['not_eligible', 0]\n",
    "    else:\n",
    "        # Calculate total spending\n",
    "        petrol_spending = int(df['ques_5'])\n",
    "        preferred_petrol = df['ques_4']\n",
    "        dining_spending = int(df['ques_6'])\n",
    "        groceries_spending = int(df['ques_8'])\n",
    "        preferred_groceries = df['ques_7']\n",
    "        grab_spending = int(df['ques_9'])\n",
    "        online_spending = int(df['ques_10'])\n",
    "        travel_partner = df['ques_11']\n",
    "        total_spending = petrol_spending + dining_spending + groceries_spending + grab_spending + online_spending\n",
    "        \n",
    "        # Calculate total return\n",
    "        petrol_return = petrol_spending * dbs_altitude_visa_miles['petrol'][preferred_petrol]\n",
    "        dining_return = dining_spending * dbs_altitude_visa_miles['dining']\n",
    "        groceries_return = groceries_spending * dbs_altitude_visa_miles['groceries'][preferred_groceries]\n",
    "        grab_return = grab_spending * dbs_altitude_visa_miles['grab']\n",
    "        online_shopping_return = online_spending * dbs_altitude_visa_miles['online_shopping']\n",
    "        total_return = petrol_return + dining_return + groceries_return + grab_return + online_shopping_return\n",
    "        \n",
    "        # Calculating the total miles based on preferred travel partner\n",
    "        total_miles = total_return * dbs_altitude_visa_miles['conversion_rate'][travel_partner]\n",
    "        return ['dbs_altitude_visa',total_miles]"
   ]
  },
  {
   "cell_type": "markdown",
   "id": "5776360d",
   "metadata": {},
   "source": [
    "**DBS Woman's World Card**"
   ]
  },
  {
   "cell_type": "code",
   "execution_count": 27,
   "id": "354e2ac2",
   "metadata": {},
   "outputs": [],
   "source": [
    "# Define calculation function for the dbs_womans_world_miles card\n",
    "def dbs_womans_world_miles_cal(df):\n",
    "    # Check if they are eligible for the card\n",
    "    if df['ques_2'] == 'Yes' and int(df['ques_3']) < dbs_womans_world_miles['minimum_income']['singaporean']:\n",
    "        return ['not_eligible', 0]\n",
    "    elif df['ques_2'] == 'No' and int(df['ques_3']) < dbs_womans_world_miles['minimum_income']['foreigner']:\n",
    "        return ['not_eligible', 0]\n",
    "    else:\n",
    "        # Setting spending parameters\n",
    "        petrol_spending = int(df['ques_5'])\n",
    "        preferred_petrol = df['ques_4']\n",
    "        dining_spending = int(df['ques_6'])\n",
    "        groceries_spending = int(df['ques_8'])\n",
    "        preferred_groceries = df['ques_7']\n",
    "        grab_spending = int(df['ques_9'])\n",
    "        online_spending = int(df['ques_10'])\n",
    "        travel_partner = df['ques_11']\n",
    "        \n",
    "        # Limiting the spending parameters based on the cap\n",
    "        if online_spending > dbs_womans_world_miles['online_shopping_cap']:\n",
    "            online_spending = dbs_womans_world_miles['online_shopping_cap']\n",
    "        \n",
    "        # Calculate total spending\n",
    "        total_spending = petrol_spending + dining_spending + groceries_spending + grab_spending + online_spending\n",
    "        \n",
    "        # Calculate total return\n",
    "        petrol_return = petrol_spending * dbs_womans_world_miles['petrol'][preferred_petrol]\n",
    "        dining_return = dining_spending * dbs_womans_world_miles['dining']\n",
    "        groceries_return = groceries_spending * dbs_womans_world_miles['groceries'][preferred_groceries]\n",
    "        grab_return = grab_spending * dbs_womans_world_miles['grab']\n",
    "        online_shopping_return = online_spending * dbs_womans_world_miles['online_shopping']\n",
    "        total_return = petrol_return + dining_return + groceries_return + grab_return + online_shopping_return\n",
    "        \n",
    "        # Calculating the total miles based on preferred travel partner\n",
    "        total_miles = total_return * dbs_womans_world_miles['conversion_rate'][travel_partner]\n",
    "        return ['dbs_womans_world_miles',total_miles]"
   ]
  },
  {
   "cell_type": "markdown",
   "id": "734db7f9",
   "metadata": {},
   "source": [
    "**Citi Rewards Credit Card**"
   ]
  },
  {
   "cell_type": "code",
   "execution_count": 28,
   "id": "f91bb3e9",
   "metadata": {},
   "outputs": [],
   "source": [
    "# Define calculation function for the citi_rewards_miles card\n",
    "def citi_rewards_miles_cal(df):\n",
    "    # Check if they are eligible for the card\n",
    "    if df['ques_2'] == 'Yes' and int(df['ques_3']) < citi_rewards_miles['minimum_income']['singaporean']:\n",
    "        return ['not_eligible', 0]\n",
    "    elif df['ques_2'] == 'No' and int(df['ques_3']) < citi_rewards_miles['minimum_income']['foreigner']:\n",
    "        return ['not_eligible', 0]\n",
    "    else:\n",
    "        # Setting spending parameters\n",
    "        petrol_spending = int(df['ques_5'])\n",
    "        preferred_petrol = df['ques_4']\n",
    "        dining_spending = int(df['ques_6'])\n",
    "        groceries_spending = int(df['ques_8'])\n",
    "        preferred_groceries = df['ques_7']\n",
    "        grab_spending = int(df['ques_9'])\n",
    "        online_spending = int(df['ques_10'])\n",
    "        travel_partner = df['ques_11']\n",
    "        \n",
    "        # Limiting the spending parameters based on the cap\n",
    "        if online_spending > citi_rewards_miles['online_shopping_cap']:\n",
    "            online_spending = citi_rewards_miles['online_shopping_cap']\n",
    "        \n",
    "        # Calculate total spending\n",
    "        total_spending = petrol_spending + dining_spending + groceries_spending + grab_spending + online_spending\n",
    "        \n",
    "        # Calculate total return\n",
    "        petrol_return = petrol_spending * citi_rewards_miles['petrol'][preferred_petrol]\n",
    "        dining_return = dining_spending * citi_rewards_miles['dining']\n",
    "        groceries_return = groceries_spending * citi_rewards_miles['groceries'][preferred_groceries]\n",
    "        grab_return = grab_spending * citi_rewards_miles['grab']\n",
    "        online_shopping_return = online_spending * citi_rewards_miles['online_shopping']\n",
    "        total_return = petrol_return + dining_return + groceries_return + grab_return + online_shopping_return\n",
    "        \n",
    "        # Calculating the total miles based on preferred travel partner\n",
    "        total_miles = total_return * citi_rewards_miles['conversion_rate'][travel_partner]\n",
    "        return ['citi_rewards_miles',total_miles]"
   ]
  },
  {
   "cell_type": "markdown",
   "id": "4996aa3b",
   "metadata": {},
   "source": [
    "**Amex Singapore Airlines Krisflyer Credit Card**"
   ]
  },
  {
   "cell_type": "code",
   "execution_count": 29,
   "id": "8952761c",
   "metadata": {},
   "outputs": [],
   "source": [
    "# Define calculation function for the amex_sia_krisflyer_miles card\n",
    "def amex_sia_krisflyer_miles_cal(df):\n",
    "    # Check if they are eligible for the card\n",
    "    if df['ques_2'] == 'Yes' and int(df['ques_3']) < amex_sia_krisflyer_miles['minimum_income']['singaporean']:\n",
    "        return ['not_eligible', 0]\n",
    "    elif df['ques_2'] == 'No' and int(df['ques_3']) < amex_sia_krisflyer_miles['minimum_income']['foreigner']:\n",
    "        return ['not_eligible', 0]\n",
    "    else:\n",
    "        # Setting spending parameters\n",
    "        petrol_spending = int(df['ques_5'])\n",
    "        preferred_petrol = df['ques_4']\n",
    "        dining_spending = int(df['ques_6'])\n",
    "        groceries_spending = int(df['ques_8'])\n",
    "        preferred_groceries = df['ques_7']\n",
    "        grab_spending = int(df['ques_9'])\n",
    "        online_spending = int(df['ques_10'])\n",
    "        travel_partner = df['ques_11']\n",
    "        \n",
    "        # Limiting the spending parameters based on the cap\n",
    "        if grab_spending > amex_sia_krisflyer_miles['grab_cap']:\n",
    "            grab_spending = amex_sia_krisflyer_miles['grab_cap']\n",
    "        \n",
    "        # Calculate total spending\n",
    "        total_spending = petrol_spending + dining_spending + groceries_spending + grab_spending + online_spending\n",
    "        \n",
    "        # Calculate total return\n",
    "        petrol_return = petrol_spending * amex_sia_krisflyer_miles['petrol'][preferred_petrol]\n",
    "        dining_return = dining_spending * amex_sia_krisflyer_miles['dining']\n",
    "        groceries_return = groceries_spending * amex_sia_krisflyer_miles['groceries'][preferred_groceries]\n",
    "        grab_return = grab_spending * amex_sia_krisflyer_miles['grab']\n",
    "        online_shopping_return = online_spending * amex_sia_krisflyer_miles['online_shopping']\n",
    "        total_return = petrol_return + dining_return + groceries_return + grab_return + online_shopping_return\n",
    "        \n",
    "        # Calculating the total miles based on preferred travel partner\n",
    "        total_miles = total_return * amex_sia_krisflyer_miles['conversion_rate'][travel_partner]\n",
    "        return ['amex_sia_krisflyer_miles',total_miles]"
   ]
  },
  {
   "cell_type": "markdown",
   "id": "67d2453e",
   "metadata": {},
   "source": [
    "**UOB Prvi Miles Visa Card**"
   ]
  },
  {
   "cell_type": "code",
   "execution_count": 30,
   "id": "55f228d8",
   "metadata": {},
   "outputs": [],
   "source": [
    "# Define calculation function for the uob_prvi_miles card\n",
    "def uob_prvi_miles_cal(df):\n",
    "    # Check if they are eligible for the card\n",
    "    if df['ques_2'] == 'Yes' and int(df['ques_3']) < uob_prvi_miles['minimum_income']['singaporean']:\n",
    "        return ['not_eligible', 0]\n",
    "    elif df['ques_2'] == 'No' and int(df['ques_3']) < uob_prvi_miles['minimum_income']['foreigner']:\n",
    "        return ['not_eligible', 0]\n",
    "    else:\n",
    "        # Setting spending parameters\n",
    "        petrol_spending = int(df['ques_5'])\n",
    "        preferred_petrol = df['ques_4']\n",
    "        dining_spending = int(df['ques_6'])\n",
    "        groceries_spending = int(df['ques_8'])\n",
    "        preferred_groceries = df['ques_7']\n",
    "        grab_spending = int(df['ques_9'])\n",
    "        online_spending = int(df['ques_10'])\n",
    "        travel_partner = df['ques_11']\n",
    "        \n",
    "        # Calculate total spending\n",
    "        total_spending = petrol_spending + dining_spending + groceries_spending + grab_spending + online_spending\n",
    "        \n",
    "        # Calculate total return\n",
    "        petrol_return = petrol_spending * uob_prvi_miles['petrol'][preferred_petrol]\n",
    "        dining_return = dining_spending * uob_prvi_miles['dining']\n",
    "        groceries_return = groceries_spending * uob_prvi_miles['groceries'][preferred_groceries]\n",
    "        grab_return = grab_spending * uob_prvi_miles['grab']\n",
    "        online_shopping_return = online_spending * uob_prvi_miles['online_shopping']\n",
    "        total_return = petrol_return + dining_return + groceries_return + grab_return + online_shopping_return\n",
    "        \n",
    "        # Calculating the total miles based on preferred travel partner\n",
    "        total_miles = total_return * uob_prvi_miles['conversion_rate'][travel_partner]\n",
    "        return ['uob_prvi_miles',total_miles]"
   ]
  },
  {
   "cell_type": "markdown",
   "id": "0e9a7029",
   "metadata": {},
   "source": [
    "**6. Importing the questionaire responses**"
   ]
  },
  {
   "cell_type": "markdown",
   "id": "fe04034d",
   "metadata": {},
   "source": [
    "Now that we have defined all the credit card functions, let us import the reponses that we have obtained for the questionaire and determine which is the best card for each user."
   ]
  },
  {
   "cell_type": "code",
   "execution_count": 31,
   "id": "c73ec3ef",
   "metadata": {},
   "outputs": [],
   "source": [
    "# Imported the completed questionaires\n",
    "cashback_questionaire_df = pd.read_csv('../dataset/3. cashback_questionaire_responses.csv')\n",
    "miles_questionaire_df = pd.read_csv('../dataset/3. miles_questionaire_responses.csv')"
   ]
  },
  {
   "cell_type": "markdown",
   "id": "9cca8690",
   "metadata": {},
   "source": [
    "**7. Converting all the cashback reponses using the paramaters found in the `questionaire` dictionary**"
   ]
  },
  {
   "cell_type": "markdown",
   "id": "8a1ab4ee",
   "metadata": {},
   "source": [
    "Our responses are currently all denominated in multiple choice form. We will have to convert them into numbers and text using the parameters found in the dictionary called `questionaire`. "
   ]
  },
  {
   "cell_type": "markdown",
   "id": "7ac72bce",
   "metadata": {},
   "source": [
    "**`Cashback` dataset**"
   ]
  },
  {
   "cell_type": "code",
   "execution_count": 32,
   "id": "8551eb48",
   "metadata": {},
   "outputs": [
    {
     "data": {
      "text/html": [
       "<div>\n",
       "<style scoped>\n",
       "    .dataframe tbody tr th:only-of-type {\n",
       "        vertical-align: middle;\n",
       "    }\n",
       "\n",
       "    .dataframe tbody tr th {\n",
       "        vertical-align: top;\n",
       "    }\n",
       "\n",
       "    .dataframe thead th {\n",
       "        text-align: right;\n",
       "    }\n",
       "</style>\n",
       "<table border=\"1\" class=\"dataframe\">\n",
       "  <thead>\n",
       "    <tr style=\"text-align: right;\">\n",
       "      <th></th>\n",
       "      <th>ques_1</th>\n",
       "      <th>ques_2</th>\n",
       "      <th>ques_3</th>\n",
       "      <th>ques_4</th>\n",
       "      <th>ques_5</th>\n",
       "      <th>ques_6</th>\n",
       "      <th>ques_7</th>\n",
       "      <th>ques_8</th>\n",
       "      <th>ques_9</th>\n",
       "      <th>ques_10</th>\n",
       "      <th>ques_11</th>\n",
       "    </tr>\n",
       "  </thead>\n",
       "  <tbody>\n",
       "    <tr>\n",
       "      <th>0</th>\n",
       "      <td>Cashback</td>\n",
       "      <td>Yes</td>\n",
       "      <td>49000</td>\n",
       "      <td>public_transport</td>\n",
       "      <td>100</td>\n",
       "      <td>899</td>\n",
       "      <td>cold_storage</td>\n",
       "      <td>999</td>\n",
       "      <td>0</td>\n",
       "      <td>899</td>\n",
       "      <td>cashback</td>\n",
       "    </tr>\n",
       "    <tr>\n",
       "      <th>1</th>\n",
       "      <td>Cashback</td>\n",
       "      <td>No</td>\n",
       "      <td>79000</td>\n",
       "      <td>esso</td>\n",
       "      <td>799</td>\n",
       "      <td>100</td>\n",
       "      <td>sheng_shiong</td>\n",
       "      <td>899</td>\n",
       "      <td>599</td>\n",
       "      <td>100</td>\n",
       "      <td>cashback</td>\n",
       "    </tr>\n",
       "    <tr>\n",
       "      <th>2</th>\n",
       "      <td>Cashback</td>\n",
       "      <td>No</td>\n",
       "      <td>49000</td>\n",
       "      <td>caltex</td>\n",
       "      <td>799</td>\n",
       "      <td>0</td>\n",
       "      <td>giant</td>\n",
       "      <td>899</td>\n",
       "      <td>999</td>\n",
       "      <td>899</td>\n",
       "      <td>cashback</td>\n",
       "    </tr>\n",
       "    <tr>\n",
       "      <th>3</th>\n",
       "      <td>Cashback</td>\n",
       "      <td>No</td>\n",
       "      <td>79000</td>\n",
       "      <td>spc</td>\n",
       "      <td>999</td>\n",
       "      <td>999</td>\n",
       "      <td>giant</td>\n",
       "      <td>799</td>\n",
       "      <td>100</td>\n",
       "      <td>0</td>\n",
       "      <td>cashback</td>\n",
       "    </tr>\n",
       "    <tr>\n",
       "      <th>4</th>\n",
       "      <td>Cashback</td>\n",
       "      <td>No</td>\n",
       "      <td>79000</td>\n",
       "      <td>caltex</td>\n",
       "      <td>899</td>\n",
       "      <td>999</td>\n",
       "      <td>sheng_shiong</td>\n",
       "      <td>799</td>\n",
       "      <td>799</td>\n",
       "      <td>999</td>\n",
       "      <td>cashback</td>\n",
       "    </tr>\n",
       "  </tbody>\n",
       "</table>\n",
       "</div>"
      ],
      "text/plain": [
       "     ques_1 ques_2 ques_3            ques_4 ques_5 ques_6        ques_7  \\\n",
       "0  Cashback    Yes  49000  public_transport    100    899  cold_storage   \n",
       "1  Cashback     No  79000              esso    799    100  sheng_shiong   \n",
       "2  Cashback     No  49000            caltex    799      0         giant   \n",
       "3  Cashback     No  79000               spc    999    999         giant   \n",
       "4  Cashback     No  79000            caltex    899    999  sheng_shiong   \n",
       "\n",
       "  ques_8 ques_9 ques_10   ques_11  \n",
       "0    999      0     899  cashback  \n",
       "1    899    599     100  cashback  \n",
       "2    899    999     899  cashback  \n",
       "3    799    100       0  cashback  \n",
       "4    799    799     999  cashback  "
      ]
     },
     "metadata": {},
     "output_type": "display_data"
    }
   ],
   "source": [
    "# Convert all the numbers in cashback_questionaire_df to values based on the parameters found in 'questionaire'\n",
    "for col in cashback_questionaire_df.columns:\n",
    "    for i, row in enumerate (cashback_questionaire_df[col]):\n",
    "        cashback_questionaire_df[col][i] = questionaire[col][str(row)]\n",
    "        \n",
    "display(cashback_questionaire_df.head())"
   ]
  },
  {
   "cell_type": "markdown",
   "id": "1dd2670b",
   "metadata": {},
   "source": [
    "**`Miles` dataset**"
   ]
  },
  {
   "cell_type": "code",
   "execution_count": 33,
   "id": "12933d32",
   "metadata": {},
   "outputs": [
    {
     "data": {
      "text/html": [
       "<div>\n",
       "<style scoped>\n",
       "    .dataframe tbody tr th:only-of-type {\n",
       "        vertical-align: middle;\n",
       "    }\n",
       "\n",
       "    .dataframe tbody tr th {\n",
       "        vertical-align: top;\n",
       "    }\n",
       "\n",
       "    .dataframe thead th {\n",
       "        text-align: right;\n",
       "    }\n",
       "</style>\n",
       "<table border=\"1\" class=\"dataframe\">\n",
       "  <thead>\n",
       "    <tr style=\"text-align: right;\">\n",
       "      <th></th>\n",
       "      <th>ques_1</th>\n",
       "      <th>ques_2</th>\n",
       "      <th>ques_3</th>\n",
       "      <th>ques_4</th>\n",
       "      <th>ques_5</th>\n",
       "      <th>ques_6</th>\n",
       "      <th>ques_7</th>\n",
       "      <th>ques_8</th>\n",
       "      <th>ques_9</th>\n",
       "      <th>ques_10</th>\n",
       "      <th>ques_11</th>\n",
       "    </tr>\n",
       "  </thead>\n",
       "  <tbody>\n",
       "    <tr>\n",
       "      <th>0</th>\n",
       "      <td>Miles</td>\n",
       "      <td>No</td>\n",
       "      <td>79000</td>\n",
       "      <td>caltex</td>\n",
       "      <td>999</td>\n",
       "      <td>899</td>\n",
       "      <td>sheng_shiong</td>\n",
       "      <td>599</td>\n",
       "      <td>999</td>\n",
       "      <td>0</td>\n",
       "      <td>turkish_miles_and_smiles</td>\n",
       "    </tr>\n",
       "    <tr>\n",
       "      <th>1</th>\n",
       "      <td>Miles</td>\n",
       "      <td>Yes</td>\n",
       "      <td>69000</td>\n",
       "      <td>shell</td>\n",
       "      <td>599</td>\n",
       "      <td>0</td>\n",
       "      <td>ntuc</td>\n",
       "      <td>0</td>\n",
       "      <td>999</td>\n",
       "      <td>999</td>\n",
       "      <td>krisflyer</td>\n",
       "    </tr>\n",
       "    <tr>\n",
       "      <th>2</th>\n",
       "      <td>Miles</td>\n",
       "      <td>No</td>\n",
       "      <td>69000</td>\n",
       "      <td>public_transport</td>\n",
       "      <td>399</td>\n",
       "      <td>100</td>\n",
       "      <td>ntuc</td>\n",
       "      <td>100</td>\n",
       "      <td>899</td>\n",
       "      <td>399</td>\n",
       "      <td>big_loyalty</td>\n",
       "    </tr>\n",
       "    <tr>\n",
       "      <th>3</th>\n",
       "      <td>Miles</td>\n",
       "      <td>No</td>\n",
       "      <td>89000</td>\n",
       "      <td>public_transport</td>\n",
       "      <td>100</td>\n",
       "      <td>799</td>\n",
       "      <td>cold_storage</td>\n",
       "      <td>599</td>\n",
       "      <td>999</td>\n",
       "      <td>100</td>\n",
       "      <td>etihad_guest</td>\n",
       "    </tr>\n",
       "    <tr>\n",
       "      <th>4</th>\n",
       "      <td>Miles</td>\n",
       "      <td>Yes</td>\n",
       "      <td>39000</td>\n",
       "      <td>caltex</td>\n",
       "      <td>399</td>\n",
       "      <td>100</td>\n",
       "      <td>giant</td>\n",
       "      <td>399</td>\n",
       "      <td>399</td>\n",
       "      <td>899</td>\n",
       "      <td>big_loyalty</td>\n",
       "    </tr>\n",
       "  </tbody>\n",
       "</table>\n",
       "</div>"
      ],
      "text/plain": [
       "  ques_1 ques_2 ques_3            ques_4 ques_5 ques_6        ques_7 ques_8  \\\n",
       "0  Miles     No  79000            caltex    999    899  sheng_shiong    599   \n",
       "1  Miles    Yes  69000             shell    599      0          ntuc      0   \n",
       "2  Miles     No  69000  public_transport    399    100          ntuc    100   \n",
       "3  Miles     No  89000  public_transport    100    799  cold_storage    599   \n",
       "4  Miles    Yes  39000            caltex    399    100         giant    399   \n",
       "\n",
       "  ques_9 ques_10                   ques_11  \n",
       "0    999       0  turkish_miles_and_smiles  \n",
       "1    999     999                 krisflyer  \n",
       "2    899     399               big_loyalty  \n",
       "3    999     100              etihad_guest  \n",
       "4    399     899               big_loyalty  "
      ]
     },
     "metadata": {},
     "output_type": "display_data"
    }
   ],
   "source": [
    "# Convert all the numbers in cashback_questionaire_df to values based on the parameters found in 'questionaire'\n",
    "for col in miles_questionaire_df.columns:\n",
    "    for i, row in enumerate (miles_questionaire_df[col]):\n",
    "        miles_questionaire_df[col][i] = questionaire[col][str(row)]\n",
    "        \n",
    "display(miles_questionaire_df.head())"
   ]
  },
  {
   "cell_type": "markdown",
   "id": "0f9754e8",
   "metadata": {},
   "source": [
    "**Calculating the best cashback card for each response**"
   ]
  },
  {
   "cell_type": "markdown",
   "id": "0c0d8534",
   "metadata": {},
   "source": [
    "Now that all the responses have been convereted, let's calculate the best card for both the cashback and miles dataset."
   ]
  },
  {
   "cell_type": "code",
   "execution_count": 34,
   "id": "9ea152d4",
   "metadata": {},
   "outputs": [],
   "source": [
    "# Define function to calculate the best cashback card for the entire dataset\n",
    "def calculate_best_cashback(df):\n",
    "    # Calculate the return for each row using the sc_unlimited_cashback card\n",
    "    for index, row in df.iterrows():\n",
    "        card_name = sc_unlimited_cashback_cal(row)[0]\n",
    "        card_return = sc_unlimited_cashback_cal(row)[1]\n",
    "        df.loc[index, 'card'] = card_name\n",
    "        df.loc[index, 'return'] = card_return\n",
    "    \n",
    "     # Calculate the return for each row using the posb_everyday_cashback card\n",
    "    for index, row in df.iterrows():\n",
    "        card_name = posb_everyday_cashback_cal(row)[0]\n",
    "        card_return = posb_everyday_cashback_cal(row)[1]\n",
    "        if card_return > row['return']:\n",
    "            df.loc[index, 'card'] = card_name\n",
    "            df.loc[index, 'return'] = card_return\n",
    "    \n",
    "    # Calculate the return for each row using the uob_one card\n",
    "    for index, row in df.iterrows():\n",
    "        card_name = uob_one_500_cal(row)[0]\n",
    "        card_return = uob_one_500_cal(row)[1]\n",
    "        if card_return > row['return']:\n",
    "            df.loc[index, 'card'] = card_name\n",
    "            df.loc[index, 'return'] = card_return\n",
    "            \n",
    "    # Calculate the return for each row using the uob_one card\n",
    "    for index, row in df.iterrows():\n",
    "        card_name = uob_one_1000_cal(row)[0]\n",
    "        card_return = uob_one_1000_cal(row)[1]\n",
    "        if card_return > row['return']:\n",
    "            df.loc[index, 'card'] = card_name\n",
    "            df.loc[index, 'return'] = card_return\n",
    "    \n",
    "    # Calculate the return for each row using the uob_one card\n",
    "    for index, row in df.iterrows():\n",
    "        card_name = uob_one_2000_cal(row)[0]\n",
    "        card_return = uob_one_2000_cal(row)[1]\n",
    "        if card_return > row['return']:\n",
    "            df.loc[index, 'card'] = card_name\n",
    "            df.loc[index, 'return'] = card_return\n",
    "    \n",
    "    # Calculate the return for each row using the amex_true_cashback card\n",
    "    for index, row in df.iterrows():\n",
    "        card_name = amex_true_cashback_cal(row)[0]\n",
    "        card_return = amex_true_cashback_cal(row)[1]\n",
    "        if card_return > row['return']:\n",
    "            df.loc[index, 'card'] = card_name\n",
    "            df.loc[index, 'return'] = card_return\n",
    "        \n",
    "    # Calculate the return for each row using the sc_spree_card_ card\n",
    "    for index, row in df.iterrows():\n",
    "        card_name = sc_spree_card_cal(row)[0]\n",
    "        card_return = sc_spree_card_cal(row)[1]\n",
    "        if card_return > row['return']:\n",
    "            df.loc[index, 'card'] = card_name\n",
    "            df.loc[index, 'return'] = card_return\n",
    "    \n",
    "    # Calculate the return for each row using the hsbc_advance card\n",
    "    for index, row in df.iterrows():\n",
    "        card_name = hsbc_advance_less_than_2000_cal(row)[0]\n",
    "        card_return = hsbc_advance_less_than_2000_cal(row)[1]\n",
    "        if card_return > row['return']:\n",
    "            df.loc[index, 'card'] = card_name\n",
    "            df.loc[index, 'return'] = card_return\n",
    "\n",
    "    # Calculate the return for each row using the hsbc_advance card\n",
    "    for index, row in df.iterrows():\n",
    "        card_name = hsbc_advance_cal(row)[0]\n",
    "        card_return = hsbc_advance_cal(row)[1]\n",
    "        if card_return > row['return']:\n",
    "            df.loc[index, 'card'] = card_name\n",
    "            df.loc[index, 'return'] = card_return"
   ]
  },
  {
   "cell_type": "code",
   "execution_count": 35,
   "id": "f8e36a54",
   "metadata": {},
   "outputs": [
    {
     "data": {
      "text/html": [
       "<div>\n",
       "<style scoped>\n",
       "    .dataframe tbody tr th:only-of-type {\n",
       "        vertical-align: middle;\n",
       "    }\n",
       "\n",
       "    .dataframe tbody tr th {\n",
       "        vertical-align: top;\n",
       "    }\n",
       "\n",
       "    .dataframe thead th {\n",
       "        text-align: right;\n",
       "    }\n",
       "</style>\n",
       "<table border=\"1\" class=\"dataframe\">\n",
       "  <thead>\n",
       "    <tr style=\"text-align: right;\">\n",
       "      <th></th>\n",
       "      <th>ques_1</th>\n",
       "      <th>ques_2</th>\n",
       "      <th>ques_3</th>\n",
       "      <th>ques_4</th>\n",
       "      <th>ques_5</th>\n",
       "      <th>ques_6</th>\n",
       "      <th>ques_7</th>\n",
       "      <th>ques_8</th>\n",
       "      <th>ques_9</th>\n",
       "      <th>ques_10</th>\n",
       "      <th>ques_11</th>\n",
       "      <th>card</th>\n",
       "      <th>return</th>\n",
       "    </tr>\n",
       "  </thead>\n",
       "  <tbody>\n",
       "    <tr>\n",
       "      <th>0</th>\n",
       "      <td>Cashback</td>\n",
       "      <td>Yes</td>\n",
       "      <td>49000</td>\n",
       "      <td>public_transport</td>\n",
       "      <td>100</td>\n",
       "      <td>899</td>\n",
       "      <td>cold_storage</td>\n",
       "      <td>999</td>\n",
       "      <td>0</td>\n",
       "      <td>899</td>\n",
       "      <td>cashback</td>\n",
       "      <td>uob_one</td>\n",
       "      <td>140.3033</td>\n",
       "    </tr>\n",
       "    <tr>\n",
       "      <th>1</th>\n",
       "      <td>Cashback</td>\n",
       "      <td>No</td>\n",
       "      <td>79000</td>\n",
       "      <td>esso</td>\n",
       "      <td>799</td>\n",
       "      <td>100</td>\n",
       "      <td>sheng_shiong</td>\n",
       "      <td>899</td>\n",
       "      <td>599</td>\n",
       "      <td>100</td>\n",
       "      <td>cashback</td>\n",
       "      <td>uob_one</td>\n",
       "      <td>106.9533</td>\n",
       "    </tr>\n",
       "    <tr>\n",
       "      <th>2</th>\n",
       "      <td>Cashback</td>\n",
       "      <td>No</td>\n",
       "      <td>49000</td>\n",
       "      <td>caltex</td>\n",
       "      <td>799</td>\n",
       "      <td>0</td>\n",
       "      <td>giant</td>\n",
       "      <td>899</td>\n",
       "      <td>999</td>\n",
       "      <td>899</td>\n",
       "      <td>cashback</td>\n",
       "      <td>uob_one</td>\n",
       "      <td>167.0000</td>\n",
       "    </tr>\n",
       "    <tr>\n",
       "      <th>3</th>\n",
       "      <td>Cashback</td>\n",
       "      <td>No</td>\n",
       "      <td>79000</td>\n",
       "      <td>spc</td>\n",
       "      <td>999</td>\n",
       "      <td>999</td>\n",
       "      <td>giant</td>\n",
       "      <td>799</td>\n",
       "      <td>100</td>\n",
       "      <td>0</td>\n",
       "      <td>cashback</td>\n",
       "      <td>uob_one</td>\n",
       "      <td>126.9633</td>\n",
       "    </tr>\n",
       "    <tr>\n",
       "      <th>4</th>\n",
       "      <td>Cashback</td>\n",
       "      <td>No</td>\n",
       "      <td>79000</td>\n",
       "      <td>caltex</td>\n",
       "      <td>899</td>\n",
       "      <td>999</td>\n",
       "      <td>sheng_shiong</td>\n",
       "      <td>799</td>\n",
       "      <td>799</td>\n",
       "      <td>999</td>\n",
       "      <td>cashback</td>\n",
       "      <td>uob_one</td>\n",
       "      <td>120.2933</td>\n",
       "    </tr>\n",
       "  </tbody>\n",
       "</table>\n",
       "</div>"
      ],
      "text/plain": [
       "     ques_1 ques_2 ques_3            ques_4 ques_5 ques_6        ques_7  \\\n",
       "0  Cashback    Yes  49000  public_transport    100    899  cold_storage   \n",
       "1  Cashback     No  79000              esso    799    100  sheng_shiong   \n",
       "2  Cashback     No  49000            caltex    799      0         giant   \n",
       "3  Cashback     No  79000               spc    999    999         giant   \n",
       "4  Cashback     No  79000            caltex    899    999  sheng_shiong   \n",
       "\n",
       "  ques_8 ques_9 ques_10   ques_11     card    return  \n",
       "0    999      0     899  cashback  uob_one  140.3033  \n",
       "1    899    599     100  cashback  uob_one  106.9533  \n",
       "2    899    999     899  cashback  uob_one  167.0000  \n",
       "3    799    100       0  cashback  uob_one  126.9633  \n",
       "4    799    799     999  cashback  uob_one  120.2933  "
      ]
     },
     "metadata": {},
     "output_type": "display_data"
    }
   ],
   "source": [
    "# Calculate the best cashback card for each user\n",
    "calculate_best_cashback(cashback_questionaire_df)\n",
    "cashback_converted_df = cashback_questionaire_df.copy()\n",
    "\n",
    "# Display the first few rows of the datset\n",
    "display(cashback_converted_df.head())"
   ]
  },
  {
   "cell_type": "markdown",
   "id": "e17205ee",
   "metadata": {},
   "source": [
    "**Calculating the best miles card for each response**"
   ]
  },
  {
   "cell_type": "code",
   "execution_count": 36,
   "id": "2de99d7b",
   "metadata": {},
   "outputs": [],
   "source": [
    "# Define function to calculate the best miles card for the entire dataset\n",
    "def calculate_best_miles(df):\n",
    "    # Calculate the return for each row using the dbs_altitude_visa_miles card\n",
    "    for index, row in df.iterrows():\n",
    "        card_name = dbs_altitude_visa_miles_cal(row)[0]\n",
    "        card_return = dbs_altitude_visa_miles_cal(row)[1]\n",
    "        df.loc[index, 'card'] = card_name\n",
    "        df.loc[index, 'return'] = card_return\n",
    "    \n",
    "    # Calculate the return for each row using the dbs_womans_world_miles card\n",
    "    for index, row in df.iterrows():\n",
    "        card_name = dbs_womans_world_miles_cal(row)[0]\n",
    "        card_return = dbs_womans_world_miles_cal(row)[1]\n",
    "        if card_return > row['return']:\n",
    "            df.loc[index, 'card'] = card_name\n",
    "            df.loc[index, 'return'] = card_return\n",
    "    \n",
    "    # Calculate the return for each row using the citi_rewards_miles card\n",
    "    for index, row in df.iterrows():\n",
    "        card_name = citi_rewards_miles_cal(row)[0]\n",
    "        card_return = citi_rewards_miles_cal(row)[1]\n",
    "        if card_return > row['return']:\n",
    "            df.loc[index, 'card'] = card_name\n",
    "            df.loc[index, 'return'] = card_return\n",
    "    \n",
    "    # Calculate the return for each row using the amex_sia_krisflyer_miles card\n",
    "    for index, row in df.iterrows():\n",
    "        card_name = amex_sia_krisflyer_miles_cal(row)[0]\n",
    "        card_return = amex_sia_krisflyer_miles_cal(row)[1]\n",
    "        if card_return > row['return']:\n",
    "            df.loc[index, 'card'] = card_name\n",
    "            df.loc[index, 'return'] = card_return\n",
    "    \n",
    "    # Calculate the return for each row using the uob_prvi_miles card\n",
    "    for index, row in df.iterrows():\n",
    "        card_name = uob_prvi_miles_cal(row)[0]\n",
    "        card_return = uob_prvi_miles_cal(row)[1]\n",
    "        if card_return > row['return']:\n",
    "            df.loc[index, 'card'] = card_name\n",
    "            df.loc[index, 'return'] = card_return"
   ]
  },
  {
   "cell_type": "code",
   "execution_count": 37,
   "id": "8ac96c28",
   "metadata": {},
   "outputs": [
    {
     "data": {
      "text/html": [
       "<div>\n",
       "<style scoped>\n",
       "    .dataframe tbody tr th:only-of-type {\n",
       "        vertical-align: middle;\n",
       "    }\n",
       "\n",
       "    .dataframe tbody tr th {\n",
       "        vertical-align: top;\n",
       "    }\n",
       "\n",
       "    .dataframe thead th {\n",
       "        text-align: right;\n",
       "    }\n",
       "</style>\n",
       "<table border=\"1\" class=\"dataframe\">\n",
       "  <thead>\n",
       "    <tr style=\"text-align: right;\">\n",
       "      <th></th>\n",
       "      <th>ques_1</th>\n",
       "      <th>ques_2</th>\n",
       "      <th>ques_3</th>\n",
       "      <th>ques_4</th>\n",
       "      <th>ques_5</th>\n",
       "      <th>ques_6</th>\n",
       "      <th>ques_7</th>\n",
       "      <th>ques_8</th>\n",
       "      <th>ques_9</th>\n",
       "      <th>ques_10</th>\n",
       "      <th>ques_11</th>\n",
       "      <th>card</th>\n",
       "      <th>return</th>\n",
       "    </tr>\n",
       "  </thead>\n",
       "  <tbody>\n",
       "    <tr>\n",
       "      <th>0</th>\n",
       "      <td>Miles</td>\n",
       "      <td>No</td>\n",
       "      <td>79000</td>\n",
       "      <td>caltex</td>\n",
       "      <td>999</td>\n",
       "      <td>899</td>\n",
       "      <td>sheng_shiong</td>\n",
       "      <td>599</td>\n",
       "      <td>999</td>\n",
       "      <td>0</td>\n",
       "      <td>turkish_miles_and_smiles</td>\n",
       "      <td>citi_rewards_miles</td>\n",
       "      <td>559.36</td>\n",
       "    </tr>\n",
       "    <tr>\n",
       "      <th>1</th>\n",
       "      <td>Miles</td>\n",
       "      <td>Yes</td>\n",
       "      <td>69000</td>\n",
       "      <td>shell</td>\n",
       "      <td>599</td>\n",
       "      <td>0</td>\n",
       "      <td>ntuc</td>\n",
       "      <td>0</td>\n",
       "      <td>999</td>\n",
       "      <td>999</td>\n",
       "      <td>krisflyer</td>\n",
       "      <td>uob_prvi_miles</td>\n",
       "      <td>7271.60</td>\n",
       "    </tr>\n",
       "    <tr>\n",
       "      <th>2</th>\n",
       "      <td>Miles</td>\n",
       "      <td>No</td>\n",
       "      <td>69000</td>\n",
       "      <td>public_transport</td>\n",
       "      <td>399</td>\n",
       "      <td>100</td>\n",
       "      <td>ntuc</td>\n",
       "      <td>100</td>\n",
       "      <td>899</td>\n",
       "      <td>399</td>\n",
       "      <td>big_loyalty</td>\n",
       "      <td>dbs_altitude_visa</td>\n",
       "      <td>6829.20</td>\n",
       "    </tr>\n",
       "    <tr>\n",
       "      <th>3</th>\n",
       "      <td>Miles</td>\n",
       "      <td>No</td>\n",
       "      <td>89000</td>\n",
       "      <td>public_transport</td>\n",
       "      <td>100</td>\n",
       "      <td>799</td>\n",
       "      <td>cold_storage</td>\n",
       "      <td>599</td>\n",
       "      <td>999</td>\n",
       "      <td>100</td>\n",
       "      <td>etihad_guest</td>\n",
       "      <td>citi_rewards_miles</td>\n",
       "      <td>559.52</td>\n",
       "    </tr>\n",
       "    <tr>\n",
       "      <th>4</th>\n",
       "      <td>Miles</td>\n",
       "      <td>Yes</td>\n",
       "      <td>39000</td>\n",
       "      <td>caltex</td>\n",
       "      <td>399</td>\n",
       "      <td>100</td>\n",
       "      <td>giant</td>\n",
       "      <td>399</td>\n",
       "      <td>399</td>\n",
       "      <td>899</td>\n",
       "      <td>big_loyalty</td>\n",
       "      <td>dbs_altitude_visa</td>\n",
       "      <td>7905.60</td>\n",
       "    </tr>\n",
       "  </tbody>\n",
       "</table>\n",
       "</div>"
      ],
      "text/plain": [
       "  ques_1 ques_2 ques_3            ques_4 ques_5 ques_6        ques_7 ques_8  \\\n",
       "0  Miles     No  79000            caltex    999    899  sheng_shiong    599   \n",
       "1  Miles    Yes  69000             shell    599      0          ntuc      0   \n",
       "2  Miles     No  69000  public_transport    399    100          ntuc    100   \n",
       "3  Miles     No  89000  public_transport    100    799  cold_storage    599   \n",
       "4  Miles    Yes  39000            caltex    399    100         giant    399   \n",
       "\n",
       "  ques_9 ques_10                   ques_11                card   return  \n",
       "0    999       0  turkish_miles_and_smiles  citi_rewards_miles   559.36  \n",
       "1    999     999                 krisflyer      uob_prvi_miles  7271.60  \n",
       "2    899     399               big_loyalty   dbs_altitude_visa  6829.20  \n",
       "3    999     100              etihad_guest  citi_rewards_miles   559.52  \n",
       "4    399     899               big_loyalty   dbs_altitude_visa  7905.60  "
      ]
     },
     "metadata": {},
     "output_type": "display_data"
    }
   ],
   "source": [
    "# Calculate the best miles card for each user\n",
    "calculate_best_miles(miles_questionaire_df)\n",
    "miles_converted_df = miles_questionaire_df.copy()\n",
    "\n",
    "# Display the first few rows of the dataset\n",
    "display(miles_converted_df.head())"
   ]
  },
  {
   "cell_type": "markdown",
   "id": "62652f46",
   "metadata": {},
   "source": [
    "Now that we have calculated the best cashback and miles card, let's combine the dataaset and check the number of responses each card have."
   ]
  },
  {
   "cell_type": "code",
   "execution_count": 38,
   "id": "43ee21da",
   "metadata": {},
   "outputs": [
    {
     "name": "stdout",
     "output_type": "stream",
     "text": [
      "(4000, 13)\n"
     ]
    }
   ],
   "source": [
    "# Merge the two datasets\n",
    "combined_converted_df = pd.merge(cashback_converted_df, miles_converted_df, how = 'outer')\n",
    "\n",
    "# Check the total number of rows to ensure that the dataset has been merged correctly\n",
    "print(combined_converted_df.shape)"
   ]
  },
  {
   "cell_type": "code",
   "execution_count": 39,
   "id": "f21cbe76",
   "metadata": {},
   "outputs": [
    {
     "name": "stdout",
     "output_type": "stream",
     "text": [
      "card\n",
      "hsbc_advance                10\n",
      "not_eligible               104\n",
      "posb_everyday_cashback     230\n",
      "sc_spree_card                6\n",
      "uob_one                   1650\n"
     ]
    }
   ],
   "source": [
    "# Check the counts of suggest card in the cashback dataset\n",
    "print(cashback_converted_df.groupby('card').card.count().to_string())"
   ]
  },
  {
   "cell_type": "code",
   "execution_count": 40,
   "id": "e0abc6ec",
   "metadata": {},
   "outputs": [
    {
     "name": "stdout",
     "output_type": "stream",
     "text": [
      "card\n",
      "citi_rewards_miles        852\n",
      "dbs_altitude_visa         475\n",
      "dbs_womans_world_miles     82\n",
      "not_eligible               66\n",
      "uob_prvi_miles            525\n"
     ]
    }
   ],
   "source": [
    "# Check the counts of suggest card in the miles dataset\n",
    "print(miles_converted_df.groupby('card').card.count().to_string())"
   ]
  },
  {
   "cell_type": "code",
   "execution_count": null,
   "id": "25dc96f2",
   "metadata": {},
   "outputs": [],
   "source": [
    "cashback_converted_df.to_csv('')\n",
    "miles_converted_df"
   ]
  },
  {
   "cell_type": "code",
   "execution_count": 41,
   "id": "bb09a77d",
   "metadata": {},
   "outputs": [
    {
     "name": "stdout",
     "output_type": "stream",
     "text": [
      "card\n",
      "citi_rewards_miles         852\n",
      "dbs_altitude_visa          475\n",
      "dbs_womans_world_miles      82\n",
      "hsbc_advance                10\n",
      "not_eligible               170\n",
      "posb_everyday_cashback     230\n",
      "sc_spree_card                6\n",
      "uob_one                   1650\n",
      "uob_prvi_miles             525\n"
     ]
    }
   ],
   "source": [
    "# Check the counts of suggest card in the combined dataset\n",
    "print(combined_converted_df.groupby('card').card.count().to_string())"
   ]
  },
  {
   "cell_type": "markdown",
   "id": "73166efa",
   "metadata": {},
   "source": [
    "Let's model prepare the model to predict the cards based on customers' responses."
   ]
  },
  {
   "cell_type": "markdown",
   "id": "acef370d",
   "metadata": {},
   "source": [
    "## Modelling"
   ]
  },
  {
   "cell_type": "markdown",
   "id": "c97be30f",
   "metadata": {},
   "source": [
    "**1. Convert features into numerical format**"
   ]
  },
  {
   "cell_type": "markdown",
   "id": "4e2ab09f",
   "metadata": {},
   "source": [
    "In order to perform modelling, we will have to convert our dataset back into multiple-choice format."
   ]
  },
  {
   "cell_type": "code",
   "execution_count": 42,
   "id": "c94e002a",
   "metadata": {},
   "outputs": [],
   "source": [
    "# Imported the original completed questionaires\n",
    "cashback_questionaire_df = pd.read_csv('../dataset/3. cashback_questionaire_responses.csv')\n",
    "miles_questionaire_df = pd.read_csv('../dataset/3. miles_questionaire_responses.csv')"
   ]
  },
  {
   "cell_type": "code",
   "execution_count": 43,
   "id": "edb03c68",
   "metadata": {},
   "outputs": [
    {
     "name": "stdout",
     "output_type": "stream",
     "text": [
      "Cashback Dataset:\n"
     ]
    },
    {
     "data": {
      "text/html": [
       "<div>\n",
       "<style scoped>\n",
       "    .dataframe tbody tr th:only-of-type {\n",
       "        vertical-align: middle;\n",
       "    }\n",
       "\n",
       "    .dataframe tbody tr th {\n",
       "        vertical-align: top;\n",
       "    }\n",
       "\n",
       "    .dataframe thead th {\n",
       "        text-align: right;\n",
       "    }\n",
       "</style>\n",
       "<table border=\"1\" class=\"dataframe\">\n",
       "  <thead>\n",
       "    <tr style=\"text-align: right;\">\n",
       "      <th></th>\n",
       "      <th>ques_1</th>\n",
       "      <th>ques_2</th>\n",
       "      <th>ques_3</th>\n",
       "      <th>ques_4</th>\n",
       "      <th>ques_5</th>\n",
       "      <th>ques_6</th>\n",
       "      <th>ques_7</th>\n",
       "      <th>ques_8</th>\n",
       "      <th>ques_9</th>\n",
       "      <th>ques_10</th>\n",
       "      <th>ques_11</th>\n",
       "      <th>card</th>\n",
       "    </tr>\n",
       "  </thead>\n",
       "  <tbody>\n",
       "    <tr>\n",
       "      <th>0</th>\n",
       "      <td>1</td>\n",
       "      <td>1</td>\n",
       "      <td>3</td>\n",
       "      <td>1</td>\n",
       "      <td>2</td>\n",
       "      <td>6</td>\n",
       "      <td>3</td>\n",
       "      <td>7</td>\n",
       "      <td>1</td>\n",
       "      <td>6</td>\n",
       "      <td>1</td>\n",
       "      <td>uob_one</td>\n",
       "    </tr>\n",
       "    <tr>\n",
       "      <th>1</th>\n",
       "      <td>1</td>\n",
       "      <td>2</td>\n",
       "      <td>6</td>\n",
       "      <td>2</td>\n",
       "      <td>5</td>\n",
       "      <td>2</td>\n",
       "      <td>4</td>\n",
       "      <td>6</td>\n",
       "      <td>4</td>\n",
       "      <td>2</td>\n",
       "      <td>1</td>\n",
       "      <td>uob_one</td>\n",
       "    </tr>\n",
       "    <tr>\n",
       "      <th>2</th>\n",
       "      <td>1</td>\n",
       "      <td>2</td>\n",
       "      <td>3</td>\n",
       "      <td>5</td>\n",
       "      <td>5</td>\n",
       "      <td>1</td>\n",
       "      <td>2</td>\n",
       "      <td>6</td>\n",
       "      <td>7</td>\n",
       "      <td>6</td>\n",
       "      <td>1</td>\n",
       "      <td>uob_one</td>\n",
       "    </tr>\n",
       "    <tr>\n",
       "      <th>3</th>\n",
       "      <td>1</td>\n",
       "      <td>2</td>\n",
       "      <td>6</td>\n",
       "      <td>4</td>\n",
       "      <td>7</td>\n",
       "      <td>7</td>\n",
       "      <td>2</td>\n",
       "      <td>5</td>\n",
       "      <td>2</td>\n",
       "      <td>1</td>\n",
       "      <td>1</td>\n",
       "      <td>uob_one</td>\n",
       "    </tr>\n",
       "    <tr>\n",
       "      <th>4</th>\n",
       "      <td>1</td>\n",
       "      <td>2</td>\n",
       "      <td>6</td>\n",
       "      <td>5</td>\n",
       "      <td>6</td>\n",
       "      <td>7</td>\n",
       "      <td>4</td>\n",
       "      <td>5</td>\n",
       "      <td>5</td>\n",
       "      <td>7</td>\n",
       "      <td>1</td>\n",
       "      <td>uob_one</td>\n",
       "    </tr>\n",
       "  </tbody>\n",
       "</table>\n",
       "</div>"
      ],
      "text/plain": [
       "   ques_1  ques_2  ques_3  ques_4  ques_5  ques_6  ques_7  ques_8  ques_9  \\\n",
       "0       1       1       3       1       2       6       3       7       1   \n",
       "1       1       2       6       2       5       2       4       6       4   \n",
       "2       1       2       3       5       5       1       2       6       7   \n",
       "3       1       2       6       4       7       7       2       5       2   \n",
       "4       1       2       6       5       6       7       4       5       5   \n",
       "\n",
       "   ques_10  ques_11     card  \n",
       "0        6        1  uob_one  \n",
       "1        2        1  uob_one  \n",
       "2        6        1  uob_one  \n",
       "3        1        1  uob_one  \n",
       "4        7        1  uob_one  "
      ]
     },
     "metadata": {},
     "output_type": "display_data"
    },
    {
     "name": "stdout",
     "output_type": "stream",
     "text": [
      "Miles Dataset:\n"
     ]
    },
    {
     "data": {
      "text/html": [
       "<div>\n",
       "<style scoped>\n",
       "    .dataframe tbody tr th:only-of-type {\n",
       "        vertical-align: middle;\n",
       "    }\n",
       "\n",
       "    .dataframe tbody tr th {\n",
       "        vertical-align: top;\n",
       "    }\n",
       "\n",
       "    .dataframe thead th {\n",
       "        text-align: right;\n",
       "    }\n",
       "</style>\n",
       "<table border=\"1\" class=\"dataframe\">\n",
       "  <thead>\n",
       "    <tr style=\"text-align: right;\">\n",
       "      <th></th>\n",
       "      <th>ques_1</th>\n",
       "      <th>ques_2</th>\n",
       "      <th>ques_3</th>\n",
       "      <th>ques_4</th>\n",
       "      <th>ques_5</th>\n",
       "      <th>ques_6</th>\n",
       "      <th>ques_7</th>\n",
       "      <th>ques_8</th>\n",
       "      <th>ques_9</th>\n",
       "      <th>ques_10</th>\n",
       "      <th>ques_11</th>\n",
       "      <th>card</th>\n",
       "    </tr>\n",
       "  </thead>\n",
       "  <tbody>\n",
       "    <tr>\n",
       "      <th>0</th>\n",
       "      <td>2</td>\n",
       "      <td>2</td>\n",
       "      <td>6</td>\n",
       "      <td>5</td>\n",
       "      <td>7</td>\n",
       "      <td>6</td>\n",
       "      <td>4</td>\n",
       "      <td>4</td>\n",
       "      <td>7</td>\n",
       "      <td>1</td>\n",
       "      <td>8</td>\n",
       "      <td>citi_rewards_miles</td>\n",
       "    </tr>\n",
       "    <tr>\n",
       "      <th>1</th>\n",
       "      <td>2</td>\n",
       "      <td>1</td>\n",
       "      <td>5</td>\n",
       "      <td>3</td>\n",
       "      <td>4</td>\n",
       "      <td>1</td>\n",
       "      <td>1</td>\n",
       "      <td>1</td>\n",
       "      <td>7</td>\n",
       "      <td>7</td>\n",
       "      <td>2</td>\n",
       "      <td>uob_prvi_miles</td>\n",
       "    </tr>\n",
       "    <tr>\n",
       "      <th>2</th>\n",
       "      <td>2</td>\n",
       "      <td>2</td>\n",
       "      <td>5</td>\n",
       "      <td>1</td>\n",
       "      <td>3</td>\n",
       "      <td>2</td>\n",
       "      <td>1</td>\n",
       "      <td>2</td>\n",
       "      <td>6</td>\n",
       "      <td>3</td>\n",
       "      <td>5</td>\n",
       "      <td>dbs_altitude_visa</td>\n",
       "    </tr>\n",
       "    <tr>\n",
       "      <th>3</th>\n",
       "      <td>2</td>\n",
       "      <td>2</td>\n",
       "      <td>7</td>\n",
       "      <td>1</td>\n",
       "      <td>2</td>\n",
       "      <td>5</td>\n",
       "      <td>3</td>\n",
       "      <td>4</td>\n",
       "      <td>7</td>\n",
       "      <td>2</td>\n",
       "      <td>7</td>\n",
       "      <td>citi_rewards_miles</td>\n",
       "    </tr>\n",
       "    <tr>\n",
       "      <th>4</th>\n",
       "      <td>2</td>\n",
       "      <td>1</td>\n",
       "      <td>2</td>\n",
       "      <td>5</td>\n",
       "      <td>3</td>\n",
       "      <td>2</td>\n",
       "      <td>2</td>\n",
       "      <td>3</td>\n",
       "      <td>3</td>\n",
       "      <td>6</td>\n",
       "      <td>5</td>\n",
       "      <td>dbs_altitude_visa</td>\n",
       "    </tr>\n",
       "  </tbody>\n",
       "</table>\n",
       "</div>"
      ],
      "text/plain": [
       "   ques_1  ques_2  ques_3  ques_4  ques_5  ques_6  ques_7  ques_8  ques_9  \\\n",
       "0       2       2       6       5       7       6       4       4       7   \n",
       "1       2       1       5       3       4       1       1       1       7   \n",
       "2       2       2       5       1       3       2       1       2       6   \n",
       "3       2       2       7       1       2       5       3       4       7   \n",
       "4       2       1       2       5       3       2       2       3       3   \n",
       "\n",
       "   ques_10  ques_11                card  \n",
       "0        1        8  citi_rewards_miles  \n",
       "1        7        2      uob_prvi_miles  \n",
       "2        3        5   dbs_altitude_visa  \n",
       "3        2        7  citi_rewards_miles  \n",
       "4        6        5   dbs_altitude_visa  "
      ]
     },
     "metadata": {},
     "output_type": "display_data"
    }
   ],
   "source": [
    "# Creating the card column in cashback_questionaire_df and miles_questionaire_df\n",
    "cashback_questionaire_df['card'] = cashback_converted_df['card']\n",
    "miles_questionaire_df['card'] = miles_converted_df['card']\n",
    "\n",
    "# Display the two datasets after the changes above\n",
    "print('Cashback Dataset:')\n",
    "display(cashback_questionaire_df.head())\n",
    "print('Miles Dataset:')\n",
    "display(miles_questionaire_df.head())"
   ]
  },
  {
   "cell_type": "code",
   "execution_count": 44,
   "id": "c627ed2e",
   "metadata": {},
   "outputs": [
    {
     "name": "stdout",
     "output_type": "stream",
     "text": [
      "(4000, 12)\n"
     ]
    }
   ],
   "source": [
    "# Combined the two dataset into one combined dataset\n",
    "combined_questionaire_df = pd.merge(cashback_questionaire_df, miles_questionaire_df, how = 'outer')\n",
    "\n",
    "# Check the total number of rows to ensure that the dataset has been merged correctly\n",
    "print(combined_questionaire_df.shape)"
   ]
  },
  {
   "cell_type": "markdown",
   "id": "293f1cd9",
   "metadata": {},
   "source": [
    "**2. Convert target column into numerical format**"
   ]
  },
  {
   "cell_type": "markdown",
   "id": "babc4bfe",
   "metadata": {},
   "source": [
    "Since the model isn't able to read text, we will also need to convert our target column into numerical format."
   ]
  },
  {
   "cell_type": "code",
   "execution_count": 45,
   "id": "6e346111",
   "metadata": {},
   "outputs": [
    {
     "data": {
      "image/png": "[encoded data removed]",
      "text/plain": [
       "<Figure size 432x288 with 1 Axes>"
      ]
     },
     "metadata": {
      "needs_background": "light"
     },
     "output_type": "display_data"
    }
   ],
   "source": [
    "# Convert subreddit labels to binary\n",
    "combined_questionaire_df['label'] = combined_questionaire_df['card'].map({\n",
    "    'not_eligible': 1, \n",
    "    'hsbc_advance': 2, \n",
    "    'posb_everyday_cashback': 3, \n",
    "    'sc_spree_card': 4,\n",
    "    'uob_one': 5, \n",
    "    'citi_rewards_miles': 6, \n",
    "    'dbs_altitude_visa': 7, \n",
    "    'dbs_womans_world_miles': 8, \n",
    "    'uob_prvi_miles': 9, })\n",
    "\n",
    "# Check that all the target variables have been converted\n",
    "label_cat = sns.countplot(x='label', data=combined_questionaire_df, palette='husl');"
   ]
  },
  {
   "cell_type": "code",
   "execution_count": 46,
   "id": "e68cdff5",
   "metadata": {},
   "outputs": [],
   "source": [
    "# for each column, load in only if it is not 'card' and 'return'\n",
    "features = [col for col in combined_questionaire_df.columns if col != 'card' and col != 'label']\n",
    "X = combined_questionaire_df[features]\n",
    "y = combined_questionaire_df['label']\n",
    "\n",
    "# Train_test_split\n",
    "X_train, X_test, y_train, y_test = train_test_split(X, y, random_state=42, stratify = y)"
   ]
  },
  {
   "cell_type": "markdown",
   "id": "cced9ce0",
   "metadata": {},
   "source": [
    "Now that we have prepared the dataset, let'start with modelling."
   ]
  },
  {
   "cell_type": "markdown",
   "id": "5cc1745e",
   "metadata": {},
   "source": [
    "**3. Modelling**"
   ]
  },
  {
   "cell_type": "markdown",
   "id": "d60e4dbd",
   "metadata": {},
   "source": [
    "We will use the below models to make the prediction:\n",
    "- K Nearest Neighbour\n",
    "- Random Forest Classifier\n",
    "- Ada Boost Classifier\n",
    "- Gradient Boost Classifier"
   ]
  },
  {
   "cell_type": "markdown",
   "id": "cfa50842",
   "metadata": {},
   "source": [
    "**K Nearest Neighbour**"
   ]
  },
  {
   "cell_type": "code",
   "execution_count": 47,
   "id": "a2886c27",
   "metadata": {},
   "outputs": [
    {
     "name": "stdout",
     "output_type": "stream",
     "text": [
      "KNN Cross Validation Score: 0.742\n",
      "KNN Test Score: 0.75\n"
     ]
    }
   ],
   "source": [
    "# Instantiate a class instance of KNN class with an initial parameter value\n",
    "knn = KNeighborsClassifier(n_neighbors=5)\n",
    "knn.fit(X_train, y_train)\n",
    "\n",
    "# Derive the cross-val score for training set\n",
    "print(f'KNN Cross Validation Score: {round(cross_val_score(knn, X_train, y_train, cv=5).mean(),3)}')\n",
    "\n",
    "# Check the test score\n",
    "y_pred_knn = knn.predict(X_test)\n",
    "print(f'KNN Test Score: {round(accuracy_score(y_test, y_pred_knn),3)}')"
   ]
  },
  {
   "cell_type": "markdown",
   "id": "8269466b",
   "metadata": {},
   "source": [
    "**Random Forest Classifier**"
   ]
  },
  {
   "cell_type": "code",
   "execution_count": 48,
   "id": "e0e71c0e",
   "metadata": {},
   "outputs": [
    {
     "name": "stdout",
     "output_type": "stream",
     "text": [
      "Random Forest Cross Validation Score: 0.941\n",
      "Random Forest Test Score: 0.94\n"
     ]
    }
   ],
   "source": [
    "# Train the Random Forest Model\n",
    "rf = RandomForestClassifier(n_estimators=100, max_features=\"auto\",random_state=42)\n",
    "rf.fit(X_train, y_train)\n",
    "\n",
    "# Derive the cross-val score for training set\n",
    "print(f'Random Forest Cross Validation Score: {round(cross_val_score(rf, X_train, y_train, cv=5).mean(),3)}')\n",
    "\n",
    "# Check the test score\n",
    "y_pred_rf = rf.predict(X_test)\n",
    "print(f'Random Forest Test Score: {round(accuracy_score(y_test, y_pred_rf),3)}')"
   ]
  },
  {
   "cell_type": "markdown",
   "id": "1b465b9a",
   "metadata": {},
   "source": [
    "**Ada Boost Classifier**"
   ]
  },
  {
   "cell_type": "code",
   "execution_count": 49,
   "id": "bbe887b9",
   "metadata": {},
   "outputs": [
    {
     "name": "stdout",
     "output_type": "stream",
     "text": [
      "Ada Boost Cross Validation Score: 0.752\n",
      "Ada Boost Test Score: 0.768\n"
     ]
    }
   ],
   "source": [
    "# Train the Ada Boost Model\n",
    "ab = AdaBoostClassifier(n_estimators=100)\n",
    "ab.fit(X_train, y_train)\n",
    "\n",
    "# Derive the cross-val score for training set\n",
    "print(f'Ada Boost Cross Validation Score: {round(cross_val_score(ab, X_train, y_train, cv=5).mean(),3)}')\n",
    "\n",
    "# Check the test score\n",
    "y_pred_ab = ab.predict(X_test)\n",
    "print(f'Ada Boost Test Score: {round(accuracy_score(y_test, y_pred_ab),3)}')"
   ]
  },
  {
   "cell_type": "markdown",
   "id": "b825b22e",
   "metadata": {},
   "source": [
    "**Gradient Boost Classifier**"
   ]
  },
  {
   "cell_type": "code",
   "execution_count": 50,
   "id": "7f8123da",
   "metadata": {},
   "outputs": [
    {
     "name": "stdout",
     "output_type": "stream",
     "text": [
      "Gradient Boost Cross Validation Score: 0.953\n",
      "Gradient Boost Test Score: 0.831\n"
     ]
    }
   ],
   "source": [
    "# Train the Gradient Boost Model\n",
    "gb = GradientBoostingClassifier(n_estimators=100)\n",
    "gb.fit(X_train, y_train)\n",
    "\n",
    "# Derive the cross-val score for training set\n",
    "print(f'Gradient Boost Cross Validation Score: {round(cross_val_score(gb, X_train, y_train, cv=5).mean(),3)}')\n",
    "\n",
    "# Check the test score\n",
    "y_pred_gb = gb.predict(X_test)\n",
    "print(f'Gradient Boost Test Score: {round(accuracy_score(y_test, y_pred_gb),3)}')"
   ]
  },
  {
   "cell_type": "markdown",
   "id": "94cda867",
   "metadata": {},
   "source": [
    "**Train-Test Summary Score:**"
   ]
  },
  {
   "cell_type": "markdown",
   "id": "e1af9258",
   "metadata": {},
   "source": [
    "The scores are as per below:\n",
    "\n",
    "| Model | Train Results | Test Results |\n",
    "|:--|:-:|:-:|\n",
    "|K Nearest Neighbour|0.742|0.750|\n",
    "|**<font color = blue>Random Forest</font>**|**<font color = blue>0.943</font>**|**<font color = blue>0.945</font>**|\n",
    "|Ada Boost|0.752|0.768|\n",
    "|Gradient Boost|0.953|0.831|"
   ]
  },
  {
   "cell_type": "markdown",
   "id": "f4bba33b",
   "metadata": {},
   "source": [
    "The first round of train and test results looks rather promosing. The best performing model is the Random Forest Classifier with a train result of 0.943 and a test result of 0.945. Gradient Boost Classifier had a higher train result of 0..953 but there seems to be overfitting as the difference between the train result and test result is more than 0.1."
   ]
  },
  {
   "cell_type": "markdown",
   "id": "6280cccd",
   "metadata": {},
   "source": [
    "**4. Addressing Class Imbalance using Smote**"
   ]
  },
  {
   "cell_type": "markdown",
   "id": "8b5fb1b3",
   "metadata": {},
   "source": [
    "SMOTE stands for Synthetic Minority Oversampling Technique. SMOTE is an oversampling technique where the synthetic samples are generated for the minority class. This algorithm helps to overcome the overfitting problem posed by random oversampling. It focuses on the feature space to generate new instances with the help of interpolation between the positive instances that lie together. [(source)](https://www.analyticsvidhya.com/blog/2020/10/overcoming-class-imbalance-using-smote-techniques/)\n",
    "\n",
    "Due to imbalanced data, it is possible to make a model that appears very accurate, while it actually is useless. This is because traditional machine learning models and evaluation metrics that assume a balanced class distribution."
   ]
  },
  {
   "cell_type": "code",
   "execution_count": 51,
   "id": "a20869c4",
   "metadata": {},
   "outputs": [
    {
     "name": "stdout",
     "output_type": "stream",
     "text": [
      "Distribution before applying SMOTE:\n",
      "5    1237\n",
      "6     639\n",
      "9     394\n",
      "7     356\n",
      "3     173\n",
      "1     128\n",
      "8      62\n",
      "2       7\n",
      "4       4\n",
      "\n",
      "\n",
      "Distribution after applying SMOTE:\n",
      "6    1237\n",
      "7    1237\n",
      "5    1237\n",
      "9    1237\n",
      "2    1237\n",
      "1    1237\n",
      "8    1237\n",
      "3    1237\n",
      "4    1237\n"
     ]
    }
   ],
   "source": [
    "# Value counts before applying smote\n",
    "print('Distribution before applying SMOTE:')\n",
    "print(y_train.value_counts().to_string())\n",
    "\n",
    "#Oversampling the data\n",
    "smote = SMOTE(random_state = 42, k_neighbors = 3)\n",
    "X_train_smote, y_train_smote = smote.fit_resample(X_train, y_train)\n",
    "print(\"\\n\")\n",
    "\n",
    "# Check that smote has been applied to X_train and y_train\n",
    "print('Distribution after applying SMOTE:')\n",
    "print(y_train_smote.value_counts().to_string())"
   ]
  },
  {
   "cell_type": "markdown",
   "id": "93005cc8",
   "metadata": {},
   "source": [
    "**K Nearest Neighbour**"
   ]
  },
  {
   "cell_type": "code",
   "execution_count": 52,
   "id": "b82e7da4",
   "metadata": {},
   "outputs": [
    {
     "name": "stdout",
     "output_type": "stream",
     "text": [
      "KNN Cross Validation Score: 0.742\n",
      "KNN Test Score: 0.711\n"
     ]
    }
   ],
   "source": [
    "# Instantiate a class instance of KNN class with an initial parameter value\n",
    "knn = KNeighborsClassifier(n_neighbors=5)\n",
    "knn.fit(X_train_smote, y_train_smote)\n",
    "\n",
    "# Derive the cross-val score for training set\n",
    "print(f'KNN Cross Validation Score: {round(cross_val_score(knn, X_train, y_train, cv=5).mean(),3)}')\n",
    "\n",
    "# Check the test score\n",
    "print(f'KNN Test Score: {round(knn.score(X_test, y_test),3)}')"
   ]
  },
  {
   "cell_type": "markdown",
   "id": "1abe5cd1",
   "metadata": {},
   "source": [
    "**Random Forest Classifier**"
   ]
  },
  {
   "cell_type": "code",
   "execution_count": 53,
   "id": "8ae0b37e",
   "metadata": {},
   "outputs": [
    {
     "name": "stdout",
     "output_type": "stream",
     "text": [
      "Random Forest Cross Validation Score: 0.941\n",
      "Random Forest Test Score: 0.934\n"
     ]
    }
   ],
   "source": [
    "# Train the Random Forest Model\n",
    "rf = RandomForestClassifier(n_estimators=100, max_features=\"auto\",random_state=42)\n",
    "rf.fit(X_train_smote, y_train_smote)\n",
    "\n",
    "# Derive the cross-val score for training set\n",
    "print(f'Random Forest Cross Validation Score: {round(cross_val_score(rf, X_train, y_train, cv=5).mean(),3)}')\n",
    "\n",
    "# Check the test score\n",
    "y_pred_rf = rf.predict(X_test)\n",
    "print(f'Random Forest Test Score: {round(accuracy_score(y_test, y_pred_rf),3)}')"
   ]
  },
  {
   "cell_type": "markdown",
   "id": "442803c7",
   "metadata": {},
   "source": [
    "**Ada Boost Classifier**"
   ]
  },
  {
   "cell_type": "code",
   "execution_count": 54,
   "id": "3b74c5c8",
   "metadata": {},
   "outputs": [
    {
     "name": "stdout",
     "output_type": "stream",
     "text": [
      "Ada Boost Cross Validation Score: 0.752\n",
      "Ada Boost Test Score: 0.456\n"
     ]
    }
   ],
   "source": [
    "# Train the Ada Boost Model\n",
    "ab = AdaBoostClassifier(n_estimators=100)\n",
    "ab.fit(X_train_smote, y_train_smote)\n",
    "\n",
    "# Derive the cross-val score for training set\n",
    "print(f'Ada Boost Cross Validation Score: {round(cross_val_score(ab, X_train, y_train, cv=5).mean(),3)}')\n",
    "\n",
    "# Check the test score\n",
    "y_pred_ab = ab.predict(X_test)\n",
    "print(f'Ada Boost Test Score: {round(accuracy_score(y_test, y_pred_ab),3)}')"
   ]
  },
  {
   "cell_type": "markdown",
   "id": "4ced96c5",
   "metadata": {},
   "source": [
    "**Gradient Boost Classifier**"
   ]
  },
  {
   "cell_type": "code",
   "execution_count": 55,
   "id": "9721c192",
   "metadata": {},
   "outputs": [
    {
     "name": "stdout",
     "output_type": "stream",
     "text": [
      "Gradient Boost Cross Validation Score: 0.953\n",
      "Gradient Boost Test Score: 0.938\n"
     ]
    }
   ],
   "source": [
    "# Train the Gradient Boost Model\n",
    "gb = GradientBoostingClassifier(n_estimators=100)\n",
    "gb.fit(X_train_smote, y_train_smote)\n",
    "\n",
    "# Derive the cross-val score for training set\n",
    "print(f'Gradient Boost Cross Validation Score: {round(cross_val_score(gb, X_train, y_train, cv=5).mean(),3)}')\n",
    "\n",
    "# Check the test score\n",
    "y_pred_gb = gb.predict(X_test)\n",
    "print(f'Gradient Boost Test Score: {round(accuracy_score(y_test, y_pred_gb),3)}')"
   ]
  },
  {
   "cell_type": "markdown",
   "id": "b8fe6f98",
   "metadata": {},
   "source": [
    "**Train-Test Summary Score (After Applying Smote):**"
   ]
  },
  {
   "cell_type": "markdown",
   "id": "49b4a3c0",
   "metadata": {},
   "source": [
    "The scores are as per below:\n",
    "\n",
    "| Model | Train Results | Test Results |\n",
    "|:--|:-:|:-:|\n",
    "|K Nearest Neighbour Classifier|0.742|0.711|\n",
    "|Random Forest Classifier|0.943|0.934|\n",
    "|Ada Boost Classifier|0.752|0.456|\n",
    "|**<font color = blue>Gradient Boost Classifier</font>**|**<font color = blue>0.953</font>**|**<font color = blue>0.938</font>**|"
   ]
  },
  {
   "cell_type": "markdown",
   "id": "84bb04a8",
   "metadata": {},
   "source": [
    "After applying SMOTE, the all the test scores have decreased. This could be due to the class imbalance which have been addressed by applying SMOTE. Gradient Boost Classifier seems to be the best performing model now with a train result of 0.953 and a test result of 0.938. Ada Boost Classifier seems to be severly overfitted as the difference between the train result and test result is almost 0.3.\n",
    "\n",
    "Now, let's apply GridSearchCV to further optimise the models."
   ]
  },
  {
   "cell_type": "markdown",
   "id": "f842cefb",
   "metadata": {},
   "source": [
    "**5. Optimising the models using GridSearchCV**"
   ]
  },
  {
   "cell_type": "markdown",
   "id": "5ad7af99",
   "metadata": {},
   "source": [
    "**K Nearest Neighbour**"
   ]
  },
  {
   "cell_type": "raw",
   "id": "609d5eaa",
   "metadata": {},
   "source": [
    "knn_params = {\n",
    "    'n_neighbors': [5, 10, 30, 50, 100, 200, 300],                      \n",
    "    'weights': ['distance', 'uniform'],\n",
    "    'algorithm': ['auto', 'ball_tree', 'kd_tree', 'brute'],                   \n",
    "    'leaf_size': [10, 20, 30, 50, 100],\n",
    "    'p': [1, 2]\n",
    "    }\n",
    "    \n",
    "model = GridSearchCV(KNeighborsClassifier(), knn_params, cv=5)\n",
    "\n",
    "model.fit(X_train_smote, y_train_smote)\n",
    "print(\"Best param value:\")\n",
    "print(model.best_params_)"
   ]
  },
  {
   "cell_type": "markdown",
   "id": "f3d8e9b7",
   "metadata": {},
   "source": [
    "We have ran the above code and have obtained the these as the best parameters for K Nearest Neighbour:\n",
    "\n",
    "`{'algorithm': 'auto', 'leaf_size': 20, 'n_neighbors': 5, 'p': 1, 'weights': 'distance'}`"
   ]
  },
  {
   "cell_type": "markdown",
   "id": "dafa3454",
   "metadata": {},
   "source": [
    "We will load the above parameters into K Nearest Neighbour to generate the optimised model results."
   ]
  },
  {
   "cell_type": "code",
   "execution_count": 56,
   "id": "e9f00016",
   "metadata": {},
   "outputs": [
    {
     "name": "stdout",
     "output_type": "stream",
     "text": [
      "KNN Cross Validation Score: 0.801\n",
      "KNN Test Score: 0.763\n"
     ]
    }
   ],
   "source": [
    "# Instantiate a class instance of KNN class with an initial parameter value\n",
    "knn = KNeighborsClassifier(n_neighbors=5, weights = 'distance', algorithm = 'auto', leaf_size = 20, p = 1 )\n",
    "knn.fit(X_train_smote, y_train_smote)\n",
    "\n",
    "# Derive the cross-val score for training set\n",
    "print(f'KNN Cross Validation Score: {round(cross_val_score(knn, X_train, y_train, cv=5).mean(),3)}')\n",
    "\n",
    "# Check the test score\n",
    "print(f'KNN Test Score: {round(knn.score(X_test, y_test),3)}')"
   ]
  },
  {
   "cell_type": "markdown",
   "id": "a975ae9e",
   "metadata": {},
   "source": [
    "**Random Forest Classifier**"
   ]
  },
  {
   "cell_type": "raw",
   "id": "8cd5b4b0",
   "metadata": {},
   "source": [
    "rf_params = {\n",
    "    'n_estimators':[10, 20, 50, 100, 200, 300],                     \n",
    "    'max_depth':[10, 20, 30, 40, 50, 100, 150],                         \n",
    "    'min_samples_leaf': [1, 5, 10, 20]\n",
    "    }\n",
    "\n",
    "model = GridSearchCV(RandomForestClassifier(), rf_params, cv=5)\n",
    "\n",
    "model.fit(X_train_smote, y_train_smote)\n",
    "print(\"Best param value:\")\n",
    "print(model.best_params_)"
   ]
  },
  {
   "cell_type": "markdown",
   "id": "764d774e",
   "metadata": {},
   "source": [
    "We have ran the above code and have obtained the these as the best parameters for Random Forest Classifier:\n",
    "\n",
    "`{'max_depth': 40, 'min_samples_leaf': 1, 'n_estimators': 50}`"
   ]
  },
  {
   "cell_type": "markdown",
   "id": "7aacb2dd",
   "metadata": {},
   "source": [
    "We will load the above parameters into Random Forest Classifier to generate the optimised model results."
   ]
  },
  {
   "cell_type": "code",
   "execution_count": 57,
   "id": "65ce0cdc",
   "metadata": {},
   "outputs": [
    {
     "name": "stdout",
     "output_type": "stream",
     "text": [
      "Random Forest Cross Validation Score: 0.941\n",
      "Random Forest Test Score: 0.934\n"
     ]
    }
   ],
   "source": [
    "# Train the Random Forest Model\n",
    "rfr = RandomForestClassifier(n_estimators=50, max_features=\"auto\", max_depth = 40, \n",
    "                            min_samples_leaf = 1, random_state=42)\n",
    "rf.fit(X_train_smote, y_train_smote)\n",
    "\n",
    "# Derive the cross-val score for training set\n",
    "print(f'Random Forest Cross Validation Score: {round(cross_val_score(rf, X_train, y_train, cv=5).mean(),3)}')\n",
    "\n",
    "# Check the test score\n",
    "y_pred_rf = rf.predict(X_test)\n",
    "print(f'Random Forest Test Score: {round(accuracy_score(y_test, y_pred_rf),3)}')"
   ]
  },
  {
   "cell_type": "markdown",
   "id": "5cb0477f",
   "metadata": {},
   "source": [
    "**Ada Boost Classifier**"
   ]
  },
  {
   "cell_type": "raw",
   "id": "95b226af",
   "metadata": {},
   "source": [
    "ada_params = {\n",
    "    'n_estimators':[10, 50, 100, 200, 300],                     \n",
    "    'learning_rate':[1, 2, 3, 5, 10, 20, 30]\n",
    "    }\n",
    "\n",
    "model = GridSearchCV(AdaBoostClassifier(), ada_params, cv=5)\n",
    "\n",
    "model.fit(X_train_smote, y_train_smote)\n",
    "print(\"Best param value:\")\n",
    "print(model.best_params_)"
   ]
  },
  {
   "cell_type": "markdown",
   "id": "f3ee6531",
   "metadata": {},
   "source": [
    "We have ran the above code and have obtained the these as the best parameters for Ada Boost Classifier:\n",
    "\n",
    "`{'learning_rate': 3, 'n_estimators': 300}`"
   ]
  },
  {
   "cell_type": "markdown",
   "id": "cb2e89c1",
   "metadata": {},
   "source": [
    "We will load the above parameters into Random Forest Classifier to generate the optimised model results."
   ]
  },
  {
   "cell_type": "code",
   "execution_count": 58,
   "id": "c26be2b7",
   "metadata": {},
   "outputs": [
    {
     "name": "stdout",
     "output_type": "stream",
     "text": [
      "Ada Boost Cross Validation Score: 0.843\n",
      "Ada Boost Test Score: 0.817\n"
     ]
    }
   ],
   "source": [
    "# Train the Ada Boost Model\n",
    "ab = AdaBoostClassifier(n_estimators=300, learning_rate = 3)\n",
    "ab.fit(X_train_smote, y_train_smote)\n",
    "\n",
    "# Derive the cross-val score for training set\n",
    "print(f'Ada Boost Cross Validation Score: {round(cross_val_score(ab, X_train, y_train, cv=5).mean(),3)}')\n",
    "\n",
    "# Check the test score\n",
    "y_pred_ab = ab.predict(X_test)\n",
    "print(f'Ada Boost Test Score: {round(accuracy_score(y_test, y_pred_ab),3)}')"
   ]
  },
  {
   "cell_type": "markdown",
   "id": "fded0db0",
   "metadata": {},
   "source": [
    "**Gradient Boost Classifier**"
   ]
  },
  {
   "cell_type": "raw",
   "id": "29030612",
   "metadata": {},
   "source": [
    "gb_params = {\n",
    "    'loss':['log_loss', 'exponential'],                     \n",
    "    'learning_rate': [0.1, 0.2, 0.3, 0.4],\n",
    "    'n_estimators': [100, 200, 300],\n",
    "    'subsample': [0.0, 0.5, 1]\n",
    "    }\n",
    "\n",
    "model = GridSearchCV(GradientBoostingClassifier(), gb_params, cv=5)\n",
    "\n",
    "model.fit(X_train_smote, y_train_smote)\n",
    "print(\"Best param value:\")\n",
    "print(model.best_params_)"
   ]
  },
  {
   "cell_type": "markdown",
   "id": "d9913ae0",
   "metadata": {},
   "source": [
    "We have ran the above code and have obtained the these as the best parameters for Gradient Boost Classifier:\n",
    "\n",
    "`{'learning_rate': 0.1, 'loss': 'log_loss', 'n_estimators': 200, 'subsample': 1}`"
   ]
  },
  {
   "cell_type": "markdown",
   "id": "f904b4db",
   "metadata": {},
   "source": [
    "We will load the above parameters into Gradient Boost Classifier to generate the optimised model results."
   ]
  },
  {
   "cell_type": "code",
   "execution_count": 59,
   "id": "63b5298b",
   "metadata": {},
   "outputs": [
    {
     "name": "stdout",
     "output_type": "stream",
     "text": [
      "Gradient Boost Cross Validation Score: 0.949\n",
      "Gradient Boost Test Score: 0.944\n"
     ]
    }
   ],
   "source": [
    "# Train the Gradient Boost Model\n",
    "gb = GradientBoostingClassifier(n_estimators = 200, loss = 'log_loss', subsample = 1, learning_rate = 0.1)\n",
    "gb.fit(X_train_smote, y_train_smote)\n",
    "\n",
    "# Derive the cross-val score for training set\n",
    "print(f'Gradient Boost Cross Validation Score: {round(cross_val_score(gb, X_train, y_train, cv=5).mean(),3)}')\n",
    "\n",
    "# Check the test score\n",
    "y_pred_gb = gb.predict(X_test)\n",
    "print(f'Gradient Boost Test Score: {round(accuracy_score(y_test, y_pred_gb),3)}')"
   ]
  },
  {
   "cell_type": "markdown",
   "id": "0cf00827",
   "metadata": {},
   "source": [
    "**Train-Test Summary Score (After Performing GridSearchCV):**"
   ]
  },
  {
   "cell_type": "markdown",
   "id": "30514841",
   "metadata": {},
   "source": [
    "| Model | Train Results | Test Results |\n",
    "|:--|:-:|:-:|\n",
    "|K Nearest Neighbour|0.801|0.763|\n",
    "|**<font color = blue>Random Forest Classifier</font>**|**<font color = blue>0.941</font>**|**<font color = blue>0.931</font>**|\n",
    "|Ada Boost Classifier|0.869|0.821|\n",
    "|Gradient Boost Classifier|0.949|0.944|"
   ]
  },
  {
   "cell_type": "markdown",
   "id": "3de5e164",
   "metadata": {},
   "source": [
    "After performing GridSearchCV, Gradient Boost Classifier has the best performing train and test with a result of 0.949 and 0.944 respectively. However, we would choose Random Forest Classifier as our preferred choice of model. This is because the restuls for the Random Forest Classifier is also relatively good with a train and test result of 0.941 and 0.931 respectively. However, the model takes considerably lesser time to run. Considering that we will be deploying this on a live website, a faster model will be preferred as user experience will definitely be better. Since the results are not significantly different, we would choose the slightly less accurate but faster model as our preferred choice. "
   ]
  },
  {
   "cell_type": "code",
   "execution_count": 60,
   "id": "7cb47d86",
   "metadata": {},
   "outputs": [],
   "source": [
    "# Save out the Random Forest Classifier model\n",
    "pickle.dump(rf, open('model.pkl', 'wb'))"
   ]
  },
  {
   "cell_type": "code",
   "execution_count": 61,
   "id": "dde3b855",
   "metadata": {},
   "outputs": [],
   "source": [
    "# Save out all the card's dictionaries\n",
    "pickle.dump(questionaire, open('../pickles/questionaire.pkl', 'wb'))\n",
    "pickle.dump(hsbc_advance_less_than_2000, open('../pickles/hsbc_advance_less_than_2000.pkl', 'wb'))\n",
    "pickle.dump(hsbc_advance, open('../pickles/hsbc_advance.pkl', 'wb'))\n",
    "pickle.dump(posb_everyday_cashback, open('../pickles/posb_everyday_cashback.pkl', 'wb'))\n",
    "pickle.dump(sc_spree_card, open('../pickles/sc_spree_card.pkl', 'wb'))\n",
    "pickle.dump(uob_one_500, open('../pickles/uob_one_500.pkl', 'wb'))\n",
    "pickle.dump(uob_one_1000, open('../pickles/uob_one_1000.pkl', 'wb'))\n",
    "pickle.dump(uob_one_2000, open('../pickles/uob_one_2000.pkl', 'wb'))\n",
    "pickle.dump(citi_rewards_miles, open('../pickles/citi_rewards_miles.pkl', 'wb'))\n",
    "pickle.dump(uob_prvi_miles, open('../pickles/uob_prvi_miles.pkl', 'wb'))\n",
    "pickle.dump(dbs_altitude_visa_miles, open('../pickles/dbs_altitude_visa_miles.pkl', 'wb'))\n",
    "pickle.dump(dbs_womans_world_miles, open('../pickles/dbs_womans_world_miles.pkl', 'wb'))"
   ]
  },
  {
   "cell_type": "markdown",
   "id": "6846159a",
   "metadata": {},
   "source": [
    "## Conclusions and Recommendations"
   ]
  },
  {
   "cell_type": "markdown",
   "id": "7f71aa9b",
   "metadata": {},
   "source": [
    "### Key Takeaways\n",
    "- Recommender deployed successfully on https://keycards.herokuapp.com/\n",
    "- The recommender is fuss free way to select the best suited credit cards. The recommender uses a Random Forest Model with a model accuracy of 94%.\n",
    "- Besides card return, customers service is also quite an important factor when determining a good credit card"
   ]
  },
  {
   "cell_type": "markdown",
   "id": "7bce4c64",
   "metadata": {},
   "source": [
    "### Limitations and Future Enhancements"
   ]
  },
  {
   "cell_type": "markdown",
   "id": "d709f7fe",
   "metadata": {},
   "source": [
    "- Analysis is only limited to all the reviews that have been successfully scrapped. Suggest extracting reviews from other sites as well.\n",
    "- Recommender only has 8 cards at the moment. To include more credit cards in the future.\n",
    "- Recommender could be scaled to include credit cards for other countries."
   ]
  }
 ],
 "metadata": {
  "kernelspec": {
   "display_name": "Python 3 (ipykernel)",
   "language": "python",
   "name": "python3"
  },
  "language_info": {
   "codemirror_mode": {
    "name": "ipython",
    "version": 3
   },
   "file_extension": ".py",
   "mimetype": "text/x-python",
   "name": "python",
   "nbconvert_exporter": "python",
   "pygments_lexer": "ipython3",
   "version": "3.9.12"
  }
 },
 "nbformat": 4,
 "nbformat_minor": 5
}
